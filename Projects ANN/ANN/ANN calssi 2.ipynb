{
 "cells": [
  {
   "cell_type": "code",
   "execution_count": 188,
   "id": "6d4de18c",
   "metadata": {},
   "outputs": [],
   "source": [
    "import tensorflow as tf"
   ]
  },
  {
   "cell_type": "code",
   "execution_count": 189,
   "id": "f3ccd023",
   "metadata": {},
   "outputs": [],
   "source": [
    "from sklearn.datasets import make_circles\n",
    "# Make 1000 examples\n",
    "n_samples = 1000\n",
    "# Create circles\n",
    "x, y = make_circles(n_samples, noise=0.03, random_state=42)"
   ]
  },
  {
   "cell_type": "code",
   "execution_count": 190,
   "id": "ee3a8389",
   "metadata": {
    "scrolled": true
   },
   "outputs": [
    {
     "data": {
      "text/plain": [
       "array([[ 0.75424625,  0.23148074],\n",
       "       [-0.75615888,  0.15325888],\n",
       "       [-0.81539193,  0.17328203],\n",
       "       ...,\n",
       "       [-0.13690036, -0.81001183],\n",
       "       [ 0.67036156, -0.76750154],\n",
       "       [ 0.28105665,  0.96382443]])"
      ]
     },
     "execution_count": 190,
     "metadata": {},
     "output_type": "execute_result"
    }
   ],
   "source": [
    "x"
   ]
  },
  {
   "cell_type": "code",
   "execution_count": 191,
   "id": "08c6f0c5",
   "metadata": {},
   "outputs": [
    {
     "data": {
      "text/plain": [
       "array([ 7.54246251e-01, -7.56158882e-01, -8.15391934e-01, -3.93730729e-01,\n",
       "        4.42207645e-01, -4.79646368e-01, -1.36483595e-02,  7.71513274e-01,\n",
       "       -1.69322340e-01, -1.21485796e-01, -6.42490416e-01,  5.69466604e-01,\n",
       "       -1.17735911e-01,  7.34100038e-01,  6.00776333e-01,  1.90225707e-01,\n",
       "       -9.36951846e-01,  1.07061696e-01, -8.18913619e-01, -6.42100130e-01,\n",
       "        6.26827199e-01, -5.62291360e-01, -2.12666579e-02,  7.39770578e-01,\n",
       "       -9.09048393e-01, -9.36994111e-01,  2.86615780e-01,  8.26260717e-01,\n",
       "        2.53433397e-01,  6.57946255e-01, -3.14834779e-01, -2.23989601e-01,\n",
       "        8.44389246e-03,  1.00503887e+00, -8.95158198e-02, -7.88574473e-01,\n",
       "       -5.68205362e-01,  4.47646782e-01,  2.63260719e-01,  7.45020435e-01,\n",
       "       -5.97118971e-01,  3.61928379e-01, -7.14242507e-01,  8.33839377e-01,\n",
       "       -8.33981856e-01, -9.10860642e-01,  4.87625557e-01,  2.30736878e-01,\n",
       "        7.58412791e-01, -4.12746839e-01,  4.76176622e-01,  3.99958509e-02,\n",
       "       -9.66328252e-01,  4.77914289e-01,  9.28006024e-01,  9.05803169e-01,\n",
       "        8.03103454e-02,  9.71787715e-01, -9.57805254e-01, -5.13384512e-01,\n",
       "       -7.60430235e-01,  8.20119770e-01,  6.28787434e-01, -9.05509606e-01,\n",
       "        2.17368473e-01, -6.01249255e-01, -3.33709857e-01, -1.01141837e-01,\n",
       "        6.51983470e-01,  6.83344690e-01,  2.03136658e-01,  9.99095982e-01,\n",
       "        3.55637759e-01, -8.05409494e-01, -8.39507500e-01, -8.75251666e-01,\n",
       "       -2.16863718e-01,  8.62574227e-01,  2.99599238e-01, -7.91496418e-01,\n",
       "       -4.62680094e-01,  6.98023355e-01, -9.13655674e-01,  6.13407785e-01,\n",
       "       -6.27431075e-01,  6.48754626e-01,  8.64404538e-01, -7.38209836e-01,\n",
       "       -8.38085000e-01, -6.16156739e-01,  1.48018418e-01,  8.02264819e-01,\n",
       "        8.18238141e-01, -9.50344584e-01, -7.19816184e-01,  7.05161724e-01,\n",
       "       -7.98091860e-01,  4.05352267e-01,  6.56929513e-01, -4.21818805e-01,\n",
       "       -7.10865768e-01, -2.34602142e-01,  5.57782269e-01, -9.78931894e-01,\n",
       "       -1.00426681e-01, -2.39885914e-01,  6.12204652e-01,  7.01542366e-01,\n",
       "       -4.55188713e-01,  3.56159992e-01,  7.65979215e-01, -5.18977666e-01,\n",
       "        7.32943793e-01, -5.79846683e-01,  5.02640993e-01,  6.81086711e-01,\n",
       "       -6.36744750e-01,  7.56009808e-01,  6.82288221e-01, -8.26439940e-01,\n",
       "        1.83004880e-01,  6.21657335e-01, -7.29036645e-01, -1.03426950e+00,\n",
       "       -1.01796049e+00,  5.82179676e-01,  4.15275673e-01,  7.50995698e-01,\n",
       "       -5.42564212e-02, -6.87697503e-01,  2.78156876e-01, -2.20059759e-01,\n",
       "       -9.97582978e-01,  8.26016208e-01,  6.97008544e-01,  7.44334324e-01,\n",
       "        5.37797049e-02, -9.35010529e-01,  8.93046167e-01,  5.85742271e-01,\n",
       "        8.46022790e-01, -9.29997790e-01, -7.12450067e-01, -9.72176017e-01,\n",
       "        1.63890599e-01,  3.93224450e-01, -5.98053973e-01, -1.00836088e+00,\n",
       "       -4.70410495e-01, -6.17382804e-01, -2.00572931e-01, -3.32185145e-01,\n",
       "        7.41614129e-01,  6.16815311e-01,  6.06315467e-01,  8.62619755e-01,\n",
       "       -7.89969527e-01, -6.02507721e-01,  7.03741363e-01,  1.11127939e-01,\n",
       "        1.90075377e-01, -7.45645657e-01, -1.97917021e-01, -2.96395484e-01,\n",
       "       -9.30659047e-02, -3.83561728e-01, -8.11364070e-01, -5.61174721e-01,\n",
       "       -6.63397681e-01, -7.48444367e-01, -1.86132760e-01,  9.44695429e-01,\n",
       "        1.99928891e-01,  7.85597731e-01,  1.00909692e+00, -1.49486326e-01,\n",
       "       -9.76137829e-01, -9.48757298e-01, -6.27194903e-01, -4.70203568e-01,\n",
       "        1.03342836e+00, -4.23395061e-01,  1.95389236e-02,  7.46789926e-01,\n",
       "       -3.48798409e-01, -1.64629545e-01, -2.37676819e-01, -1.29264386e-01,\n",
       "        6.18716625e-01, -8.50966642e-01,  5.98296238e-01, -4.17656387e-01,\n",
       "       -2.70167681e-01, -8.08239368e-01, -8.97279133e-01,  3.66088642e-01,\n",
       "       -4.87502878e-01, -8.85249575e-01,  1.22406658e-01,  5.85390699e-01,\n",
       "        9.49493997e-01,  7.31951723e-01, -5.95179128e-01,  6.17198975e-01,\n",
       "       -4.04894209e-01,  3.22605556e-01, -5.12675199e-01,  4.22800965e-01,\n",
       "        9.57278593e-01, -5.00548959e-01,  6.36804967e-01, -2.18748132e-01,\n",
       "        4.61921237e-01, -4.59006206e-01, -2.20331258e-01, -4.94468984e-01,\n",
       "       -3.65399204e-01, -1.00064635e+00,  3.05199276e-01, -6.19077945e-01,\n",
       "       -7.54766579e-01, -8.10173602e-01,  7.52769629e-01,  8.10968892e-01,\n",
       "        2.14535514e-01,  1.02935067e+00,  6.65991701e-01, -3.00751678e-01,\n",
       "        3.39488907e-01,  7.31322096e-01, -3.97162994e-01,  8.01163121e-01,\n",
       "        9.65693139e-01,  4.82268511e-01,  9.04155524e-01,  8.94129919e-01,\n",
       "       -9.53071136e-01,  8.04023450e-01, -7.73937548e-01, -5.37458018e-01,\n",
       "        9.84221801e-01, -8.04796657e-01,  8.15637840e-01, -7.09001346e-01,\n",
       "       -8.09296717e-01,  1.96548223e-01,  5.88435421e-01,  5.91283896e-01,\n",
       "        5.08713138e-01, -8.58101147e-01,  5.26488299e-01,  8.04603052e-01,\n",
       "       -7.55347717e-01,  1.84497286e-01,  2.17986469e-01, -6.42597339e-01,\n",
       "        7.88533788e-01,  4.18400667e-01,  4.78732107e-01,  9.51349769e-01,\n",
       "       -8.40160112e-01,  8.97049539e-01,  3.64110649e-01, -1.00500668e+00,\n",
       "       -1.98858391e-01, -3.38456787e-02, -6.47946409e-01,  5.36912657e-02,\n",
       "       -7.00678678e-02,  7.67783591e-02,  9.88187222e-01,  8.21513649e-02,\n",
       "        2.29550689e-01, -9.95819722e-01,  7.62810036e-01,  9.30583745e-01,\n",
       "       -8.04596314e-01,  1.90207511e-01,  5.33471705e-01, -7.00000318e-01,\n",
       "        3.84080367e-01, -6.65403348e-01, -9.61572460e-01, -8.89774305e-01,\n",
       "       -8.76364247e-01, -7.64492753e-01, -2.32397773e-01,  7.78418135e-01,\n",
       "       -9.28367512e-01,  6.57431596e-01,  6.39701931e-01, -7.20565994e-01,\n",
       "        8.31344439e-01,  9.21049240e-01, -1.23944469e-01,  9.23846846e-01,\n",
       "        5.09297007e-01,  5.91304708e-01,  9.49551797e-01, -4.06918912e-01,\n",
       "        7.01237818e-01,  7.61658573e-01,  9.07054001e-01,  5.58649880e-01,\n",
       "       -7.64614414e-01,  6.06551261e-01, -4.49365801e-01,  5.31916733e-01,\n",
       "        5.60665439e-01,  5.25228923e-01,  2.98156376e-01,  7.42810593e-01,\n",
       "        3.94022525e-01, -6.56894303e-01,  7.36627304e-01,  8.76031426e-01,\n",
       "       -9.80127379e-01, -2.89047306e-01, -7.98698126e-01, -8.32737654e-01,\n",
       "        5.51208633e-01, -2.43096821e-01, -8.11359296e-01, -1.59933061e-02,\n",
       "       -7.18207827e-01,  7.89208866e-01, -3.87917323e-01,  1.01676984e+00,\n",
       "       -7.14092678e-01, -7.79467581e-02, -6.40389671e-01, -6.65721833e-01,\n",
       "       -7.43802762e-01,  2.64854143e-02,  1.01573088e+00, -6.85956037e-01,\n",
       "       -6.44058052e-01,  6.18368281e-01,  1.36326620e-02,  7.45616983e-01,\n",
       "        9.70958043e-01,  3.13343314e-01, -5.27584098e-01,  9.08056047e-03,\n",
       "        1.87807620e-01,  5.02803416e-01,  6.17595397e-01,  2.52943125e-01,\n",
       "        4.07124743e-01,  6.07179107e-01, -6.33177172e-01, -9.90042642e-01,\n",
       "        2.19801847e-01,  6.39241005e-01, -8.67290743e-01, -1.05047577e-01,\n",
       "       -8.36465766e-01,  6.25076654e-01, -5.38152419e-01, -2.52516270e-01,\n",
       "        5.69458852e-01,  4.30917049e-01, -1.47808611e-01,  7.93192915e-01,\n",
       "       -4.55591851e-01,  9.06616028e-01, -7.87946062e-01, -7.51635789e-01,\n",
       "        1.37194204e-01, -1.63343115e-01, -5.00084918e-01, -6.67923171e-01,\n",
       "       -1.98926571e-01, -5.80426565e-01,  1.01421213e+00, -8.13635075e-01,\n",
       "        9.26390287e-01,  5.76833020e-01,  3.42139508e-01, -5.68874372e-01,\n",
       "       -9.14705416e-01, -2.68202278e-01, -7.66910293e-01, -9.91006439e-01,\n",
       "       -9.14543756e-01,  3.99742892e-01,  7.13351864e-01, -7.93522140e-02,\n",
       "        8.09895142e-01, -7.92887147e-01, -7.05207109e-01,  8.53274284e-01,\n",
       "       -6.33786568e-01,  2.21080601e-01,  3.59177174e-01,  7.16413552e-01,\n",
       "        3.83110362e-01,  7.14621960e-01, -8.00762112e-01,  7.84218341e-01,\n",
       "        9.91098824e-01,  9.41600478e-01,  7.04936267e-01,  7.28314821e-01,\n",
       "        9.61739640e-02, -6.06688640e-01,  4.48500799e-01, -5.07187956e-01,\n",
       "        7.65775186e-01,  8.31953419e-01,  7.14803132e-01,  4.02416825e-01,\n",
       "       -7.31515069e-01, -9.50294541e-01, -5.80783589e-01, -7.03695624e-01,\n",
       "       -4.82951564e-01, -4.03255317e-01,  7.60406695e-01,  7.50549728e-01,\n",
       "        9.77186274e-01, -7.30731128e-01,  9.84376966e-01,  5.01193823e-01,\n",
       "        6.36584344e-01, -7.99537535e-02,  4.90080912e-01,  7.28785331e-01,\n",
       "       -1.53561108e-01, -9.43813739e-01, -9.42404723e-01, -1.78945928e-01,\n",
       "       -2.41590883e-01,  8.33493743e-01, -8.95065297e-01,  1.01102578e+00,\n",
       "       -6.82197852e-01, -7.11465713e-02,  4.24181568e-02,  4.81346942e-02,\n",
       "       -9.25607259e-01,  4.79773357e-01,  7.50135305e-01, -3.15930934e-01,\n",
       "        6.84586126e-01,  4.36678508e-01, -4.38774287e-02, -5.71247017e-01,\n",
       "       -4.16566994e-01, -4.44026919e-01,  3.82571787e-01,  4.27660641e-03,\n",
       "        2.25185126e-01, -4.44746558e-01, -9.30671887e-01, -1.47260400e-01,\n",
       "        1.54607838e-01, -4.10280139e-01, -1.86713458e-02,  4.40869175e-01,\n",
       "        6.22758619e-01,  1.88865063e-01,  2.74075521e-01,  7.27428100e-01,\n",
       "        1.71942068e-01,  2.69180998e-01,  9.42945937e-02,  4.89997515e-01,\n",
       "        7.36329649e-01,  8.75198365e-01,  3.63410105e-01,  4.53339205e-01,\n",
       "        5.44935650e-01,  4.42549262e-01, -4.04276386e-01,  7.94714866e-01,\n",
       "        4.92954945e-01,  5.81737369e-01,  1.80208223e-01,  3.12887650e-01,\n",
       "        1.73495509e-01,  4.08213870e-01,  9.07254540e-01,  2.47887633e-01,\n",
       "        7.06895120e-01,  8.71928444e-01,  8.69618852e-01, -4.90540173e-01,\n",
       "       -5.14111567e-01,  1.03371175e+00,  4.60120731e-02,  2.38113893e-01,\n",
       "       -8.40051855e-01,  2.93183688e-01,  5.41026038e-01, -5.86870695e-01,\n",
       "        7.51377604e-01,  4.86964010e-01, -8.35748060e-02,  7.64515485e-02,\n",
       "       -5.96077672e-01, -5.80924988e-01,  2.59333242e-01,  3.61551897e-01,\n",
       "       -6.75416838e-01,  6.71754086e-01, -5.29615573e-01,  7.51532719e-02,\n",
       "        6.71680660e-01, -8.15719176e-01, -9.93084281e-01,  6.57624185e-01,\n",
       "       -4.74341353e-01,  1.00335945e+00, -6.01191462e-01, -7.69422610e-01,\n",
       "       -9.72045843e-01, -6.67686081e-01,  7.84214300e-01,  9.37775077e-01,\n",
       "       -2.49301711e-01, -3.75193021e-01, -1.09493410e-01, -4.34645529e-01,\n",
       "        6.58440423e-01,  6.38774154e-01, -4.40888776e-01, -8.44047306e-01,\n",
       "        2.86345700e-03,  3.70050864e-01,  6.38669709e-01,  6.37168537e-01,\n",
       "        1.12976002e-02, -9.31376982e-01, -2.68965262e-01,  6.31948967e-01,\n",
       "       -3.55457125e-01,  5.97309410e-01, -7.76697832e-01,  7.80962714e-01,\n",
       "       -7.40739079e-01, -9.34229976e-01, -9.45280148e-01,  9.31762891e-01,\n",
       "        1.11238839e-01,  6.39045477e-01,  8.13883102e-01, -5.06801640e-01,\n",
       "        3.60977669e-01,  1.24481803e-02,  1.04889980e-01,  9.26595314e-01,\n",
       "       -5.94461637e-01,  7.48265521e-01, -1.42254589e-01,  3.64452202e-01,\n",
       "       -5.96879468e-02, -9.66575191e-01,  8.71990045e-01, -3.56613948e-01,\n",
       "       -7.69531508e-01,  8.53724513e-01, -4.18343028e-01, -7.79522231e-01,\n",
       "       -9.32449659e-01,  7.45141535e-01, -4.75190172e-01, -7.81197375e-01,\n",
       "       -4.29326453e-01,  7.44459292e-01, -3.14000125e-01, -7.31537327e-03,\n",
       "       -6.96616468e-01,  7.63463526e-01, -2.76042632e-01,  4.87482751e-01,\n",
       "       -2.00834071e-01,  9.65616710e-01,  2.84979579e-01, -1.52758572e-02,\n",
       "       -5.96148005e-01,  9.13548274e-01, -5.59150016e-01, -6.79337026e-01,\n",
       "       -6.33115613e-01,  3.99554601e-01,  6.86083768e-01, -9.13941001e-04,\n",
       "        8.92361302e-01, -5.80197148e-01, -1.00365275e+00, -4.52156320e-01,\n",
       "       -4.15955228e-01, -7.93110314e-01, -1.42945805e-01, -3.36630461e-01,\n",
       "       -8.83655990e-01,  2.00694295e-01,  4.61088768e-01, -8.45098197e-01,\n",
       "        1.00877144e+00, -1.22807066e-02, -5.90785536e-01, -9.75997588e-01,\n",
       "       -3.10605260e-01,  6.97510562e-01, -7.18542716e-01,  1.33287899e-01,\n",
       "        1.09883603e-01,  1.34898226e-01, -5.93202308e-01, -7.74992891e-01,\n",
       "       -7.31732976e-01, -6.73855142e-01, -7.84824995e-01, -5.76602624e-01,\n",
       "        7.64607673e-01,  7.94541527e-01,  8.28256411e-01,  9.13054443e-01,\n",
       "        3.28334563e-01, -4.04561328e-01, -2.44239104e-01, -5.32833346e-01,\n",
       "        9.53025074e-01,  7.86221089e-01,  8.56066985e-01,  7.61867538e-01,\n",
       "        5.94495423e-01,  7.62455251e-01,  6.32239468e-01,  9.71689485e-01,\n",
       "       -9.15797913e-01, -7.48158833e-01, -2.12269468e-02, -9.26116038e-01,\n",
       "        9.70258952e-01,  6.97659863e-01,  7.06996000e-01,  6.31822747e-01,\n",
       "       -1.62759107e-01, -9.92026076e-01,  9.39483379e-01,  7.39219365e-01,\n",
       "        2.42261144e-02,  9.60362460e-01,  7.38394660e-01, -2.35767439e-01,\n",
       "       -6.68271902e-01, -3.82413386e-01, -6.82099215e-01, -2.67454912e-01,\n",
       "       -8.45684323e-02,  8.13560933e-01,  7.95268280e-01, -4.56976957e-01,\n",
       "        4.29142390e-01,  7.52027529e-01, -5.02962454e-01,  2.67255420e-01,\n",
       "       -2.85250150e-01, -6.70857169e-01,  7.89309240e-01, -8.27353510e-01,\n",
       "        1.76510415e-01, -9.97244597e-01, -5.73746719e-01,  3.06261006e-01,\n",
       "        4.97527641e-01,  5.81916265e-01, -8.01379100e-01,  3.76727922e-01,\n",
       "       -7.46885042e-01, -4.78444858e-01,  2.12133629e-02,  7.83485410e-01,\n",
       "       -3.13756314e-01,  2.98452928e-01,  6.32279332e-01, -8.52027650e-01,\n",
       "       -2.75140709e-01, -3.19673614e-01, -8.22823456e-01,  9.57107372e-01,\n",
       "       -6.01567636e-01,  9.28247902e-01,  8.18376708e-01, -2.62913501e-01,\n",
       "       -9.90533620e-01, -7.27467694e-01, -8.12427000e-01,  5.01248761e-01,\n",
       "       -2.56315622e-02, -7.71644909e-01,  1.48915092e-01, -1.00861631e+00,\n",
       "        1.46166518e-01, -8.31000054e-01,  4.78362134e-01, -3.52458686e-01,\n",
       "       -6.91315539e-01, -1.42690914e-01,  2.21496844e-01,  6.83032283e-01,\n",
       "        1.22673188e-01,  1.02362593e+00, -2.77009565e-01, -1.90844174e-01,\n",
       "       -6.85109279e-01,  5.46203580e-01, -8.04667956e-01, -2.97138789e-01,\n",
       "       -3.59650042e-01,  8.77773024e-01, -5.72333972e-01, -6.81011911e-01,\n",
       "        4.60431811e-02, -2.00826452e-01,  1.46594053e-01, -2.48878001e-01,\n",
       "        6.41930735e-01, -7.92019863e-01,  1.62971600e-01, -9.33423219e-01,\n",
       "       -8.71424725e-01,  3.52667631e-01,  3.23138684e-02, -6.70852799e-01,\n",
       "       -8.53473493e-01,  7.37723253e-01, -1.00338469e+00,  4.73401939e-01,\n",
       "        4.79044813e-01, -7.83462918e-01,  2.54235715e-01, -4.11043128e-01,\n",
       "        1.20419400e-01,  1.53803467e-02, -1.39647888e-01,  2.99658945e-01,\n",
       "       -7.02783598e-01, -7.67769076e-01, -8.20498565e-01,  3.45499802e-01,\n",
       "       -9.80077442e-01, -1.49710824e-01,  3.66617238e-01, -7.71094460e-01,\n",
       "       -6.35707507e-01,  4.11950442e-01,  3.19133758e-02,  2.07698142e-02,\n",
       "       -7.98479598e-01,  1.31002465e-01,  7.49020658e-01,  8.41952407e-01,\n",
       "       -9.61600813e-01, -5.11899561e-01,  7.05851507e-01,  1.00483604e+00,\n",
       "        1.49493870e-01, -5.77772743e-01, -1.05950246e+00, -1.03505906e-01,\n",
       "        1.37279681e-01, -4.00061823e-01, -3.70299602e-02,  7.66187671e-01,\n",
       "       -3.30515741e-01, -9.48139884e-01, -7.46121826e-01, -4.40086230e-01,\n",
       "       -6.33756589e-01, -1.81575417e-01,  4.31548081e-01,  2.01660925e-01,\n",
       "       -7.48462447e-01, -2.57766683e-01, -1.00149209e+00, -7.74357729e-01,\n",
       "       -2.24252481e-02, -5.41391056e-02, -8.59694608e-01,  4.41744119e-02,\n",
       "        1.16479089e-01, -9.54229159e-01,  6.93902323e-01, -6.19769455e-01,\n",
       "        9.68393933e-01, -3.24536326e-01,  7.30216495e-01, -1.51893311e-01,\n",
       "        7.67054727e-01,  5.44432177e-01,  2.73648332e-01,  7.63741694e-02,\n",
       "       -2.05123737e-01, -6.48894671e-01, -1.88787472e-01, -2.73331426e-01,\n",
       "        6.19725230e-01,  6.47077518e-01,  4.18714630e-01, -6.56306805e-01,\n",
       "        4.73864310e-01, -9.85049067e-01, -6.67864722e-01, -4.13239724e-01,\n",
       "        7.64005728e-01,  8.88928919e-01,  7.26291194e-01, -4.70197299e-01,\n",
       "       -3.02040508e-01,  1.43882577e-01, -1.65980756e-01, -2.74275495e-01,\n",
       "        5.97240716e-01, -8.03313695e-01,  3.73006885e-01,  5.78581224e-01,\n",
       "       -9.91314270e-01, -7.98507508e-01,  4.49479335e-01, -5.41400737e-01,\n",
       "        8.83271359e-01,  6.28840199e-01,  1.48664384e-01, -8.32135725e-01,\n",
       "        1.91136969e-01, -6.66708431e-01,  2.68337155e-01, -7.84476515e-01,\n",
       "       -2.90140757e-01, -9.37980939e-01,  9.58413522e-01, -7.72196141e-01,\n",
       "       -1.66590085e-01,  5.37911855e-01,  1.42304056e-01, -7.49560103e-01,\n",
       "        6.48719998e-01, -8.06633343e-01, -5.26392378e-01,  2.86612116e-01,\n",
       "       -6.06292917e-01, -7.90970708e-01,  5.09722455e-01,  4.22110623e-01,\n",
       "        7.88920609e-01,  8.42866741e-01,  9.03710211e-01, -7.58450100e-01,\n",
       "       -3.49358366e-01, -7.71048108e-01, -1.27213402e-01,  9.74101955e-01,\n",
       "        2.16670514e-02, -9.65299043e-01,  9.73275263e-01, -7.48915033e-01,\n",
       "        1.57447806e-02, -9.19034489e-01,  5.50960741e-01, -4.69610083e-01,\n",
       "        1.67841066e-01,  3.48233048e-01,  9.85876287e-01, -1.18845209e-01,\n",
       "        6.93582899e-01,  9.88393887e-01, -2.03952409e-01, -2.06357759e-02,\n",
       "        7.16237700e-01,  8.03978331e-01, -3.57706735e-01,  6.41233647e-01,\n",
       "        7.26111568e-01, -5.44746356e-01,  1.01718826e+00, -3.92458102e-01,\n",
       "        8.60227906e-01,  9.55977518e-01,  8.19905296e-02, -6.83641624e-01,\n",
       "       -8.61086988e-01, -8.96480476e-01, -7.17521830e-01,  7.92181729e-01,\n",
       "        5.33760900e-02, -4.53783638e-01, -7.45170656e-01, -7.47200072e-01,\n",
       "       -7.50369533e-01, -8.74219676e-01, -6.86585640e-01, -9.88623824e-01,\n",
       "       -7.83373387e-01,  9.15638586e-01,  8.46420331e-01,  7.68915407e-01,\n",
       "       -5.10144264e-01, -9.35772776e-02, -9.92187919e-01, -8.37448887e-01,\n",
       "       -3.82715448e-01,  6.03443459e-01, -7.56073608e-01,  3.62561332e-01,\n",
       "       -6.94389949e-01,  1.00047472e+00, -5.10981035e-01, -7.87517580e-01,\n",
       "        2.08840439e-01,  5.93045624e-01,  1.55740340e-01,  9.66673320e-01,\n",
       "        5.37264513e-01,  7.27197906e-01,  6.04700610e-01,  5.38454142e-01,\n",
       "       -8.46829454e-01,  9.16025789e-01, -7.15887736e-01,  8.31658156e-01,\n",
       "        5.60680914e-01,  8.57196083e-01, -1.19303696e-01,  4.64305094e-01,\n",
       "       -4.63052738e-01,  2.19674941e-01,  5.45109099e-01, -3.71417638e-01,\n",
       "       -7.69240144e-01, -1.01954304e+00,  9.96182154e-01, -7.32711059e-01,\n",
       "        2.97537483e-01,  1.50699815e-01, -9.11474596e-01, -4.68501412e-01,\n",
       "       -3.29847942e-01,  7.75002669e-01, -1.57522781e-01, -4.76819300e-01,\n",
       "        9.92091356e-01,  7.32853942e-01,  8.41500178e-01, -4.15509603e-01,\n",
       "       -1.00168483e+00,  5.44881204e-01, -5.15338229e-02,  5.93538892e-01,\n",
       "       -5.21713702e-01, -6.56067531e-01, -7.11264182e-01, -6.89714581e-01,\n",
       "        9.67206237e-01, -5.32016301e-01,  7.72980162e-01,  7.69736226e-01,\n",
       "        9.54660115e-01,  6.35651628e-01, -2.10176344e-01, -7.83150446e-01,\n",
       "       -9.95612632e-01,  9.44550900e-01, -7.32884387e-01,  8.73171927e-01,\n",
       "       -4.90123373e-01, -9.15629207e-01,  6.55420221e-01, -7.71879264e-01,\n",
       "        1.46562326e-01, -5.84464292e-01,  4.17559641e-01,  1.00614152e+00,\n",
       "       -3.86129134e-01, -7.88987433e-01, -7.79031849e-01, -3.79326878e-01,\n",
       "       -9.39010466e-02, -3.64300740e-01, -4.86260440e-02,  2.97553921e-01,\n",
       "       -3.45176983e-02,  4.17051143e-01,  8.59540813e-01, -5.57936380e-01,\n",
       "       -8.96028730e-01,  8.47342754e-01,  9.04953411e-02,  1.42810033e-01,\n",
       "        9.68596526e-01, -6.16756753e-01,  6.44157727e-01,  2.44054100e-01,\n",
       "       -9.78655091e-01, -1.36900360e-01,  6.70361563e-01,  2.81056652e-01])"
      ]
     },
     "execution_count": 191,
     "metadata": {},
     "output_type": "execute_result"
    }
   ],
   "source": [
    "x[:,0]"
   ]
  },
  {
   "cell_type": "code",
   "execution_count": 192,
   "id": "98b9699c",
   "metadata": {},
   "outputs": [
    {
     "data": {
      "text/plain": [
       "array([1, 1, 1, 1, 0, 1, 1, 1, 1, 0], dtype=int64)"
      ]
     },
     "execution_count": 192,
     "metadata": {},
     "output_type": "execute_result"
    }
   ],
   "source": [
    "y[:10]"
   ]
  },
  {
   "cell_type": "code",
   "execution_count": 193,
   "id": "485be47c",
   "metadata": {},
   "outputs": [],
   "source": [
    "import pandas as pd\n",
    "df = pd.DataFrame({\"X0\" : x[:,0],\n",
    "                   \"X1\" : x[:,1],\n",
    "                   \"label\" : y\n",
    "                  })"
   ]
  },
  {
   "cell_type": "code",
   "execution_count": 194,
   "id": "f48a5be4",
   "metadata": {},
   "outputs": [
    {
     "data": {
      "text/html": [
       "<div>\n",
       "<style scoped>\n",
       "    .dataframe tbody tr th:only-of-type {\n",
       "        vertical-align: middle;\n",
       "    }\n",
       "\n",
       "    .dataframe tbody tr th {\n",
       "        vertical-align: top;\n",
       "    }\n",
       "\n",
       "    .dataframe thead th {\n",
       "        text-align: right;\n",
       "    }\n",
       "</style>\n",
       "<table border=\"1\" class=\"dataframe\">\n",
       "  <thead>\n",
       "    <tr style=\"text-align: right;\">\n",
       "      <th></th>\n",
       "      <th>X0</th>\n",
       "      <th>X1</th>\n",
       "      <th>label</th>\n",
       "    </tr>\n",
       "  </thead>\n",
       "  <tbody>\n",
       "    <tr>\n",
       "      <th>0</th>\n",
       "      <td>0.754246</td>\n",
       "      <td>0.231481</td>\n",
       "      <td>1</td>\n",
       "    </tr>\n",
       "    <tr>\n",
       "      <th>1</th>\n",
       "      <td>-0.756159</td>\n",
       "      <td>0.153259</td>\n",
       "      <td>1</td>\n",
       "    </tr>\n",
       "    <tr>\n",
       "      <th>2</th>\n",
       "      <td>-0.815392</td>\n",
       "      <td>0.173282</td>\n",
       "      <td>1</td>\n",
       "    </tr>\n",
       "    <tr>\n",
       "      <th>3</th>\n",
       "      <td>-0.393731</td>\n",
       "      <td>0.692883</td>\n",
       "      <td>1</td>\n",
       "    </tr>\n",
       "    <tr>\n",
       "      <th>4</th>\n",
       "      <td>0.442208</td>\n",
       "      <td>-0.896723</td>\n",
       "      <td>0</td>\n",
       "    </tr>\n",
       "  </tbody>\n",
       "</table>\n",
       "</div>"
      ],
      "text/plain": [
       "         X0        X1  label\n",
       "0  0.754246  0.231481      1\n",
       "1 -0.756159  0.153259      1\n",
       "2 -0.815392  0.173282      1\n",
       "3 -0.393731  0.692883      1\n",
       "4  0.442208 -0.896723      0"
      ]
     },
     "execution_count": 194,
     "metadata": {},
     "output_type": "execute_result"
    }
   ],
   "source": [
    "df.head()"
   ]
  },
  {
   "cell_type": "code",
   "execution_count": 195,
   "id": "3c182574",
   "metadata": {},
   "outputs": [
    {
     "data": {
      "text/plain": [
       "1    500\n",
       "0    500\n",
       "Name: label, dtype: int64"
      ]
     },
     "execution_count": 195,
     "metadata": {},
     "output_type": "execute_result"
    }
   ],
   "source": [
    "df[\"label\"].value_counts()"
   ]
  },
  {
   "cell_type": "code",
   "execution_count": 196,
   "id": "9bbe597a",
   "metadata": {
    "scrolled": true
   },
   "outputs": [
    {
     "data": {
      "text/plain": [
       "<matplotlib.collections.PathCollection at 0x1b5c4ebfc70>"
      ]
     },
     "execution_count": 196,
     "metadata": {},
     "output_type": "execute_result"
    },
    {
     "data": {
      "image/png": "[encoded data removed]",
      "text/plain": [
       "<Figure size 420x280 with 1 Axes>"
      ]
     },
     "metadata": {
      "needs_background": "light"
     },
     "output_type": "display_data"
    }
   ],
   "source": [
    "import matplotlib.pyplot as plt\n",
    "plt.figure(dpi=70)\n",
    "plt.scatter(x[:,0] , x[:,1] , c=y)"
   ]
  },
  {
   "cell_type": "code",
   "execution_count": 197,
   "id": "e37cc10d",
   "metadata": {},
   "outputs": [
    {
     "data": {
      "text/plain": [
       "((1000, 2), (1000,))"
      ]
     },
     "execution_count": 197,
     "metadata": {},
     "output_type": "execute_result"
    }
   ],
   "source": [
    "x.shape , y.shape"
   ]
  },
  {
   "cell_type": "code",
   "execution_count": 198,
   "id": "6f47518a",
   "metadata": {},
   "outputs": [
    {
     "data": {
      "text/plain": [
       "(array([0.75424625, 0.23148074]), 1)"
      ]
     },
     "execution_count": 198,
     "metadata": {},
     "output_type": "execute_result"
    }
   ],
   "source": [
    "x[0], y[0]"
   ]
  },
  {
   "cell_type": "code",
   "execution_count": 199,
   "id": "10e28ea1",
   "metadata": {},
   "outputs": [],
   "source": [
    "model_1.add(tf.keras.Input(shape=(2,)))\n",
    "model_1 = tf.keras.Sequential([\n",
    "          tf.keras.layers.Dense(1)\n",
    "])"
   ]
  },
  {
   "cell_type": "code",
   "execution_count": 200,
   "id": "ad321c52",
   "metadata": {},
   "outputs": [],
   "source": [
    "model_1.compile(loss='binary_crossentropy',\n",
    "                optimizer = tf.keras.optimizers.SGD(),\n",
    "                metrics=['accuracy'])"
   ]
  },
  {
   "cell_type": "code",
   "execution_count": 201,
   "id": "f2b567bf",
   "metadata": {},
   "outputs": [
    {
     "data": {
      "text/plain": [
       "<keras.callbacks.History at 0x1b5c4ee6d90>"
      ]
     },
     "execution_count": 201,
     "metadata": {},
     "output_type": "execute_result"
    }
   ],
   "source": [
    "model_1.fit(x,y,epochs=100 , verbose=0)"
   ]
  },
  {
   "cell_type": "code",
   "execution_count": 202,
   "id": "470a4240",
   "metadata": {},
   "outputs": [
    {
     "name": "stdout",
     "output_type": "stream",
     "text": [
      "32/32 [==============================] - 0s 1ms/step - loss: 0.6932 - accuracy: 0.5000\n"
     ]
    },
    {
     "data": {
      "text/plain": [
       "[0.6932058930397034, 0.5]"
      ]
     },
     "execution_count": 202,
     "metadata": {},
     "output_type": "execute_result"
    }
   ],
   "source": [
    "model_1.evaluate(x,y)"
   ]
  },
  {
   "cell_type": "code",
   "execution_count": 203,
   "id": "0699a617",
   "metadata": {},
   "outputs": [],
   "source": [
    "# model_2.add(tf.keras.Input(shape=(1,)))\n",
    "model_2 = tf.keras.Sequential([\n",
    "    tf.keras.layers.Dense(100 , activation='relu'),\n",
    "    tf.keras.layers.Dense(10 , activation='relu'),\n",
    "    tf.keras.layers.Dense(1 , activation='sigmoid')\n",
    "])"
   ]
  },
  {
   "cell_type": "code",
   "execution_count": 204,
   "id": "06018d27",
   "metadata": {},
   "outputs": [],
   "source": [
    "model_2.compile(loss=tf.keras.losses.BinaryCrossentropy(),\n",
    "                optimizer = tf.keras.optimizers.Adam(),\n",
    "                metrics=['accuracy'])"
   ]
  },
  {
   "cell_type": "code",
   "execution_count": 205,
   "id": "4657fc29",
   "metadata": {},
   "outputs": [
    {
     "data": {
      "text/plain": [
       "<keras.callbacks.History at 0x1b5c60e2bb0>"
      ]
     },
     "execution_count": 205,
     "metadata": {},
     "output_type": "execute_result"
    }
   ],
   "source": [
    "model_2.fit(x,y,epochs=100,verbose=0)"
   ]
  },
  {
   "cell_type": "code",
   "execution_count": 206,
   "id": "8496fefe",
   "metadata": {},
   "outputs": [
    {
     "name": "stdout",
     "output_type": "stream",
     "text": [
      "32/32 [==============================] - 0s 737us/step - loss: 0.0043 - accuracy: 1.0000\n"
     ]
    },
    {
     "data": {
      "text/plain": [
       "[0.004310568794608116, 1.0]"
      ]
     },
     "execution_count": 206,
     "metadata": {},
     "output_type": "execute_result"
    }
   ],
   "source": [
    "model_2.evaluate(x,y)"
   ]
  },
  {
   "cell_type": "code",
   "execution_count": 207,
   "id": "d4bff357",
   "metadata": {},
   "outputs": [],
   "source": [
    "import numpy as np\n",
    "\n",
    "def plot_decision_boundary(model, X, y):\n",
    "  \"\"\"\n",
    "  Plots the decision boundary created by a model predicting on X.\n",
    "  This function has been adapted from two phenomenal resources:\n",
    "   1. CS231n - https://cs231n.github.io/neural-networks-case-study/\n",
    "   2. Made with ML basics - https://github.com/GokuMohandas/MadeWithML/blob/main/notebooks/08_Neural_Networks.ipynb\n",
    "  \"\"\"\n",
    "  # Define the axis boundaries of the plot and create a meshgrid\n",
    "  x_min, x_max = X[:, 0].min() - 0.1, X[:, 0].max() + 0.1\n",
    "  y_min, y_max = X[:, 1].min() - 0.1, X[:, 1].max() + 0.1\n",
    "  xx, yy = np.meshgrid(np.linspace(x_min, x_max, 100),\n",
    "                       np.linspace(y_min, y_max, 100))\n",
    "  \n",
    "  # Create X values (we're going to predict on all of these)\n",
    "  x_in = np.c_[xx.ravel(), yy.ravel()] # stack 2D arrays together: https://numpy.org/devdocs/reference/generated/numpy.c_.html\n",
    "  \n",
    "  # Make predictions using the trained model\n",
    "  y_pred = model.predict(x_in)\n",
    "\n",
    "  # Check for multi-class\n",
    "  if model.output_shape[-1] > 1: # checks the final dimension of the model's output shape, if this is > (greater than) 1, it's multi-class \n",
    "    print(\"doing multiclass classification...\")\n",
    "    # We have to reshape our predictions to get them ready for plotting\n",
    "    y_pred = np.argmax(y_pred, axis=1).reshape(xx.shape)\n",
    "  else:\n",
    "    print(\"doing binary classifcation...\")\n",
    "    y_pred = np.round(np.max(y_pred, axis=1)).reshape(xx.shape)\n",
    "  \n",
    "  # Plot decision boundary\n",
    "  plt.contourf(xx, yy, y_pred, cmap=plt.cm.RdYlBu, alpha=0.7)\n",
    "  plt.scatter(X[:, 0], X[:, 1], c=y, s=40, cmap=plt.cm.RdYlBu)\n",
    "  plt.xlim(xx.min(), xx.max())\n",
    "  plt.ylim(yy.min(), yy.max())"
   ]
  },
  {
   "cell_type": "code",
   "execution_count": 208,
   "id": "50750394",
   "metadata": {},
   "outputs": [
    {
     "name": "stdout",
     "output_type": "stream",
     "text": [
      "313/313 [==============================] - 0s 501us/step\n",
      "doing binary classifcation...\n"
     ]
    },
    {
     "data": {
      "image/png": "[encoded data removed]",
      "text/plain": [
       "<Figure size 432x288 with 1 Axes>"
      ]
     },
     "metadata": {
      "needs_background": "light"
     },
     "output_type": "display_data"
    }
   ],
   "source": [
    "plot_decision_boundary(model_2, x, y)"
   ]
  },
  {
   "cell_type": "code",
   "execution_count": 209,
   "id": "3ef18eaa",
   "metadata": {},
   "outputs": [],
   "source": [
    "from sklearn.model_selection import train_test_split"
   ]
  },
  {
   "cell_type": "code",
   "execution_count": 210,
   "id": "4cfb3b9d",
   "metadata": {},
   "outputs": [],
   "source": [
    "# x_train, x_test, y_train, y_test = train_test_split(x, y, test_size=0.3, random_state=101)"
   ]
  },
  {
   "cell_type": "code",
   "execution_count": 211,
   "id": "4bc8983c",
   "metadata": {},
   "outputs": [],
   "source": [
    "# x_train.shape , x_test.shape"
   ]
  },
  {
   "cell_type": "code",
   "execution_count": 224,
   "id": "e7ca10b8",
   "metadata": {},
   "outputs": [
    {
     "data": {
      "text/plain": [
       "array([[ 0.75424625,  0.23148074],\n",
       "       [-0.75615888,  0.15325888],\n",
       "       [-0.81539193,  0.17328203],\n",
       "       ...,\n",
       "       [-0.13690036, -0.81001183],\n",
       "       [ 0.67036156, -0.76750154],\n",
       "       [ 0.28105665,  0.96382443]])"
      ]
     },
     "execution_count": 224,
     "metadata": {},
     "output_type": "execute_result"
    }
   ],
   "source": [
    "x."
   ]
  },
  {
   "cell_type": "code",
   "execution_count": 226,
   "id": "65e9d449",
   "metadata": {},
   "outputs": [
    {
     "data": {
      "text/plain": [
       "((800, 2), (200, 2))"
      ]
     },
     "execution_count": 226,
     "metadata": {},
     "output_type": "execute_result"
    }
   ],
   "source": [
    "x_train, y_train = x[:800], y[:800] # 80% of the data for the training set\n",
    "x_test, y_test = x[800:], y[800:] # 20% of the data for the test set\n",
    "\n",
    "# Check the shapes of the data\n",
    "x_train.shape, x_test.shape"
   ]
  },
  {
   "cell_type": "code",
   "execution_count": 227,
   "id": "a47efb7d",
   "metadata": {},
   "outputs": [],
   "source": [
    "tf.random.set_seed(42)\n",
    "model_3 = tf.keras.Sequential([\n",
    "    tf.keras.layers.Dense(4,activation='relu'),\n",
    "    tf.keras.layers.Dense(4,activation='relu'),\n",
    "    tf.keras.layers.Dense(1,activation='sigmoid')\n",
    "])"
   ]
  },
  {
   "cell_type": "code",
   "execution_count": 228,
   "id": "2d601c72",
   "metadata": {},
   "outputs": [],
   "source": [
    "model_3.compile(loss=tf.keras.losses.BinaryCrossentropy,\n",
    "                optimizer = tf.keras.optimizers.Adam(),\n",
    "                metrics=['accuracy'])"
   ]
  },
  {
   "cell_type": "code",
   "execution_count": 230,
   "id": "c76c897a",
   "metadata": {},
   "outputs": [
    {
     "name": "stdout",
     "output_type": "stream",
     "text": [
      "Epoch 1/100\n"
     ]
    },
    {
     "ename": "TypeError",
     "evalue": "'NoneType' object is not callable",
     "output_type": "error",
     "traceback": [
      "\u001b[1;31m---------------------------------------------------------------------------\u001b[0m",
      "\u001b[1;31mTypeError\u001b[0m                                 Traceback (most recent call last)",
      "Input \u001b[1;32mIn [230]\u001b[0m, in \u001b[0;36m<cell line: 1>\u001b[1;34m()\u001b[0m\n\u001b[1;32m----> 1\u001b[0m \u001b[43mmodel_3\u001b[49m\u001b[38;5;241;43m.\u001b[39;49m\u001b[43mfit\u001b[49m\u001b[43m(\u001b[49m\u001b[43mtf\u001b[49m\u001b[38;5;241;43m.\u001b[39;49m\u001b[43mexpand_dims\u001b[49m\u001b[43m(\u001b[49m\u001b[43mx_train\u001b[49m\u001b[43m,\u001b[49m\u001b[43maxis\u001b[49m\u001b[38;5;241;43m=\u001b[39;49m\u001b[38;5;241;43m-\u001b[39;49m\u001b[38;5;241;43m1\u001b[39;49m\u001b[43m)\u001b[49m\u001b[43m,\u001b[49m\u001b[43my_train\u001b[49m\u001b[43m,\u001b[49m\u001b[43mepochs\u001b[49m\u001b[38;5;241;43m=\u001b[39;49m\u001b[38;5;241;43m100\u001b[39;49m\u001b[43m)\u001b[49m\n",
      "File \u001b[1;32m~\\anaconda3\\lib\\site-packages\\keras\\utils\\traceback_utils.py:67\u001b[0m, in \u001b[0;36mfilter_traceback.<locals>.error_handler\u001b[1;34m(*args, **kwargs)\u001b[0m\n\u001b[0;32m     65\u001b[0m \u001b[38;5;28;01mexcept\u001b[39;00m \u001b[38;5;167;01mException\u001b[39;00m \u001b[38;5;28;01mas\u001b[39;00m e:  \u001b[38;5;66;03m# pylint: disable=broad-except\u001b[39;00m\n\u001b[0;32m     66\u001b[0m   filtered_tb \u001b[38;5;241m=\u001b[39m _process_traceback_frames(e\u001b[38;5;241m.\u001b[39m__traceback__)\n\u001b[1;32m---> 67\u001b[0m   \u001b[38;5;28;01mraise\u001b[39;00m e\u001b[38;5;241m.\u001b[39mwith_traceback(filtered_tb) \u001b[38;5;28;01mfrom\u001b[39;00m \u001b[38;5;28mNone\u001b[39m\n\u001b[0;32m     68\u001b[0m \u001b[38;5;28;01mfinally\u001b[39;00m:\n\u001b[0;32m     69\u001b[0m   \u001b[38;5;28;01mdel\u001b[39;00m filtered_tb\n",
      "File \u001b[1;32m~\\anaconda3\\lib\\site-packages\\tensorflow\\python\\eager\\def_function.py:947\u001b[0m, in \u001b[0;36mFunction._call\u001b[1;34m(self, *args, **kwds)\u001b[0m\n\u001b[0;32m    944\u001b[0m   \u001b[38;5;28mself\u001b[39m\u001b[38;5;241m.\u001b[39m_lock\u001b[38;5;241m.\u001b[39mrelease()\n\u001b[0;32m    945\u001b[0m   \u001b[38;5;66;03m# In this case we have created variables on the first call, so we run the\u001b[39;00m\n\u001b[0;32m    946\u001b[0m   \u001b[38;5;66;03m# defunned version which is guaranteed to never create variables.\u001b[39;00m\n\u001b[1;32m--> 947\u001b[0m   \u001b[38;5;28;01mreturn\u001b[39;00m \u001b[38;5;28mself\u001b[39m\u001b[38;5;241m.\u001b[39m_stateless_fn(\u001b[38;5;241m*\u001b[39margs, \u001b[38;5;241m*\u001b[39m\u001b[38;5;241m*\u001b[39mkwds)  \u001b[38;5;66;03m# pylint: disable=not-callable\u001b[39;00m\n\u001b[0;32m    948\u001b[0m \u001b[38;5;28;01melif\u001b[39;00m \u001b[38;5;28mself\u001b[39m\u001b[38;5;241m.\u001b[39m_stateful_fn \u001b[38;5;129;01mis\u001b[39;00m \u001b[38;5;129;01mnot\u001b[39;00m \u001b[38;5;28;01mNone\u001b[39;00m:\n\u001b[0;32m    949\u001b[0m   \u001b[38;5;66;03m# Release the lock early so that multiple threads can perform the call\u001b[39;00m\n\u001b[0;32m    950\u001b[0m   \u001b[38;5;66;03m# in parallel.\u001b[39;00m\n\u001b[0;32m    951\u001b[0m   \u001b[38;5;28mself\u001b[39m\u001b[38;5;241m.\u001b[39m_lock\u001b[38;5;241m.\u001b[39mrelease()\n",
      "\u001b[1;31mTypeError\u001b[0m: 'NoneType' object is not callable"
     ]
    }
   ],
   "source": [
    "model_3.fit(tf.expand_dims(x_train,axis=-1),y_train,epochs=100)"
   ]
  },
  {
   "cell_type": "code",
   "execution_count": null,
   "id": "4be5e29e",
   "metadata": {},
   "outputs": [],
   "source": []
  },
  {
   "cell_type": "code",
   "execution_count": null,
   "id": "c02542b5",
   "metadata": {},
   "outputs": [],
   "source": []
  },
  {
   "cell_type": "code",
   "execution_count": null,
   "id": "a8452a35",
   "metadata": {},
   "outputs": [],
   "source": []
  },
  {
   "cell_type": "code",
   "execution_count": null,
   "id": "d0a38e17",
   "metadata": {},
   "outputs": [],
   "source": []
  },
  {
   "cell_type": "code",
   "execution_count": null,
   "id": "3e202aae",
   "metadata": {},
   "outputs": [],
   "source": []
  },
  {
   "cell_type": "code",
   "execution_count": null,
   "id": "db6f1f44",
   "metadata": {},
   "outputs": [],
   "source": []
  },
  {
   "cell_type": "code",
   "execution_count": null,
   "id": "3cd8eefa",
   "metadata": {},
   "outputs": [],
   "source": []
  },
  {
   "cell_type": "code",
   "execution_count": null,
   "id": "e9a1928a",
   "metadata": {},
   "outputs": [],
   "source": []
  },
  {
   "cell_type": "code",
   "execution_count": null,
   "id": "784c363d",
   "metadata": {},
   "outputs": [],
   "source": []
  },
  {
   "cell_type": "code",
   "execution_count": null,
   "id": "c2b985a0",
   "metadata": {},
   "outputs": [],
   "source": []
  },
  {
   "cell_type": "code",
   "execution_count": null,
   "id": "72d19f3a",
   "metadata": {},
   "outputs": [],
   "source": []
  },
  {
   "cell_type": "code",
   "execution_count": null,
   "id": "410ad1b9",
   "metadata": {},
   "outputs": [],
   "source": []
  },
  {
   "cell_type": "code",
   "execution_count": null,
   "id": "52298c1f",
   "metadata": {},
   "outputs": [],
   "source": []
  },
  {
   "cell_type": "code",
   "execution_count": null,
   "id": "8b4a8d51",
   "metadata": {},
   "outputs": [],
   "source": []
  },
  {
   "cell_type": "code",
   "execution_count": null,
   "id": "96457514",
   "metadata": {},
   "outputs": [],
   "source": []
  },
  {
   "cell_type": "code",
   "execution_count": null,
   "id": "e34897a6",
   "metadata": {},
   "outputs": [],
   "source": []
  },
  {
   "cell_type": "code",
   "execution_count": null,
   "id": "ae84e1d9",
   "metadata": {},
   "outputs": [],
   "source": []
  },
  {
   "cell_type": "code",
   "execution_count": null,
   "id": "d1657cf8",
   "metadata": {},
   "outputs": [],
   "source": []
  },
  {
   "cell_type": "code",
   "execution_count": null,
   "id": "9c6a8b80",
   "metadata": {},
   "outputs": [],
   "source": []
  },
  {
   "cell_type": "code",
   "execution_count": null,
   "id": "8c0cbbcf",
   "metadata": {},
   "outputs": [],
   "source": []
  },
  {
   "cell_type": "code",
   "execution_count": null,
   "id": "48365e7b",
   "metadata": {},
   "outputs": [],
   "source": []
  },
  {
   "cell_type": "code",
   "execution_count": null,
   "id": "2729b786",
   "metadata": {},
   "outputs": [],
   "source": []
  },
  {
   "cell_type": "code",
   "execution_count": null,
   "id": "42950bd8",
   "metadata": {},
   "outputs": [],
   "source": []
  },
  {
   "cell_type": "code",
   "execution_count": null,
   "id": "1d08959a",
   "metadata": {},
   "outputs": [],
   "source": []
  },
  {
   "cell_type": "code",
   "execution_count": null,
   "id": "1e663acd",
   "metadata": {},
   "outputs": [],
   "source": []
  },
  {
   "cell_type": "code",
   "execution_count": null,
   "id": "b68e91fc",
   "metadata": {},
   "outputs": [],
   "source": []
  },
  {
   "cell_type": "code",
   "execution_count": null,
   "id": "7ca71d0f",
   "metadata": {},
   "outputs": [],
   "source": []
  },
  {
   "cell_type": "code",
   "execution_count": null,
   "id": "bdf37331",
   "metadata": {},
   "outputs": [],
   "source": []
  },
  {
   "cell_type": "code",
   "execution_count": null,
   "id": "8e600a16",
   "metadata": {},
   "outputs": [],
   "source": []
  },
  {
   "cell_type": "code",
   "execution_count": null,
   "id": "3cd13c8b",
   "metadata": {},
   "outputs": [],
   "source": []
  }
 ],
 "metadata": {
  "kernelspec": {
   "display_name": "Python 3 (ipykernel)",
   "language": "python",
   "name": "python3"
  },
  "language_info": {
   "codemirror_mode": {
    "name": "ipython",
    "version": 3
   },
   "file_extension": ".py",
   "mimetype": "text/x-python",
   "name": "python",
   "nbconvert_exporter": "python",
   "pygments_lexer": "ipython3",
   "version": "3.9.12"
  }
 },
 "nbformat": 4,
 "nbformat_minor": 5
}
