{
 "cells": [
  {
   "cell_type": "code",
   "execution_count": 3,
   "id": "7c5d7745",
   "metadata": {},
   "outputs": [],
   "source": [
    "import tensorflow as tf"
   ]
  },
  {
   "cell_type": "code",
   "execution_count": 4,
   "id": "74610d9c",
   "metadata": {},
   "outputs": [],
   "source": [
    "from tensorflow.keras.datasets import fashion_mnist"
   ]
  },
  {
   "cell_type": "code",
   "execution_count": 5,
   "id": "66ca2982",
   "metadata": {},
   "outputs": [],
   "source": [
    "import numpy as np\n",
    "import pandas as pd\n",
    "import matplotlib.pyplot as plt"
   ]
  },
  {
   "cell_type": "code",
   "execution_count": 6,
   "id": "3ac0ee64",
   "metadata": {},
   "outputs": [],
   "source": [
    "(x_train , y_train) , (x_test , y_test) = fashion_mnist.load_data()"
   ]
  },
  {
   "cell_type": "code",
   "execution_count": 7,
   "id": "b4d6ca1a",
   "metadata": {},
   "outputs": [
    {
     "data": {
      "text/plain": [
       "array([[[0, 0, 0, ..., 0, 0, 0],\n",
       "        [0, 0, 0, ..., 0, 0, 0],\n",
       "        [0, 0, 0, ..., 0, 0, 0],\n",
       "        ...,\n",
       "        [0, 0, 0, ..., 0, 0, 0],\n",
       "        [0, 0, 0, ..., 0, 0, 0],\n",
       "        [0, 0, 0, ..., 0, 0, 0]],\n",
       "\n",
       "       [[0, 0, 0, ..., 0, 0, 0],\n",
       "        [0, 0, 0, ..., 0, 0, 0],\n",
       "        [0, 0, 0, ..., 0, 0, 0],\n",
       "        ...,\n",
       "        [0, 0, 0, ..., 0, 0, 0],\n",
       "        [0, 0, 0, ..., 0, 0, 0],\n",
       "        [0, 0, 0, ..., 0, 0, 0]]], dtype=uint8)"
      ]
     },
     "execution_count": 7,
     "metadata": {},
     "output_type": "execute_result"
    }
   ],
   "source": [
    "x_train[:2]"
   ]
  },
  {
   "cell_type": "code",
   "execution_count": 8,
   "id": "34186c1e",
   "metadata": {},
   "outputs": [
    {
     "data": {
      "text/plain": [
       "(10000, 28, 28)"
      ]
     },
     "execution_count": 8,
     "metadata": {},
     "output_type": "execute_result"
    }
   ],
   "source": [
    "x_test.shape"
   ]
  },
  {
   "cell_type": "code",
   "execution_count": 9,
   "id": "048e5006",
   "metadata": {},
   "outputs": [],
   "source": [
    "x_train = x_train[:1000]\n",
    "y_train = y_train[:1000]\n",
    "x_test = x_test[:350]\n",
    "y_test = y_test[:350]"
   ]
  },
  {
   "cell_type": "code",
   "execution_count": 10,
   "id": "6821ba4d",
   "metadata": {},
   "outputs": [
    {
     "name": "stdout",
     "output_type": "stream",
     "text": [
      "2\n",
      "6\n"
     ]
    }
   ],
   "source": [
    "print(y_train[7])\n",
    "print(y_test[7])"
   ]
  },
  {
   "cell_type": "code",
   "execution_count": 11,
   "id": "10f3de8a",
   "metadata": {},
   "outputs": [
    {
     "name": "stdout",
     "output_type": "stream",
     "text": [
      "(1000, 28, 28)  ,  (350, 28, 28)\n"
     ]
    }
   ],
   "source": [
    "print(x_train.shape , \" , \" , x_test.shape)"
   ]
  },
  {
   "cell_type": "code",
   "execution_count": 12,
   "id": "5f38c0fb",
   "metadata": {},
   "outputs": [],
   "source": [
    "class_names = ['T-shirt/top', 'Trouser', 'Pullover', 'Dress', 'Coat', 'Sandal', 'Shirt', 'Sneaker', 'Bag', 'Ankle boot']"
   ]
  },
  {
   "cell_type": "code",
   "execution_count": 13,
   "id": "6167a7e2",
   "metadata": {},
   "outputs": [
    {
     "data": {
      "text/plain": [
       "10"
      ]
     },
     "execution_count": 13,
     "metadata": {},
     "output_type": "execute_result"
    }
   ],
   "source": [
    "len(class_names)"
   ]
  },
  {
   "cell_type": "code",
   "execution_count": 14,
   "id": "032563ab",
   "metadata": {
    "scrolled": true
   },
   "outputs": [
    {
     "name": "stdout",
     "output_type": "stream",
     "text": [
      "9\n"
     ]
    },
    {
     "data": {
      "image/png": "[encoded data removed]",
      "text/plain": [
       "<Figure size 432x288 with 1 Axes>"
      ]
     },
     "metadata": {
      "needs_background": "light"
     },
     "output_type": "display_data"
    }
   ],
   "source": [
    "plt.imshow(x_train[0] , cmap='gray')\n",
    "plt.title(class_names[y_train[0]] , c='y' , size=14)\n",
    "print(y_train[0])"
   ]
  },
  {
   "cell_type": "code",
   "execution_count": 15,
   "id": "36719fc1",
   "metadata": {},
   "outputs": [
    {
     "name": "stdout",
     "output_type": "stream",
     "text": [
      "2\n"
     ]
    },
    {
     "data": {
      "image/png": "[encoded data removed]",
      "text/plain": [
       "<Figure size 432x288 with 1 Axes>"
      ]
     },
     "metadata": {
      "needs_background": "light"
     },
     "output_type": "display_data"
    }
   ],
   "source": [
    "plt.imshow(x_test[1] , cmap='gray')\n",
    "plt.title(class_names[y_test[1]] , c='y' , size=14)\n",
    "print(y_test[1])"
   ]
  },
  {
   "cell_type": "code",
   "execution_count": 16,
   "id": "122c1db5",
   "metadata": {},
   "outputs": [],
   "source": [
    "model_1 = tf.keras.Sequential([\n",
    "    tf.keras.layers.Flatten(input_shape=(28,28)),\n",
    "    tf.keras.layers.Dense(16 , activation=\"relu\"),\n",
    "    tf.keras.layers.Dense(8 , activation=\"relu\"),\n",
    "    tf.keras.layers.Dense(10 , activation='softmax')\n",
    "])"
   ]
  },
  {
   "cell_type": "code",
   "execution_count": 17,
   "id": "2b6b587b",
   "metadata": {},
   "outputs": [],
   "source": [
    "model_1.compile(loss=tf.keras.losses.SparseCategoricalCrossentropy(),\n",
    "                optimizer = tf.keras.optimizers.Adam(),\n",
    "                metrics = ['accuracy']\n",
    "               )"
   ]
  },
  {
   "cell_type": "code",
   "execution_count": 18,
   "id": "c2148a2a",
   "metadata": {},
   "outputs": [
    {
     "name": "stdout",
     "output_type": "stream",
     "text": [
      "Epoch 1/20\n",
      "32/32 [==============================] - 0s 1ms/step - loss: 16.6855 - accuracy: 0.1270\n",
      "Epoch 2/20\n",
      "32/32 [==============================] - 0s 1ms/step - loss: 2.5630 - accuracy: 0.1230\n",
      "Epoch 3/20\n",
      "32/32 [==============================] - 0s 1ms/step - loss: 2.2957 - accuracy: 0.1360\n",
      "Epoch 4/20\n",
      "32/32 [==============================] - 0s 1ms/step - loss: 2.2455 - accuracy: 0.1380\n",
      "Epoch 5/20\n",
      "32/32 [==============================] - 0s 1ms/step - loss: 2.2294 - accuracy: 0.1380\n",
      "Epoch 6/20\n",
      "32/32 [==============================] - 0s 1ms/step - loss: 2.2201 - accuracy: 0.1410\n",
      "Epoch 7/20\n",
      "32/32 [==============================] - 0s 1ms/step - loss: 2.2035 - accuracy: 0.1520\n",
      "Epoch 8/20\n",
      "32/32 [==============================] - 0s 1ms/step - loss: 2.1969 - accuracy: 0.1530\n",
      "Epoch 9/20\n",
      "32/32 [==============================] - 0s 1ms/step - loss: 2.2153 - accuracy: 0.1490\n",
      "Epoch 10/20\n",
      "32/32 [==============================] - 0s 2ms/step - loss: 2.2172 - accuracy: 0.1490\n",
      "Epoch 11/20\n",
      "32/32 [==============================] - 0s 1ms/step - loss: 2.1902 - accuracy: 0.1690\n",
      "Epoch 12/20\n",
      "32/32 [==============================] - 0s 1ms/step - loss: 2.1974 - accuracy: 0.1650\n",
      "Epoch 13/20\n",
      "32/32 [==============================] - 0s 2ms/step - loss: 2.2044 - accuracy: 0.1530\n",
      "Epoch 14/20\n",
      "32/32 [==============================] - 0s 2ms/step - loss: 2.1476 - accuracy: 0.1750\n",
      "Epoch 15/20\n",
      "32/32 [==============================] - 0s 1ms/step - loss: 2.2954 - accuracy: 0.1700\n",
      "Epoch 16/20\n",
      "32/32 [==============================] - 0s 1ms/step - loss: 2.1354 - accuracy: 0.1910\n",
      "Epoch 17/20\n",
      "32/32 [==============================] - 0s 1ms/step - loss: 2.0697 - accuracy: 0.2120\n",
      "Epoch 18/20\n",
      "32/32 [==============================] - 0s 1ms/step - loss: 2.0980 - accuracy: 0.2260\n",
      "Epoch 19/20\n",
      "32/32 [==============================] - 0s 2ms/step - loss: 2.1472 - accuracy: 0.2290\n",
      "Epoch 20/20\n",
      "32/32 [==============================] - 0s 1ms/step - loss: 2.1508 - accuracy: 0.1770\n"
     ]
    }
   ],
   "source": [
    "hist_m_1 = model_1.fit(x_train, y_train,epochs=20)"
   ]
  },
  {
   "cell_type": "code",
   "execution_count": 19,
   "id": "29844af6",
   "metadata": {},
   "outputs": [
    {
     "name": "stdout",
     "output_type": "stream",
     "text": [
      "11/11 [==============================] - 0s 1ms/step - loss: 2.2312 - accuracy: 0.1371\n"
     ]
    },
    {
     "data": {
      "text/plain": [
       "[2.231173515319824, 0.1371428519487381]"
      ]
     },
     "execution_count": 19,
     "metadata": {},
     "output_type": "execute_result"
    }
   ],
   "source": [
    "model_1.evaluate(x_test,y_test)"
   ]
  },
  {
   "cell_type": "code",
   "execution_count": 20,
   "id": "460a3251",
   "metadata": {},
   "outputs": [
    {
     "name": "stdout",
     "output_type": "stream",
     "text": [
      "Model: \"sequential\"\n",
      "_________________________________________________________________\n",
      " Layer (type)                Output Shape              Param #   \n",
      "=================================================================\n",
      " flatten (Flatten)           (None, 784)               0         \n",
      "                                                                 \n",
      " dense (Dense)               (None, 16)                12560     \n",
      "                                                                 \n",
      " dense_1 (Dense)             (None, 8)                 136       \n",
      "                                                                 \n",
      " dense_2 (Dense)             (None, 10)                90        \n",
      "                                                                 \n",
      "=================================================================\n",
      "Total params: 12,786\n",
      "Trainable params: 12,786\n",
      "Non-trainable params: 0\n",
      "_________________________________________________________________\n"
     ]
    }
   ],
   "source": [
    "model_1.summary()"
   ]
  },
  {
   "cell_type": "code",
   "execution_count": 21,
   "id": "d3c89d20",
   "metadata": {},
   "outputs": [],
   "source": [
    "import keras"
   ]
  },
  {
   "cell_type": "code",
   "execution_count": 22,
   "id": "e572599a",
   "metadata": {},
   "outputs": [],
   "source": [
    "model_conv = tf.keras.Sequential([\n",
    "    keras.layers.Input(shape=(28,28,1)),\n",
    "    keras.layers.Conv2D(200,kernel_size=(3,3) , activation='relu'),\n",
    "    keras.layers.MaxPool2D(2,2),\n",
    "    keras.layers.Conv2D(100,kernel_size=(3,3) , activation='relu'),\n",
    "    keras.layers.MaxPool2D(2,2),\n",
    "    keras.layers.Flatten(),\n",
    "    keras.layers.Dense(120 , activation='relu'),\n",
    "    keras.layers.Dense(64 , activation='relu'),\n",
    "    keras.layers.Dense(32 , activation='relu'),\n",
    "    keras.layers.Dense(10 , activation='softmax'),\n",
    "])"
   ]
  },
  {
   "cell_type": "code",
   "execution_count": 23,
   "id": "e4ed0dc4",
   "metadata": {},
   "outputs": [
    {
     "name": "stdout",
     "output_type": "stream",
     "text": [
      "Model: \"sequential_1\"\n",
      "_________________________________________________________________\n",
      " Layer (type)                Output Shape              Param #   \n",
      "=================================================================\n",
      " conv2d (Conv2D)             (None, 26, 26, 200)       2000      \n",
      "                                                                 \n",
      " max_pooling2d (MaxPooling2D  (None, 13, 13, 200)      0         \n",
      " )                                                               \n",
      "                                                                 \n",
      " conv2d_1 (Conv2D)           (None, 11, 11, 100)       180100    \n",
      "                                                                 \n",
      " max_pooling2d_1 (MaxPooling  (None, 5, 5, 100)        0         \n",
      " 2D)                                                             \n",
      "                                                                 \n",
      " flatten_1 (Flatten)         (None, 2500)              0         \n",
      "                                                                 \n",
      " dense_3 (Dense)             (None, 120)               300120    \n",
      "                                                                 \n",
      " dense_4 (Dense)             (None, 64)                7744      \n",
      "                                                                 \n",
      " dense_5 (Dense)             (None, 32)                2080      \n",
      "                                                                 \n",
      " dense_6 (Dense)             (None, 10)                330       \n",
      "                                                                 \n",
      "=================================================================\n",
      "Total params: 492,374\n",
      "Trainable params: 492,374\n",
      "Non-trainable params: 0\n",
      "_________________________________________________________________\n"
     ]
    }
   ],
   "source": [
    "model_conv.summary()"
   ]
  },
  {
   "cell_type": "code",
   "execution_count": 24,
   "id": "91e6b44e",
   "metadata": {},
   "outputs": [],
   "source": [
    "model_conv.compile(loss = keras.losses.SparseCategoricalCrossentropy(),\n",
    "                   optimizer = keras.optimizers.Adam(),\n",
    "                   metrics = ['accuracy'])"
   ]
  },
  {
   "cell_type": "code",
   "execution_count": 25,
   "id": "6c7d7b87",
   "metadata": {},
   "outputs": [
    {
     "name": "stdout",
     "output_type": "stream",
     "text": [
      "Epoch 1/5\n",
      "32/32 [==============================] - 3s 73ms/step - loss: 4.0421 - accuracy: 0.4290\n",
      "Epoch 2/5\n",
      "32/32 [==============================] - 2s 69ms/step - loss: 0.7612 - accuracy: 0.7450\n",
      "Epoch 3/5\n",
      "32/32 [==============================] - 2s 70ms/step - loss: 0.5572 - accuracy: 0.7980\n",
      "Epoch 4/5\n",
      "32/32 [==============================] - 2s 68ms/step - loss: 0.4574 - accuracy: 0.8400\n",
      "Epoch 5/5\n",
      "32/32 [==============================] - 2s 68ms/step - loss: 0.3910 - accuracy: 0.8590\n"
     ]
    }
   ],
   "source": [
    "hist_model_vonv = model_conv.fit(x_train,y_train,epochs=5)"
   ]
  },
  {
   "cell_type": "code",
   "execution_count": 26,
   "id": "c0b6ff44",
   "metadata": {},
   "outputs": [
    {
     "name": "stdout",
     "output_type": "stream",
     "text": [
      "11/11 [==============================] - 0s 23ms/step - loss: 0.7127 - accuracy: 0.7600\n"
     ]
    },
    {
     "data": {
      "text/plain": [
       "[0.7127138376235962, 0.7599999904632568]"
      ]
     },
     "execution_count": 26,
     "metadata": {},
     "output_type": "execute_result"
    }
   ],
   "source": [
    "model_conv.evaluate(x_test,y_test)"
   ]
  },
  {
   "cell_type": "code",
   "execution_count": 35,
   "id": "02561823",
   "metadata": {},
   "outputs": [
    {
     "data": {
      "text/plain": [
       "(1000, 28, 28)"
      ]
     },
     "execution_count": 35,
     "metadata": {},
     "output_type": "execute_result"
    }
   ],
   "source": [
    "x_train.shape"
   ]
  },
  {
   "cell_type": "code",
   "execution_count": 48,
   "id": "3c239e39",
   "metadata": {},
   "outputs": [],
   "source": [
    "from skimage.color import gray2rgb\n",
    "def resize_images (x_in):\n",
    "    x_32 = np.zeros((x_in.shape[0] , 32,32,3))\n",
    "    for i in range (0,x_in.shape[0]):\n",
    "        x_32[i,2:30,2:30] = gray2rgb(x_in[i,:,:])\n",
    "    return x_32"
   ]
  },
  {
   "cell_type": "code",
   "execution_count": 49,
   "id": "ac0932d5",
   "metadata": {},
   "outputs": [
    {
     "data": {
      "text/plain": [
       "numpy.ndarray"
      ]
     },
     "execution_count": 49,
     "metadata": {},
     "output_type": "execute_result"
    }
   ],
   "source": [
    "type(y_train)"
   ]
  },
  {
   "cell_type": "code",
   "execution_count": 50,
   "id": "c7c99856",
   "metadata": {},
   "outputs": [],
   "source": [
    "x_train_32 = resize_images(x_train)\n",
    "x_test_32 = resize_images(x_test)"
   ]
  },
  {
   "cell_type": "code",
   "execution_count": 51,
   "id": "2ad3e0a8",
   "metadata": {},
   "outputs": [
    {
     "name": "stdout",
     "output_type": "stream",
     "text": [
      "(1000, 32, 32, 3)\n",
      "(350, 32, 32, 3)\n"
     ]
    }
   ],
   "source": [
    "print(x_train_32.shape)\n",
    "print(x_test_32.shape)"
   ]
  },
  {
   "cell_type": "code",
   "execution_count": 55,
   "id": "ab96fae7",
   "metadata": {},
   "outputs": [
    {
     "name": "stdout",
     "output_type": "stream",
     "text": [
      "9\n"
     ]
    },
    {
     "data": {
      "image/png": "[encoded data removed]",
      "text/plain": [
       "<Figure size 432x288 with 1 Axes>"
      ]
     },
     "metadata": {
      "needs_background": "light"
     },
     "output_type": "display_data"
    }
   ],
   "source": [
    "plt.imshow(x_train_32[0].astype(np.uint8) , interpolation=\"nearest\")\n",
    "plt.title(class_names[y_train[0]] , c='y' , size=14)\n",
    "plt.axis(\"off\")\n",
    "print(y_train[0])"
   ]
  },
  {
   "cell_type": "code",
   "execution_count": 56,
   "id": "a96e432b",
   "metadata": {},
   "outputs": [],
   "source": [
    "from tensorflow.keras.applications import VGG16"
   ]
  },
  {
   "cell_type": "code",
   "execution_count": 59,
   "id": "3a6dda02",
   "metadata": {},
   "outputs": [
    {
     "name": "stdout",
     "output_type": "stream",
     "text": [
      "Downloading data from https://storage.googleapis.com/tensorflow/keras-applications/vgg16/vgg16_weights_tf_dim_ordering_tf_kernels_notop.h5\n",
      "58889256/58889256 [==============================] - 2290s 39us/step\n"
     ]
    }
   ],
   "source": [
    "model_vgg = VGG16(weights='imagenet',\n",
    "                  include_top=False,\n",
    "                  input_shape=(32,32,3))"
   ]
  },
  {
   "cell_type": "code",
   "execution_count": 60,
   "id": "aa6bf534",
   "metadata": {},
   "outputs": [
    {
     "name": "stdout",
     "output_type": "stream",
     "text": [
      "Model: \"vgg16\"\n",
      "_________________________________________________________________\n",
      " Layer (type)                Output Shape              Param #   \n",
      "=================================================================\n",
      " input_2 (InputLayer)        [(None, 32, 32, 3)]       0         \n",
      "                                                                 \n",
      " block1_conv1 (Conv2D)       (None, 32, 32, 64)        1792      \n",
      "                                                                 \n",
      " block1_conv2 (Conv2D)       (None, 32, 32, 64)        36928     \n",
      "                                                                 \n",
      " block1_pool (MaxPooling2D)  (None, 16, 16, 64)        0         \n",
      "                                                                 \n",
      " block2_conv1 (Conv2D)       (None, 16, 16, 128)       73856     \n",
      "                                                                 \n",
      " block2_conv2 (Conv2D)       (None, 16, 16, 128)       147584    \n",
      "                                                                 \n",
      " block2_pool (MaxPooling2D)  (None, 8, 8, 128)         0         \n",
      "                                                                 \n",
      " block3_conv1 (Conv2D)       (None, 8, 8, 256)         295168    \n",
      "                                                                 \n",
      " block3_conv2 (Conv2D)       (None, 8, 8, 256)         590080    \n",
      "                                                                 \n",
      " block3_conv3 (Conv2D)       (None, 8, 8, 256)         590080    \n",
      "                                                                 \n",
      " block3_pool (MaxPooling2D)  (None, 4, 4, 256)         0         \n",
      "                                                                 \n",
      " block4_conv1 (Conv2D)       (None, 4, 4, 512)         1180160   \n",
      "                                                                 \n",
      " block4_conv2 (Conv2D)       (None, 4, 4, 512)         2359808   \n",
      "                                                                 \n",
      " block4_conv3 (Conv2D)       (None, 4, 4, 512)         2359808   \n",
      "                                                                 \n",
      " block4_pool (MaxPooling2D)  (None, 2, 2, 512)         0         \n",
      "                                                                 \n",
      " block5_conv1 (Conv2D)       (None, 2, 2, 512)         2359808   \n",
      "                                                                 \n",
      " block5_conv2 (Conv2D)       (None, 2, 2, 512)         2359808   \n",
      "                                                                 \n",
      " block5_conv3 (Conv2D)       (None, 2, 2, 512)         2359808   \n",
      "                                                                 \n",
      " block5_pool (MaxPooling2D)  (None, 1, 1, 512)         0         \n",
      "                                                                 \n",
      "=================================================================\n",
      "Total params: 14,714,688\n",
      "Trainable params: 14,714,688\n",
      "Non-trainable params: 0\n",
      "_________________________________________________________________\n"
     ]
    }
   ],
   "source": [
    "model_vgg.summary()"
   ]
  },
  {
   "cell_type": "code",
   "execution_count": null,
   "id": "b1e3b204",
   "metadata": {},
   "outputs": [],
   "source": [
    "model = keras.Sequential()\n",
    "for layer in model_vgg.layers[:-1]:\n",
    "    model.add(layer)"
   ]
  },
  {
   "cell_type": "code",
   "execution_count": null,
   "id": "09aafcb5",
   "metadata": {},
   "outputs": [],
   "source": [
    "for layer in model.layer:\n",
    "    layer.trainable = False"
   ]
  },
  {
   "cell_type": "code",
   "execution_count": null,
   "id": "02015d23",
   "metadata": {},
   "outputs": [],
   "source": [
    "model.add(keras.layer.Dense(8 , activation='sigmoid'))\n",
    "model.add(keras.layer.Dense(10,activation='softmax'))"
   ]
  },
  {
   "cell_type": "code",
   "execution_count": null,
   "id": "5ead63fe",
   "metadata": {},
   "outputs": [],
   "source": []
  },
  {
   "cell_type": "code",
   "execution_count": null,
   "id": "9ccef715",
   "metadata": {},
   "outputs": [],
   "source": []
  }
 ],
 "metadata": {
  "kernelspec": {
   "display_name": "Python 3 (ipykernel)",
   "language": "python",
   "name": "python3"
  },
  "language_info": {
   "codemirror_mode": {
    "name": "ipython",
    "version": 3
   },
   "file_extension": ".py",
   "mimetype": "text/x-python",
   "name": "python",
   "nbconvert_exporter": "python",
   "pygments_lexer": "ipython3",
   "version": "3.9.12"
  }
 },
 "nbformat": 4,
 "nbformat_minor": 5
}
