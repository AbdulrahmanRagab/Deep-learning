{
 "cells": [
  {
   "cell_type": "code",
   "execution_count": 1,
   "id": "0323c688",
   "metadata": {},
   "outputs": [],
   "source": [
    "import tensorflow as tf\n",
    "from tensorflow.keras.datasets import fashion_mnist"
   ]
  },
  {
   "cell_type": "code",
   "execution_count": 2,
   "id": "d9fb1f4a",
   "metadata": {},
   "outputs": [],
   "source": [
    "import pandas as pd\n",
    "import numpy as np\n",
    "import matplotlib.pyplot as plt"
   ]
  },
  {
   "cell_type": "code",
   "execution_count": 3,
   "id": "61718da7",
   "metadata": {},
   "outputs": [],
   "source": [
    "(x_train,y_train) , (x_test,y_test) = fashion_mnist.load_data()"
   ]
  },
  {
   "cell_type": "code",
   "execution_count": 4,
   "id": "80880a7c",
   "metadata": {},
   "outputs": [
    {
     "data": {
      "text/plain": [
       "array([[[0, 0, 0, ..., 0, 0, 0],\n",
       "        [0, 0, 0, ..., 0, 0, 0],\n",
       "        [0, 0, 0, ..., 0, 0, 0],\n",
       "        ...,\n",
       "        [0, 0, 0, ..., 0, 0, 0],\n",
       "        [0, 0, 0, ..., 0, 0, 0],\n",
       "        [0, 0, 0, ..., 0, 0, 0]],\n",
       "\n",
       "       [[0, 0, 0, ..., 0, 0, 0],\n",
       "        [0, 0, 0, ..., 0, 0, 0],\n",
       "        [0, 0, 0, ..., 0, 0, 0],\n",
       "        ...,\n",
       "        [0, 0, 0, ..., 0, 0, 0],\n",
       "        [0, 0, 0, ..., 0, 0, 0],\n",
       "        [0, 0, 0, ..., 0, 0, 0]]], dtype=uint8)"
      ]
     },
     "execution_count": 4,
     "metadata": {},
     "output_type": "execute_result"
    }
   ],
   "source": [
    "x_train[:2]"
   ]
  },
  {
   "cell_type": "code",
   "execution_count": 5,
   "id": "1d73d24a",
   "metadata": {},
   "outputs": [
    {
     "data": {
      "text/plain": [
       "array([9, 0, 0, 3, 0], dtype=uint8)"
      ]
     },
     "execution_count": 5,
     "metadata": {},
     "output_type": "execute_result"
    }
   ],
   "source": [
    "y_train[:5]"
   ]
  },
  {
   "cell_type": "code",
   "execution_count": 6,
   "id": "948b1c81",
   "metadata": {},
   "outputs": [
    {
     "data": {
      "text/plain": [
       "(60000, 28, 28)"
      ]
     },
     "execution_count": 6,
     "metadata": {},
     "output_type": "execute_result"
    }
   ],
   "source": [
    "x_train.shape"
   ]
  },
  {
   "cell_type": "code",
   "execution_count": 7,
   "id": "0296b787",
   "metadata": {},
   "outputs": [
    {
     "data": {
      "text/plain": [
       "(60000,)"
      ]
     },
     "execution_count": 7,
     "metadata": {},
     "output_type": "execute_result"
    }
   ],
   "source": [
    "y_train.shape"
   ]
  },
  {
   "cell_type": "code",
   "execution_count": 10,
   "id": "b86d6a9d",
   "metadata": {},
   "outputs": [
    {
     "data": {
      "text/plain": [
       "(10000, 28, 28)"
      ]
     },
     "execution_count": 10,
     "metadata": {},
     "output_type": "execute_result"
    }
   ],
   "source": [
    "x_test.shape"
   ]
  },
  {
   "cell_type": "code",
   "execution_count": 11,
   "id": "36f2a5e2",
   "metadata": {},
   "outputs": [
    {
     "data": {
      "text/plain": [
       "(10000,)"
      ]
     },
     "execution_count": 11,
     "metadata": {},
     "output_type": "execute_result"
    }
   ],
   "source": [
    "y_test.shape"
   ]
  },
  {
   "cell_type": "code",
   "execution_count": 12,
   "id": "edcd5508",
   "metadata": {},
   "outputs": [
    {
     "data": {
      "text/plain": [
       "((28, 28), ())"
      ]
     },
     "execution_count": 12,
     "metadata": {},
     "output_type": "execute_result"
    }
   ],
   "source": [
    "x_train[0].shape , y_train[0].shape"
   ]
  },
  {
   "cell_type": "code",
   "execution_count": 14,
   "id": "5f38c0fb",
   "metadata": {},
   "outputs": [],
   "source": [
    "class_names = ['T-shirt/top', 'Trouser', 'Pullover', 'Dress', 'Coat', 'Sandal', 'Shirt', 'Sneaker', 'Bag', 'Ankle boot']"
   ]
  },
  {
   "cell_type": "code",
   "execution_count": 15,
   "id": "6167a7e2",
   "metadata": {},
   "outputs": [
    {
     "data": {
      "text/plain": [
       "10"
      ]
     },
     "execution_count": 15,
     "metadata": {},
     "output_type": "execute_result"
    }
   ],
   "source": [
    "len(class_names)"
   ]
  },
  {
   "cell_type": "code",
   "execution_count": 26,
   "id": "032563ab",
   "metadata": {
    "scrolled": true
   },
   "outputs": [
    {
     "name": "stdout",
     "output_type": "stream",
     "text": [
      "9\n"
     ]
    },
    {
     "data": {
      "image/png": "[encoded data removed]",
      "text/plain": [
       "<Figure size 432x288 with 1 Axes>"
      ]
     },
     "metadata": {
      "needs_background": "light"
     },
     "output_type": "display_data"
    }
   ],
   "source": [
    "plt.imshow(x_train[0] , cmap='gray')\n",
    "plt.title(class_names[y_train[0]] , c='y' , size=14)\n",
    "print(y_train[0])"
   ]
  },
  {
   "cell_type": "code",
   "execution_count": 28,
   "id": "b5b6af0c",
   "metadata": {},
   "outputs": [
    {
     "data": {
      "image/png": "[encoded data removed]",
      "text/plain": [
       "<Figure size 432x288 with 1 Axes>"
      ]
     },
     "metadata": {
      "needs_background": "light"
     },
     "output_type": "display_data"
    }
   ],
   "source": [
    "plt.imshow(x_train[17] , cmap='gray')\n",
    "plt.xlabel(class_names[y_train[17]] , c='y' , size=14);"
   ]
  },
  {
   "cell_type": "code",
   "execution_count": 29,
   "id": "9959e91a",
   "metadata": {},
   "outputs": [
    {
     "data": {
      "image/png": "[encoded data removed]",
      "text/plain": [
       "<Figure size 432x432 with 4 Axes>"
      ]
     },
     "metadata": {
      "needs_background": "light"
     },
     "output_type": "display_data"
    }
   ],
   "source": [
    "import random\n",
    "plt.figure(figsize=(6,6))\n",
    "for i in range(4):\n",
    "  ax = plt.subplot(2, 2, i + 1)\n",
    "  rand_index = random.choice(range(len(x_train)))\n",
    "  plt.imshow(x_train[rand_index], cmap='gray')\n",
    "  plt.title(class_names[y_train[rand_index]] , c='y' , size=14) \n",
    "  plt.axis(False)"
   ]
  },
  {
   "cell_type": "code",
   "execution_count": 30,
   "id": "6c2945f7",
   "metadata": {},
   "outputs": [
    {
     "data": {
      "text/plain": [
       "'Ankle boot'"
      ]
     },
     "execution_count": 30,
     "metadata": {},
     "output_type": "execute_result"
    }
   ],
   "source": [
    "class_names[y_train[0]]"
   ]
  },
  {
   "cell_type": "code",
   "execution_count": 51,
   "id": "d2fe228d",
   "metadata": {},
   "outputs": [],
   "source": [
    "model_1 = tf.keras.Sequential([\n",
    "    tf.keras.layers.Flatten(input_shape=(28,28)),\n",
    "    tf.keras.layers.Dense(4,activation='relu'),\n",
    "    tf.keras.layers.Dense(4,activation='relu'),\n",
    "    tf.keras.layers.Dense(10,activation='softmax')\n",
    "])"
   ]
  },
  {
   "cell_type": "code",
   "execution_count": 52,
   "id": "aeaf33c8",
   "metadata": {},
   "outputs": [],
   "source": [
    "model_1.compile(loss=tf.keras.losses.SparseCategoricalCrossentropy(),\n",
    "                optimizer = tf.keras.optimizers.Adam(),\n",
    "                metrics=['accuracy'])"
   ]
  },
  {
   "cell_type": "code",
   "execution_count": 53,
   "id": "6eba7255",
   "metadata": {},
   "outputs": [
    {
     "data": {
      "text/plain": [
       "<keras.callbacks.History at 0x15f1fe69c40>"
      ]
     },
     "execution_count": 53,
     "metadata": {},
     "output_type": "execute_result"
    }
   ],
   "source": [
    "model_1.fit(x_train,y_train,epochs=10,verbose=0)"
   ]
  },
  {
   "cell_type": "code",
   "execution_count": 63,
   "id": "ff478612",
   "metadata": {},
   "outputs": [
    {
     "name": "stdout",
     "output_type": "stream",
     "text": [
      "Epoch 1/10\n",
      "1875/1875 [==============================] - 3s 1ms/step - loss: 2.1451 - accuracy: 0.2479 - val_loss: 1.5052 - val_accuracy: 0.3659\n",
      "Epoch 2/10\n",
      "1875/1875 [==============================] - 2s 1ms/step - loss: 1.4677 - accuracy: 0.3857 - val_loss: 1.4412 - val_accuracy: 0.4049\n",
      "Epoch 3/10\n",
      "1875/1875 [==============================] - 2s 980us/step - loss: 1.3842 - accuracy: 0.4220 - val_loss: 1.3467 - val_accuracy: 0.4372\n",
      "Epoch 4/10\n",
      "1875/1875 [==============================] - 2s 965us/step - loss: 1.3091 - accuracy: 0.4407 - val_loss: 1.2946 - val_accuracy: 0.4561\n",
      "Epoch 5/10\n",
      "1875/1875 [==============================] - 2s 982us/step - loss: 1.2720 - accuracy: 0.4566 - val_loss: 1.2731 - val_accuracy: 0.4535\n",
      "Epoch 6/10\n",
      "1875/1875 [==============================] - 2s 950us/step - loss: 1.2515 - accuracy: 0.4640 - val_loss: 1.2544 - val_accuracy: 0.4695\n",
      "Epoch 7/10\n",
      "1875/1875 [==============================] - 2s 958us/step - loss: 1.2385 - accuracy: 0.4718 - val_loss: 1.2444 - val_accuracy: 0.4732\n",
      "Epoch 8/10\n",
      "1875/1875 [==============================] - 2s 1ms/step - loss: 1.2304 - accuracy: 0.4763 - val_loss: 1.2371 - val_accuracy: 0.4759\n",
      "Epoch 9/10\n",
      "1875/1875 [==============================] - 2s 1ms/step - loss: 1.2238 - accuracy: 0.4804 - val_loss: 1.2337 - val_accuracy: 0.4808\n",
      "Epoch 10/10\n",
      "1875/1875 [==============================] - 2s 973us/step - loss: 1.2194 - accuracy: 0.4821 - val_loss: 1.2373 - val_accuracy: 0.4813\n"
     ]
    }
   ],
   "source": [
    "non_norm_history = model_1.fit(x_train,y_train,epochs=10,validation_data=(x_test, y_test))"
   ]
  },
  {
   "cell_type": "code",
   "execution_count": 55,
   "id": "5c9212cd",
   "metadata": {},
   "outputs": [
    {
     "name": "stdout",
     "output_type": "stream",
     "text": [
      "313/313 [==============================] - 0s 1ms/step - loss: 1.5903 - accuracy: 0.3209\n"
     ]
    },
    {
     "data": {
      "text/plain": [
       "[1.5903432369232178, 0.32089999318122864]"
      ]
     },
     "execution_count": 55,
     "metadata": {},
     "output_type": "execute_result"
    }
   ],
   "source": [
    "model_1.evaluate(x_test,y_test)"
   ]
  },
  {
   "cell_type": "code",
   "execution_count": 56,
   "id": "efd4565b",
   "metadata": {},
   "outputs": [
    {
     "name": "stdout",
     "output_type": "stream",
     "text": [
      "Model: \"sequential_1\"\n",
      "_________________________________________________________________\n",
      " Layer (type)                Output Shape              Param #   \n",
      "=================================================================\n",
      " flatten_1 (Flatten)         (None, 784)               0         \n",
      "                                                                 \n",
      " dense_3 (Dense)             (None, 4)                 3140      \n",
      "                                                                 \n",
      " dense_4 (Dense)             (None, 4)                 20        \n",
      "                                                                 \n",
      " dense_5 (Dense)             (None, 10)                50        \n",
      "                                                                 \n",
      "=================================================================\n",
      "Total params: 3,210\n",
      "Trainable params: 3,210\n",
      "Non-trainable params: 0\n",
      "_________________________________________________________________\n"
     ]
    }
   ],
   "source": [
    "model_1.summary()"
   ]
  },
  {
   "cell_type": "code",
   "execution_count": 31,
   "id": "6896061b",
   "metadata": {},
   "outputs": [
    {
     "data": {
      "text/plain": [
       "(0.0, 1.0)"
      ]
     },
     "execution_count": 31,
     "metadata": {},
     "output_type": "execute_result"
    }
   ],
   "source": [
    "x_train = x_train / 255.0\n",
    "x_test = x_test / 255.0\n",
    "x_train.min() , x_train.max()"
   ]
  },
  {
   "cell_type": "code",
   "execution_count": 76,
   "id": "8fd6c169",
   "metadata": {},
   "outputs": [],
   "source": [
    "tf.random.set_seed(42)\n",
    "model_2 = tf.keras.Sequential([\n",
    "    tf.keras.layers.Flatten(input_shape=(28,28)),\n",
    "    tf.keras.layers.Dense(4,activation='relu'),\n",
    "    tf.keras.layers.Dense(4,activation='relu'),\n",
    "    tf.keras.layers.Dense(10,activation='softmax')\n",
    "])"
   ]
  },
  {
   "cell_type": "code",
   "execution_count": 77,
   "id": "63d7bcf7",
   "metadata": {},
   "outputs": [],
   "source": [
    "model_2.compile(loss= tf.keras.losses.SparseCategoricalCrossentropy(),\n",
    "                optimizer = tf.keras.optimizers.Adam() ,\n",
    "                metrics = ['accuracy'])"
   ]
  },
  {
   "cell_type": "code",
   "execution_count": 78,
   "id": "3d29c7cc",
   "metadata": {},
   "outputs": [
    {
     "name": "stdout",
     "output_type": "stream",
     "text": [
      "Epoch 1/10\n",
      "1875/1875 [==============================] - 3s 1ms/step - loss: 1.0348 - accuracy: 0.6474 - val_loss: 0.6937 - val_accuracy: 0.7617\n",
      "Epoch 2/10\n",
      "1875/1875 [==============================] - 2s 1ms/step - loss: 0.6376 - accuracy: 0.7757 - val_loss: 0.6400 - val_accuracy: 0.7820\n",
      "Epoch 3/10\n",
      "1875/1875 [==============================] - 2s 1ms/step - loss: 0.5942 - accuracy: 0.7914 - val_loss: 0.6247 - val_accuracy: 0.7783\n",
      "Epoch 4/10\n",
      "1875/1875 [==============================] - 2s 943us/step - loss: 0.5750 - accuracy: 0.7979 - val_loss: 0.6078 - val_accuracy: 0.7881\n",
      "Epoch 5/10\n",
      "1875/1875 [==============================] - 2s 953us/step - loss: 0.5641 - accuracy: 0.8006 - val_loss: 0.6169 - val_accuracy: 0.7881\n",
      "Epoch 6/10\n",
      "1875/1875 [==============================] - 2s 968us/step - loss: 0.5544 - accuracy: 0.8043 - val_loss: 0.5855 - val_accuracy: 0.7951\n",
      "Epoch 7/10\n",
      "1875/1875 [==============================] - 2s 953us/step - loss: 0.5488 - accuracy: 0.8063 - val_loss: 0.6097 - val_accuracy: 0.7836\n",
      "Epoch 8/10\n",
      "1875/1875 [==============================] - 2s 951us/step - loss: 0.5428 - accuracy: 0.8077 - val_loss: 0.5787 - val_accuracy: 0.7971\n",
      "Epoch 9/10\n",
      "1875/1875 [==============================] - 2s 959us/step - loss: 0.5373 - accuracy: 0.8097 - val_loss: 0.5698 - val_accuracy: 0.7977\n",
      "Epoch 10/10\n",
      "1875/1875 [==============================] - 2s 939us/step - loss: 0.5360 - accuracy: 0.8124 - val_loss: 0.5658 - val_accuracy: 0.8014\n"
     ]
    }
   ],
   "source": [
    "norm_history = model_2.fit(x_train,y_train,\n",
    "            epochs=10,\n",
    "            validation_data=(x_test,y_test))"
   ]
  },
  {
   "cell_type": "code",
   "execution_count": 79,
   "id": "ef0b504e",
   "metadata": {},
   "outputs": [
    {
     "name": "stdout",
     "output_type": "stream",
     "text": [
      "313/313 [==============================] - 0s 791us/step - loss: 0.5658 - accuracy: 0.8014\n"
     ]
    },
    {
     "data": {
      "text/plain": [
       "[0.5658251047134399, 0.8014000058174133]"
      ]
     },
     "execution_count": 79,
     "metadata": {},
     "output_type": "execute_result"
    }
   ],
   "source": [
    "model_2.evaluate(x_test,y_test)"
   ]
  },
  {
   "cell_type": "code",
   "execution_count": 80,
   "id": "bbe6ef8a",
   "metadata": {},
   "outputs": [
    {
     "data": {
      "text/plain": [
       "{'loss': [2.145080089569092,\n",
       "  1.4676789045333862,\n",
       "  1.3842167854309082,\n",
       "  1.309102177619934,\n",
       "  1.271990180015564,\n",
       "  1.251522183418274,\n",
       "  1.238481044769287,\n",
       "  1.2303866147994995,\n",
       "  1.223773717880249,\n",
       "  1.2193775177001953],\n",
       " 'accuracy': [0.24793332815170288,\n",
       "  0.38571667671203613,\n",
       "  0.4219833314418793,\n",
       "  0.44066667556762695,\n",
       "  0.4566333293914795,\n",
       "  0.46399998664855957,\n",
       "  0.4717666804790497,\n",
       "  0.47626665234565735,\n",
       "  0.48036667704582214,\n",
       "  0.48213332891464233],\n",
       " 'val_loss': [1.5052411556243896,\n",
       "  1.4412131309509277,\n",
       "  1.3466706275939941,\n",
       "  1.294587254524231,\n",
       "  1.2731295824050903,\n",
       "  1.2544177770614624,\n",
       "  1.2443796396255493,\n",
       "  1.237146258354187,\n",
       "  1.2337125539779663,\n",
       "  1.2373290061950684],\n",
       " 'val_accuracy': [0.3659000098705292,\n",
       "  0.4049000144004822,\n",
       "  0.43720000982284546,\n",
       "  0.4560999870300293,\n",
       "  0.45350000262260437,\n",
       "  0.46950000524520874,\n",
       "  0.4731999933719635,\n",
       "  0.47589999437332153,\n",
       "  0.48080000281333923,\n",
       "  0.4812999963760376]}"
      ]
     },
     "execution_count": 80,
     "metadata": {},
     "output_type": "execute_result"
    }
   ],
   "source": [
    "non_norm_history.history"
   ]
  },
  {
   "cell_type": "code",
   "execution_count": 81,
   "id": "093654bf",
   "metadata": {},
   "outputs": [
    {
     "data": {
      "text/plain": [
       "{'loss': [1.0347838401794434,\n",
       "  0.6375991702079773,\n",
       "  0.5942122340202332,\n",
       "  0.574958324432373,\n",
       "  0.5641122460365295,\n",
       "  0.5544357895851135,\n",
       "  0.5487954616546631,\n",
       "  0.5428295731544495,\n",
       "  0.5372939705848694,\n",
       "  0.5359908938407898],\n",
       " 'accuracy': [0.647433340549469,\n",
       "  0.7756666541099548,\n",
       "  0.7913833260536194,\n",
       "  0.7979166507720947,\n",
       "  0.800599992275238,\n",
       "  0.8042666912078857,\n",
       "  0.8062833547592163,\n",
       "  0.8077333569526672,\n",
       "  0.8096500039100647,\n",
       "  0.812416672706604],\n",
       " 'val_loss': [0.6937335133552551,\n",
       "  0.6400147676467896,\n",
       "  0.6247132420539856,\n",
       "  0.607759952545166,\n",
       "  0.6168836951255798,\n",
       "  0.5855279564857483,\n",
       "  0.6096576452255249,\n",
       "  0.5786882638931274,\n",
       "  0.569830596446991,\n",
       "  0.5658251047134399],\n",
       " 'val_accuracy': [0.7616999745368958,\n",
       "  0.7820000052452087,\n",
       "  0.7782999873161316,\n",
       "  0.788100004196167,\n",
       "  0.788100004196167,\n",
       "  0.7950999736785889,\n",
       "  0.7835999727249146,\n",
       "  0.7971000075340271,\n",
       "  0.7976999878883362,\n",
       "  0.8014000058174133]}"
      ]
     },
     "execution_count": 81,
     "metadata": {},
     "output_type": "execute_result"
    }
   ],
   "source": [
    "norm_history.history"
   ]
  },
  {
   "cell_type": "code",
   "execution_count": 82,
   "id": "6827749a",
   "metadata": {},
   "outputs": [
    {
     "data": {
      "text/plain": [
       "<AxesSubplot:title={'center':'non_norm'}>"
      ]
     },
     "execution_count": 82,
     "metadata": {},
     "output_type": "execute_result"
    },
    {
     "data": {
      "image/png": "[encoded data removed]",
      "text/plain": [
       "<Figure size 432x288 with 1 Axes>"
      ]
     },
     "metadata": {
      "needs_background": "light"
     },
     "output_type": "display_data"
    }
   ],
   "source": [
    "pd.DataFrame(non_norm_history.history).plot(title=\"non_norm\")"
   ]
  },
  {
   "cell_type": "code",
   "execution_count": 83,
   "id": "8798b11f",
   "metadata": {},
   "outputs": [
    {
     "data": {
      "text/plain": [
       "<AxesSubplot:title={'center':'affsgfs'}>"
      ]
     },
     "execution_count": 83,
     "metadata": {},
     "output_type": "execute_result"
    },
    {
     "data": {
      "image/png": "[encoded data removed]",
      "text/plain": [
       "<Figure size 432x288 with 1 Axes>"
      ]
     },
     "metadata": {
      "needs_background": "light"
     },
     "output_type": "display_data"
    }
   ],
   "source": [
    "pd.DataFrame(norm_history.history).plot(title=\"affsgfs\")"
   ]
  },
  {
   "cell_type": "code",
   "execution_count": 32,
   "id": "cb80dd52",
   "metadata": {},
   "outputs": [],
   "source": [
    "tf.random.set_seed(42)\n",
    "model_3 = tf.keras.Sequential([\n",
    "    tf.keras.layers.Flatten(input_shape=(28,28)),\n",
    "    tf.keras.layers.Dense(90,activation='relu'),\n",
    "    tf.keras.layers.Dense(90,activation='relu'),\n",
    "    tf.keras.layers.Dense(10,activation='softmax')\n",
    "])"
   ]
  },
  {
   "cell_type": "code",
   "execution_count": 33,
   "id": "37df8b1d",
   "metadata": {},
   "outputs": [],
   "source": [
    "model_3.compile(loss= tf.keras.losses.SparseCategoricalCrossentropy(),\n",
    "                optimizer = tf.keras.optimizers.Adam() ,\n",
    "                metrics = ['accuracy'])"
   ]
  },
  {
   "cell_type": "code",
   "execution_count": 34,
   "id": "9a522295",
   "metadata": {},
   "outputs": [],
   "source": [
    "lr_scheduler = tf.keras.callbacks.LearningRateScheduler(lambda epoch: 1e-3 * 10**(epoch/20))"
   ]
  },
  {
   "cell_type": "code",
   "execution_count": 35,
   "id": "729d7868",
   "metadata": {},
   "outputs": [
    {
     "name": "stdout",
     "output_type": "stream",
     "text": [
      "Epoch 1/15\n",
      "1875/1875 [==============================] - 5s 1ms/step - loss: 0.4933 - accuracy: 0.8252 - lr: 0.0010\n",
      "Epoch 2/15\n",
      "1875/1875 [==============================] - 2s 1ms/step - loss: 0.3708 - accuracy: 0.8651 - lr: 0.0011\n",
      "Epoch 3/15\n",
      "1875/1875 [==============================] - 2s 1ms/step - loss: 0.3407 - accuracy: 0.8752 - lr: 0.0013\n",
      "Epoch 4/15\n",
      "1875/1875 [==============================] - 3s 1ms/step - loss: 0.3231 - accuracy: 0.8809 - lr: 0.0014\n",
      "Epoch 5/15\n",
      "1875/1875 [==============================] - 2s 1ms/step - loss: 0.3115 - accuracy: 0.8840 - lr: 0.0016\n",
      "Epoch 6/15\n",
      "1875/1875 [==============================] - 2s 1ms/step - loss: 0.3005 - accuracy: 0.8873 - lr: 0.0018\n",
      "Epoch 7/15\n",
      "1875/1875 [==============================] - 3s 1ms/step - loss: 0.2971 - accuracy: 0.8906 - lr: 0.0020\n",
      "Epoch 8/15\n",
      "1875/1875 [==============================] - 3s 1ms/step - loss: 0.2967 - accuracy: 0.8898 - lr: 0.0022\n",
      "Epoch 9/15\n",
      "1875/1875 [==============================] - 3s 1ms/step - loss: 0.2931 - accuracy: 0.8913 - lr: 0.0025\n",
      "Epoch 10/15\n",
      "1875/1875 [==============================] - 2s 1ms/step - loss: 0.2978 - accuracy: 0.8894 - lr: 0.0028\n",
      "Epoch 11/15\n",
      "1875/1875 [==============================] - 2s 1ms/step - loss: 0.2990 - accuracy: 0.8897 - lr: 0.0032\n",
      "Epoch 12/15\n",
      "1875/1875 [==============================] - 2s 1ms/step - loss: 0.3008 - accuracy: 0.8887 - lr: 0.0035\n",
      "Epoch 13/15\n",
      "1875/1875 [==============================] - 3s 1ms/step - loss: 0.3063 - accuracy: 0.8878 - lr: 0.0040\n",
      "Epoch 14/15\n",
      "1875/1875 [==============================] - 3s 1ms/step - loss: 0.3089 - accuracy: 0.8873 - lr: 0.0045\n",
      "Epoch 15/15\n",
      "1875/1875 [==============================] - 2s 1ms/step - loss: 0.3146 - accuracy: 0.8841 - lr: 0.0050\n"
     ]
    }
   ],
   "source": [
    "model_3_history = model_3.fit(x_train,y_train,\n",
    "                              epochs=15,\n",
    "                              callbacks=[lr_scheduler])"
   ]
  },
  {
   "cell_type": "code",
   "execution_count": 36,
   "id": "10df65e3",
   "metadata": {},
   "outputs": [
    {
     "name": "stdout",
     "output_type": "stream",
     "text": [
      "313/313 [==============================] - 1s 908us/step - loss: 0.4011 - accuracy: 0.8591\n",
      "0.40107011795043945 0.8590999841690063\n"
     ]
    }
   ],
   "source": [
    "test_loss , test_acc = model_3.evaluate(x_test,y_test)\n",
    "print(test_loss,test_acc)"
   ]
  },
  {
   "cell_type": "code",
   "execution_count": 48,
   "id": "6fa4b61d",
   "metadata": {},
   "outputs": [
    {
     "data": {
      "text/plain": [
       "(array([1.e-05, 1.e-04, 1.e-03, 1.e-02, 1.e-01]),\n",
       " [Text(0, 0, ''),\n",
       "  Text(0, 0, ''),\n",
       "  Text(0, 0, ''),\n",
       "  Text(0, 0, ''),\n",
       "  Text(0, 0, '')])"
      ]
     },
     "execution_count": 48,
     "metadata": {},
     "output_type": "execute_result"
    },
    {
     "data": {
      "image/png": "[encoded data removed]",
      "text/plain": [
       "<Figure size 600x400 with 1 Axes>"
      ]
     },
     "metadata": {},
     "output_type": "display_data"
    }
   ],
   "source": [
    "# 15 is the number of epochs\n",
    "plt.figure(dpi=100)\n",
    "lrs = 1e-3 * (10**(np.arange(15)/20))\n",
    "plt.semilogx(lrs, model_3_history.history[\"loss\"]) # want the x-axis to be log-scale\n",
    "plt.xlabel(\"Learning rate\" , c='y')\n",
    "plt.ylabel(\"Loss\", c='y')\n",
    "plt.title(\"Finding the ideal learning rate\", c='y')\n",
    "plt.xticks(c='y')"
   ]
  },
  {
   "cell_type": "code",
   "execution_count": 50,
   "id": "2f9726b5",
   "metadata": {},
   "outputs": [
    {
     "data": {
      "image/png": "[encoded data removed]",
      "text/plain": [
       "<Figure size 432x288 with 1 Axes>"
      ]
     },
     "metadata": {
      "needs_background": "light"
     },
     "output_type": "display_data"
    }
   ],
   "source": [
    "plt.imshow(x_test[0] , cmap='gray')\n",
    "plt.title(class_names[y_test[0]] , c='y' ,size=14)\n",
    "plt.show()"
   ]
  },
  {
   "cell_type": "code",
   "execution_count": 53,
   "id": "851c1f0b",
   "metadata": {},
   "outputs": [
    {
     "data": {
      "image/png": "[encoded data removed]",
      "text/plain": [
       "<Figure size 576x576 with 16 Axes>"
      ]
     },
     "metadata": {},
     "output_type": "display_data"
    }
   ],
   "source": [
    "plt.figure(figsize=(8,8))\n",
    "for i in range(16):\n",
    "    plt.subplot(4,4,i+1)\n",
    "    plt.xticks([])\n",
    "    plt.yticks([])\n",
    "    plt.imshow(x_train[i],cmap='gray')\n",
    "    plt.title(class_names[y_train[i]] , c='y' , size=12)\n",
    "plt.show()"
   ]
  },
  {
   "cell_type": "code",
   "execution_count": 54,
   "id": "d733852d",
   "metadata": {},
   "outputs": [
    {
     "name": "stdout",
     "output_type": "stream",
     "text": [
      "313/313 [==============================] - 0s 811us/step\n"
     ]
    }
   ],
   "source": [
    "y_pred = model_3.predict(x_test)"
   ]
  },
  {
   "cell_type": "code",
   "execution_count": 56,
   "id": "06cc352f",
   "metadata": {},
   "outputs": [
    {
     "data": {
      "text/plain": [
       "array([1.69004174e-29, 1.03982703e-22, 2.85256569e-19, 1.84435477e-28,\n",
       "       3.06222713e-25, 7.67484437e-07, 9.28202973e-22, 3.76176694e-03,\n",
       "       1.21411475e-14, 9.96237397e-01], dtype=float32)"
      ]
     },
     "execution_count": 56,
     "metadata": {},
     "output_type": "execute_result"
    }
   ],
   "source": [
    "y_pred[0] # show output classes as a probability of all classes as numbers"
   ]
  },
  {
   "cell_type": "code",
   "execution_count": 57,
   "id": "788299aa",
   "metadata": {},
   "outputs": [
    {
     "data": {
      "text/plain": [
       "9"
      ]
     },
     "execution_count": 57,
     "metadata": {},
     "output_type": "execute_result"
    }
   ],
   "source": [
    "np.argmax(y_pred[0]) # take the large number of predicted probability of all classes "
   ]
  },
  {
   "cell_type": "code",
   "execution_count": 58,
   "id": "665b0775",
   "metadata": {},
   "outputs": [
    {
     "data": {
      "text/plain": [
       "'Ankle boot'"
      ]
     },
     "execution_count": 58,
     "metadata": {},
     "output_type": "execute_result"
    }
   ],
   "source": [
    "class_names[y_train[0]]"
   ]
  },
  {
   "cell_type": "code",
   "execution_count": 60,
   "id": "3170b83e",
   "metadata": {},
   "outputs": [
    {
     "data": {
      "text/plain": [
       "'Ankle boot'"
      ]
     },
     "execution_count": 60,
     "metadata": {},
     "output_type": "execute_result"
    }
   ],
   "source": [
    "class_names[y_test[0]]"
   ]
  },
  {
   "cell_type": "code",
   "execution_count": 61,
   "id": "00ccdccd",
   "metadata": {},
   "outputs": [
    {
     "name": "stdout",
     "output_type": "stream",
     "text": [
      "9 Ankle boot\n"
     ]
    }
   ],
   "source": [
    "print(y_test[0] , class_names[y_test[0]])"
   ]
  },
  {
   "cell_type": "code",
   "execution_count": 62,
   "id": "2803918c",
   "metadata": {},
   "outputs": [
    {
     "name": "stdout",
     "output_type": "stream",
     "text": [
      "9 Ankle boot\n"
     ]
    }
   ],
   "source": [
    "kk = np.argmax(y_pred[0])\n",
    "print(kk , class_names[kk])"
   ]
  },
  {
   "cell_type": "code",
   "execution_count": 65,
   "id": "c1502464",
   "metadata": {},
   "outputs": [
    {
     "name": "stdout",
     "output_type": "stream",
     "text": [
      "y_test value is  index 9 Ankle boot\n",
      "y_pred value is  index 9 Ankle boot\n"
     ]
    }
   ],
   "source": [
    "i = 0\n",
    "print(\"y_test value is \" , \"index\" , y_test[i] , class_names[y_test[i]])\n",
    "kk = np.argmax(y_pred[i])\n",
    "print(\"y_pred value is \" , \"index\" , kk , class_names[kk])"
   ]
  },
  {
   "cell_type": "code",
   "execution_count": 66,
   "id": "91be1419",
   "metadata": {},
   "outputs": [
    {
     "name": "stdout",
     "output_type": "stream",
     "text": [
      "y_test value is  index 4 Coat\n",
      "y_pred value is  index 2 Pullover\n"
     ]
    }
   ],
   "source": [
    "i = 4025\n",
    "print(\"y_test value is \" , \"index\" , y_test[i] , class_names[y_test[i]])\n",
    "kk = np.argmax(y_pred[i])\n",
    "print(\"y_pred value is \" , \"index\" , kk , class_names[kk])"
   ]
  },
  {
   "cell_type": "code",
   "execution_count": 67,
   "id": "87165fc7",
   "metadata": {},
   "outputs": [],
   "source": [
    "def plot_image(i, predictions_array, true_label, img):\n",
    "  predictions_array, true_label, img = predictions_array[i], true_label[i], img[i]\n",
    "  plt.grid(False)\n",
    "  plt.xticks([])\n",
    "  plt.yticks([])\n",
    "  \n",
    "  plt.imshow(img, cmap=plt.cm.binary)\n",
    "  \n",
    "  predicted_label = np.argmax(predictions_array)\n",
    "  if predicted_label == true_label:\n",
    "    color = 'blue'\n",
    "  else:\n",
    "    color = 'red'\n",
    "  \n",
    "  plt.xlabel(\"{} {:2.0f}% ({})\".format(class_names[predicted_label],\n",
    "                                100*np.max(predictions_array),\n",
    "                                class_names[true_label]),\n",
    "                                color=color)"
   ]
  },
  {
   "cell_type": "code",
   "execution_count": 68,
   "id": "59fa667f",
   "metadata": {},
   "outputs": [],
   "source": [
    "def plot_value_array(i, predictions_array, true_label):\n",
    "  predictions_array, true_label = predictions_array[i], true_label[i]\n",
    "  plt.grid(False)\n",
    "  plt.xticks([])\n",
    "  plt.yticks([])\n",
    "  thisplot = plt.bar(range(10), predictions_array, color=\"#777777\")\n",
    "  plt.ylim([0, 1])\n",
    "  predicted_label = np.argmax(predictions_array)\n",
    "  \n",
    "  thisplot[predicted_label].set_color('red')\n",
    "  thisplot[true_label].set_color('blue')"
   ]
  },
  {
   "cell_type": "code",
   "execution_count": 74,
   "id": "2bf72231",
   "metadata": {},
   "outputs": [
    {
     "data": {
      "image/png": "[encoded data removed]",
      "text/plain": [
       "<Figure size 432x360 with 2 Axes>"
      ]
     },
     "metadata": {},
     "output_type": "display_data"
    },
    {
     "name": "stdout",
     "output_type": "stream",
     "text": [
      "Ankle boot\n"
     ]
    }
   ],
   "source": [
    "i = 0\n",
    "plt.figure(figsize=(6,5))\n",
    "plt.subplot(1,2,1)\n",
    "plot_image(i, y_pred, y_test, x_test)\n",
    "plt.subplot(1,2,2)\n",
    "plot_value_array(i, y_pred,  y_test)\n",
    "plt.show();\n",
    "print(class_names[y_test[0]])"
   ]
  },
  {
   "cell_type": "code",
   "execution_count": 75,
   "id": "2c764d98",
   "metadata": {},
   "outputs": [
    {
     "data": {
      "image/png": "[encoded data removed]",
      "text/plain": [
       "<Figure size 432x360 with 2 Axes>"
      ]
     },
     "metadata": {},
     "output_type": "display_data"
    },
    {
     "name": "stdout",
     "output_type": "stream",
     "text": [
      "Coat\n"
     ]
    }
   ],
   "source": [
    "i = 4025\n",
    "plt.figure(figsize=(6,5))\n",
    "plt.subplot(1,2,1)\n",
    "plot_image(i, y_pred, y_test, x_test)\n",
    "plt.subplot(1,2,2)\n",
    "plot_value_array(i, y_pred,  y_test)\n",
    "plt.show()\n",
    "print(class_names[y_test[4025]])"
   ]
  },
  {
   "cell_type": "code",
   "execution_count": 76,
   "id": "da394a39",
   "metadata": {},
   "outputs": [
    {
     "name": "stdout",
     "output_type": "stream",
     "text": [
      "313/313 [==============================] - 0s 815us/step\n"
     ]
    },
    {
     "data": {
      "text/plain": [
       "array([1.69004174e-29, 1.03982703e-22, 2.85256569e-19, 1.84435477e-28,\n",
       "       3.06222713e-25, 7.67484437e-07, 9.28202973e-22, 3.76176694e-03,\n",
       "       1.21411475e-14, 9.96237397e-01], dtype=float32)"
      ]
     },
     "execution_count": 76,
     "metadata": {},
     "output_type": "execute_result"
    }
   ],
   "source": [
    "y_probs = model_3.predict(x_test)\n",
    "y_probs[0]"
   ]
  },
  {
   "cell_type": "code",
   "execution_count": 79,
   "id": "f6f1968f",
   "metadata": {},
   "outputs": [
    {
     "data": {
      "text/plain": [
       "(9, 'Ankle boot')"
      ]
     },
     "execution_count": 79,
     "metadata": {},
     "output_type": "execute_result"
    }
   ],
   "source": [
    "y_probs[0].argmax() , class_names[y_probs[0].argmax()]"
   ]
  },
  {
   "cell_type": "code",
   "execution_count": 80,
   "id": "b85cb954",
   "metadata": {},
   "outputs": [
    {
     "data": {
      "text/plain": [
       "array([9, 2, 1, ..., 8, 1, 5], dtype=int64)"
      ]
     },
     "execution_count": 80,
     "metadata": {},
     "output_type": "execute_result"
    }
   ],
   "source": [
    "y_pred = y_probs.argmax(axis=1)\n",
    "y_pred"
   ]
  },
  {
   "cell_type": "code",
   "execution_count": 81,
   "id": "76d3ba39",
   "metadata": {},
   "outputs": [
    {
     "data": {
      "text/plain": [
       "array([9, 2, 1, ..., 8, 1, 5], dtype=uint8)"
      ]
     },
     "execution_count": 81,
     "metadata": {},
     "output_type": "execute_result"
    }
   ],
   "source": [
    "y_test"
   ]
  },
  {
   "cell_type": "code",
   "execution_count": 124,
   "id": "1186cd23",
   "metadata": {},
   "outputs": [],
   "source": [
    "from sklearn.metrics import confusion_matrix,plot_confusion_matrix"
   ]
  },
  {
   "cell_type": "code",
   "execution_count": 84,
   "id": "23560549",
   "metadata": {},
   "outputs": [
    {
     "data": {
      "text/plain": [
       "array([[743,   1,   7,  59,   1,   1, 179,   0,   9,   0],\n",
       "       [  2, 963,   0,  26,   2,   0,   5,   0,   2,   0],\n",
       "       [ 11,   2, 812,  23,  40,   0, 112,   0,   0,   0],\n",
       "       [ 15,   5,   6, 938,   0,   1,  28,   0,   7,   0],\n",
       "       [  0,   1, 208,  94, 639,   0,  54,   0,   4,   0],\n",
       "       [  0,   0,   0,   1,   0, 935,   0,  25,   2,  37],\n",
       "       [ 88,   0,  85,  51,  82,   0, 685,   0,   9,   0],\n",
       "       [  0,   0,   0,   0,   0,  14,   0, 940,   0,  46],\n",
       "       [  3,   0,   4,   8,   1,   1,   8,   5, 970,   0],\n",
       "       [  1,   0,   0,   0,   0,   4,   0,  29,   0, 966]], dtype=int64)"
      ]
     },
     "execution_count": 84,
     "metadata": {},
     "output_type": "execute_result"
    }
   ],
   "source": [
    "con = confusion_matrix(y_test,y_pred)\n",
    "con"
   ]
  },
  {
   "cell_type": "code",
   "execution_count": 130,
   "id": "c5d835ed",
   "metadata": {},
   "outputs": [],
   "source": [
    "# Note: The following confusion matrix code is a remix of Scikit-Learn's \n",
    "# plot_confusion_matrix function - https://scikit-learn.org/stable/modules/generated/sklearn.metrics.plot_confusion_matrix.html\n",
    "# and Made with ML's introductory notebook - https://github.com/GokuMohandas/MadeWithML/blob/main/notebooks/08_Neural_Networks.ipynb\n",
    "import itertools\n",
    "from sklearn.metrics import confusion_matrix\n",
    "\n",
    "# Our function needs a different name to sklearn's plot_confusion_matrix\n",
    "def make_confusion_matrix(y_true, y_pred, classes=None, figsize=(10, 10), text_size=15): \n",
    "  \"\"\"Makes a labelled confusion matrix comparing predictions and ground truth labels.\n",
    "\n",
    "  If classes is passed, confusion matrix will be labelled, if not, integer class values\n",
    "  will be used.\n",
    "\n",
    "  Args:\n",
    "    y_true: Array of truth labels (must be same shape as y_pred).\n",
    "    y_pred: Array of predicted labels (must be same shape as y_true).\n",
    "    classes: Array of class labels (e.g. string form). If `None`, integer labels are used.\n",
    "    figsize: Size of output figure (default=(10, 10)).\n",
    "    text_size: Size of output figure text (default=15).\n",
    "  \n",
    "  Returns:\n",
    "    A labelled confusion matrix plot comparing y_true and y_pred.\n",
    "\n",
    "  Example usage:\n",
    "    make_confusion_matrix(y_true=test_labels, # ground truth test labels\n",
    "                          y_pred=y_preds, # predicted labels\n",
    "                          classes=class_names, # array of class label names\n",
    "                          figsize=(15, 15),\n",
    "                          text_size=10)\n",
    "  \"\"\"  \n",
    "  # Create the confustion matrix\n",
    "  cm = confusion_matrix(y_true, y_pred)\n",
    "  cm_norm = cm.astype(\"float\") / cm.sum(axis=1)[:, np.newaxis] # normalize it\n",
    "  n_classes = cm.shape[0] # find the number of classes we're dealing with\n",
    "\n",
    "  # Plot the figure and make it pretty\n",
    "  fig, ax = plt.subplots(figsize=figsize)\n",
    "  cax = ax.matshow(cm, cmap=plt.cm.Blues) # colors will represent how 'correct' a class is, darker == better\n",
    "  fig.colorbar(cax)\n",
    "\n",
    "  # Are there a list of classes?\n",
    "  if classes:\n",
    "    labels = classes\n",
    "  else:\n",
    "    labels = np.arange(cm.shape[0])\n",
    "  \n",
    "  # Label the axes\n",
    "  ax.set(title=\"Confusion Matrix\",\n",
    "         xlabel=\"Predicted label\",\n",
    "         ylabel=\"True label\",\n",
    "         xticks=np.arange(n_classes), # create enough axis slots for each class\n",
    "         yticks=np.arange(n_classes), \n",
    "         xticklabels=labels, # axes will labeled with class names (if they exist) or ints\n",
    "         yticklabels=labels),\n",
    "         \n",
    "  \n",
    "  # Make x-axis labels appear on bottom\n",
    "  ax.xaxis.set_label_position(\"bottom\")\n",
    "  ax.xaxis.tick_bottom()\n",
    "\n",
    "  # Set the threshold for different colors\n",
    "  threshold = (cm.max() + cm.min()) / 2.\n",
    "\n",
    "  # Plot the text on each cell\n",
    "  for i, j in itertools.product(range(cm.shape[0]), range(cm.shape[1])):\n",
    "    plt.text(j, i, f\"{cm[i, j]} ({cm_norm[i, j]*100:.1f}%)\",\n",
    "             horizontalalignment=\"center\",\n",
    "             color=\"white\" if cm[i, j] > threshold else \"black\",\n",
    "             size=text_size)"
   ]
  },
  {
   "cell_type": "code",
   "execution_count": 133,
   "id": "594d5b44",
   "metadata": {},
   "outputs": [
    {
     "data": {
      "image/png": "[encoded data removed]",
      "text/plain": [
       "<Figure size 1080x1080 with 2 Axes>"
      ]
     },
     "metadata": {},
     "output_type": "display_data"
    }
   ],
   "source": [
    "make_confusion_matrix(y_true=y_test, \n",
    "                      y_pred=y_pred,\n",
    "                      classes=class_names,\n",
    "                      figsize=(15,15),\n",
    "                      text_size=10)\n",
    "plt.xticks(c='y' , size='13')\n",
    "plt.yticks(c='y' , size='13');"
   ]
  },
  {
   "cell_type": "code",
   "execution_count": 134,
   "id": "ea3c2343",
   "metadata": {
    "scrolled": true
   },
   "outputs": [],
   "source": [
    "import random\n",
    "\n",
    "# Create a function for plotting a random image along with its prediction\n",
    "def plot_random_image(model, images, true_labels, classes):\n",
    "  \"\"\"Picks a random image, plots it and labels it with a predicted and truth label.\n",
    "\n",
    "  Args:\n",
    "    model: a trained model (trained on data similar to what's in images).\n",
    "    images: a set of random images (in tensor form).\n",
    "    true_labels: array of ground truth labels for images.\n",
    "    classes: array of class names for images.\n",
    "  \n",
    "  Returns:\n",
    "    A plot of a random image from `images` with a predicted class label from `model`\n",
    "    as well as the truth class label from `true_labels`.\n",
    "  \"\"\" \n",
    "  # Setup random integer\n",
    "  i = random.randint(0, len(images))\n",
    "  \n",
    "  # Create predictions and targets\n",
    "  target_image = images[i]\n",
    "  pred_probs = model.predict(target_image.reshape(1, 28, 28)) # have to reshape to get into right size for model\n",
    "  pred_label = classes[pred_probs.argmax()]\n",
    "  true_label = classes[true_labels[i]]\n",
    "\n",
    "  # Plot the target image\n",
    "  plt.imshow(target_image, cmap='gray')\n",
    "\n",
    "  # Change the color of the titles depending on if the prediction is right or wrong\n",
    "  if pred_label == true_label:\n",
    "    color = \"green\"\n",
    "  else:\n",
    "    color = \"red\"\n",
    "\n",
    "  # Add xlabel information (prediction/true label)\n",
    "  plt.xlabel(\"Pred: {} {:2.0f}% (True: {})\".format(pred_label,\n",
    "                                                   100*tf.reduce_max(pred_probs),\n",
    "                                                   true_label),\n",
    "             color=color) # set the color to green or red"
   ]
  },
  {
   "cell_type": "code",
   "execution_count": 135,
   "id": "719f045f",
   "metadata": {},
   "outputs": [
    {
     "name": "stdout",
     "output_type": "stream",
     "text": [
      "1/1 [==============================] - 0s 17ms/step\n"
     ]
    },
    {
     "data": {
      "image/png": "[encoded data removed]",
      "text/plain": [
       "<Figure size 432x288 with 1 Axes>"
      ]
     },
     "metadata": {
      "needs_background": "light"
     },
     "output_type": "display_data"
    }
   ],
   "source": [
    "plot_random_image(model=model_3, \n",
    "                  images=x_test, \n",
    "                  true_labels=y_test, \n",
    "                  classes=class_names)"
   ]
  },
  {
   "cell_type": "code",
   "execution_count": null,
   "id": "3985844d",
   "metadata": {},
   "outputs": [],
   "source": []
  },
  {
   "cell_type": "code",
   "execution_count": null,
   "id": "e7e8a18c",
   "metadata": {},
   "outputs": [],
   "source": []
  },
  {
   "cell_type": "code",
   "execution_count": null,
   "id": "eeb489ec",
   "metadata": {},
   "outputs": [],
   "source": []
  },
  {
   "cell_type": "code",
   "execution_count": null,
   "id": "ad94834c",
   "metadata": {},
   "outputs": [],
   "source": []
  }
 ],
 "metadata": {
  "kernelspec": {
   "display_name": "Python 3 (ipykernel)",
   "language": "python",
   "name": "python3"
  },
  "language_info": {
   "codemirror_mode": {
    "name": "ipython",
    "version": 3
   },
   "file_extension": ".py",
   "mimetype": "text/x-python",
   "name": "python",
   "nbconvert_exporter": "python",
   "pygments_lexer": "ipython3",
   "version": "3.9.12"
  }
 },
 "nbformat": 4,
 "nbformat_minor": 5
}
