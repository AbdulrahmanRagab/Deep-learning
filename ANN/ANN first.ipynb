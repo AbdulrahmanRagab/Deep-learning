{
 "cells": [
  {
   "cell_type": "code",
   "execution_count": 377,
   "id": "13c45f78",
   "metadata": {},
   "outputs": [],
   "source": [
    "import tensorflow as tf"
   ]
  },
  {
   "cell_type": "code",
   "execution_count": 378,
   "id": "2f5adc2b",
   "metadata": {},
   "outputs": [],
   "source": [
    "import pandas as pd\n",
    "import numpy as np\n",
    "import matplotlib.pyplot as plt"
   ]
  },
  {
   "cell_type": "code",
   "execution_count": 379,
   "id": "6146fd5e",
   "metadata": {},
   "outputs": [],
   "source": [
    "import keras\n",
    "from keras import Sequential,layers,losses,optimizers,metrics"
   ]
  },
  {
   "cell_type": "code",
   "execution_count": 380,
   "id": "de17b348",
   "metadata": {},
   "outputs": [],
   "source": [
    "df = pd.read_csv(\"J:/Data science/data/Wine.csv\")"
   ]
  },
  {
   "cell_type": "code",
   "execution_count": 381,
   "id": "831810c2",
   "metadata": {},
   "outputs": [
    {
     "data": {
      "text/html": [
       "<div>\n",
       "<style scoped>\n",
       "    .dataframe tbody tr th:only-of-type {\n",
       "        vertical-align: middle;\n",
       "    }\n",
       "\n",
       "    .dataframe tbody tr th {\n",
       "        vertical-align: top;\n",
       "    }\n",
       "\n",
       "    .dataframe thead th {\n",
       "        text-align: right;\n",
       "    }\n",
       "</style>\n",
       "<table border=\"1\" class=\"dataframe\">\n",
       "  <thead>\n",
       "    <tr style=\"text-align: right;\">\n",
       "      <th></th>\n",
       "      <th>Alcohol</th>\n",
       "      <th>Malic_Acid</th>\n",
       "      <th>Ash</th>\n",
       "      <th>Ash_Alcanity</th>\n",
       "      <th>Magnesium</th>\n",
       "      <th>Total_Phenols</th>\n",
       "      <th>Flavanoids</th>\n",
       "      <th>Nonflavanoid_Phenols</th>\n",
       "      <th>Proanthocyanins</th>\n",
       "      <th>Color_Intensity</th>\n",
       "      <th>Hue</th>\n",
       "      <th>OD280</th>\n",
       "      <th>Proline</th>\n",
       "      <th>Customer_Segment</th>\n",
       "    </tr>\n",
       "  </thead>\n",
       "  <tbody>\n",
       "    <tr>\n",
       "      <th>0</th>\n",
       "      <td>14.23</td>\n",
       "      <td>1.71</td>\n",
       "      <td>2.43</td>\n",
       "      <td>15.6</td>\n",
       "      <td>127</td>\n",
       "      <td>2.80</td>\n",
       "      <td>3.06</td>\n",
       "      <td>0.28</td>\n",
       "      <td>2.29</td>\n",
       "      <td>5.64</td>\n",
       "      <td>1.04</td>\n",
       "      <td>3.92</td>\n",
       "      <td>1065</td>\n",
       "      <td>1</td>\n",
       "    </tr>\n",
       "    <tr>\n",
       "      <th>1</th>\n",
       "      <td>13.20</td>\n",
       "      <td>1.78</td>\n",
       "      <td>2.14</td>\n",
       "      <td>11.2</td>\n",
       "      <td>100</td>\n",
       "      <td>2.65</td>\n",
       "      <td>2.76</td>\n",
       "      <td>0.26</td>\n",
       "      <td>1.28</td>\n",
       "      <td>4.38</td>\n",
       "      <td>1.05</td>\n",
       "      <td>3.40</td>\n",
       "      <td>1050</td>\n",
       "      <td>1</td>\n",
       "    </tr>\n",
       "    <tr>\n",
       "      <th>2</th>\n",
       "      <td>13.16</td>\n",
       "      <td>2.36</td>\n",
       "      <td>2.67</td>\n",
       "      <td>18.6</td>\n",
       "      <td>101</td>\n",
       "      <td>2.80</td>\n",
       "      <td>3.24</td>\n",
       "      <td>0.30</td>\n",
       "      <td>2.81</td>\n",
       "      <td>5.68</td>\n",
       "      <td>1.03</td>\n",
       "      <td>3.17</td>\n",
       "      <td>1185</td>\n",
       "      <td>1</td>\n",
       "    </tr>\n",
       "    <tr>\n",
       "      <th>3</th>\n",
       "      <td>14.37</td>\n",
       "      <td>1.95</td>\n",
       "      <td>2.50</td>\n",
       "      <td>16.8</td>\n",
       "      <td>113</td>\n",
       "      <td>3.85</td>\n",
       "      <td>3.49</td>\n",
       "      <td>0.24</td>\n",
       "      <td>2.18</td>\n",
       "      <td>7.80</td>\n",
       "      <td>0.86</td>\n",
       "      <td>3.45</td>\n",
       "      <td>1480</td>\n",
       "      <td>1</td>\n",
       "    </tr>\n",
       "    <tr>\n",
       "      <th>4</th>\n",
       "      <td>13.24</td>\n",
       "      <td>2.59</td>\n",
       "      <td>2.87</td>\n",
       "      <td>21.0</td>\n",
       "      <td>118</td>\n",
       "      <td>2.80</td>\n",
       "      <td>2.69</td>\n",
       "      <td>0.39</td>\n",
       "      <td>1.82</td>\n",
       "      <td>4.32</td>\n",
       "      <td>1.04</td>\n",
       "      <td>2.93</td>\n",
       "      <td>735</td>\n",
       "      <td>1</td>\n",
       "    </tr>\n",
       "  </tbody>\n",
       "</table>\n",
       "</div>"
      ],
      "text/plain": [
       "   Alcohol  Malic_Acid   Ash  Ash_Alcanity  Magnesium  Total_Phenols  \\\n",
       "0    14.23        1.71  2.43          15.6        127           2.80   \n",
       "1    13.20        1.78  2.14          11.2        100           2.65   \n",
       "2    13.16        2.36  2.67          18.6        101           2.80   \n",
       "3    14.37        1.95  2.50          16.8        113           3.85   \n",
       "4    13.24        2.59  2.87          21.0        118           2.80   \n",
       "\n",
       "   Flavanoids  Nonflavanoid_Phenols  Proanthocyanins  Color_Intensity   Hue  \\\n",
       "0        3.06                  0.28             2.29             5.64  1.04   \n",
       "1        2.76                  0.26             1.28             4.38  1.05   \n",
       "2        3.24                  0.30             2.81             5.68  1.03   \n",
       "3        3.49                  0.24             2.18             7.80  0.86   \n",
       "4        2.69                  0.39             1.82             4.32  1.04   \n",
       "\n",
       "   OD280  Proline  Customer_Segment  \n",
       "0   3.92     1065                 1  \n",
       "1   3.40     1050                 1  \n",
       "2   3.17     1185                 1  \n",
       "3   3.45     1480                 1  \n",
       "4   2.93      735                 1  "
      ]
     },
     "execution_count": 381,
     "metadata": {},
     "output_type": "execute_result"
    }
   ],
   "source": [
    "df.head()"
   ]
  },
  {
   "cell_type": "code",
   "execution_count": 382,
   "id": "f2179c7c",
   "metadata": {},
   "outputs": [
    {
     "data": {
      "text/plain": [
       "(178, 14)"
      ]
     },
     "execution_count": 382,
     "metadata": {},
     "output_type": "execute_result"
    }
   ],
   "source": [
    "df.shape"
   ]
  },
  {
   "cell_type": "code",
   "execution_count": 383,
   "id": "10e85fc3",
   "metadata": {},
   "outputs": [
    {
     "data": {
      "text/plain": [
       "2    71\n",
       "1    59\n",
       "3    48\n",
       "Name: Customer_Segment, dtype: int64"
      ]
     },
     "execution_count": 383,
     "metadata": {},
     "output_type": "execute_result"
    }
   ],
   "source": [
    "df['Customer_Segment'].value_counts()"
   ]
  },
  {
   "cell_type": "code",
   "execution_count": 384,
   "id": "05b58c1e",
   "metadata": {},
   "outputs": [
    {
     "data": {
      "text/plain": [
       "Flavanoids             -0.847498\n",
       "OD280                  -0.788230\n",
       "Total_Phenols          -0.719163\n",
       "Proline                -0.633717\n",
       "Hue                    -0.617369\n",
       "Proanthocyanins        -0.499130\n",
       "Alcohol                -0.328222\n",
       "Magnesium              -0.209179\n",
       "Ash                    -0.049643\n",
       "Color_Intensity         0.265668\n",
       "Malic_Acid              0.437776\n",
       "Nonflavanoid_Phenols    0.489109\n",
       "Ash_Alcanity            0.517859\n",
       "Customer_Segment        1.000000\n",
       "Name: Customer_Segment, dtype: float64"
      ]
     },
     "execution_count": 384,
     "metadata": {},
     "output_type": "execute_result"
    }
   ],
   "source": [
    "df.corr()['Customer_Segment'].sort_values()"
   ]
  },
  {
   "cell_type": "code",
   "execution_count": 385,
   "id": "14efeb0f",
   "metadata": {},
   "outputs": [
    {
     "data": {
      "text/plain": [
       "(178, 13)"
      ]
     },
     "execution_count": 385,
     "metadata": {},
     "output_type": "execute_result"
    }
   ],
   "source": [
    "x = df.drop('Customer_Segment' , axis=1)\n",
    "x.shape"
   ]
  },
  {
   "cell_type": "code",
   "execution_count": 386,
   "id": "775c1636",
   "metadata": {},
   "outputs": [
    {
     "data": {
      "text/plain": [
       "(178,)"
      ]
     },
     "execution_count": 386,
     "metadata": {},
     "output_type": "execute_result"
    }
   ],
   "source": [
    "y = df['Customer_Segment']\n",
    "y.shape"
   ]
  },
  {
   "cell_type": "code",
   "execution_count": 387,
   "id": "2c9a2c71",
   "metadata": {},
   "outputs": [
    {
     "data": {
      "text/plain": [
       "(178, 13)"
      ]
     },
     "execution_count": 387,
     "metadata": {},
     "output_type": "execute_result"
    }
   ],
   "source": [
    "x.shape"
   ]
  },
  {
   "cell_type": "code",
   "execution_count": 388,
   "id": "b81becd0",
   "metadata": {},
   "outputs": [
    {
     "data": {
      "text/plain": [
       "pandas.core.frame.DataFrame"
      ]
     },
     "execution_count": 388,
     "metadata": {},
     "output_type": "execute_result"
    }
   ],
   "source": [
    "type(x)"
   ]
  },
  {
   "cell_type": "code",
   "execution_count": 389,
   "id": "8d67bec6",
   "metadata": {},
   "outputs": [
    {
     "data": {
      "text/plain": [
       "(178,)"
      ]
     },
     "execution_count": 389,
     "metadata": {},
     "output_type": "execute_result"
    }
   ],
   "source": [
    "y.shape"
   ]
  },
  {
   "cell_type": "code",
   "execution_count": 390,
   "id": "40a658ae",
   "metadata": {},
   "outputs": [
    {
     "data": {
      "text/plain": [
       "pandas.core.series.Series"
      ]
     },
     "execution_count": 390,
     "metadata": {},
     "output_type": "execute_result"
    }
   ],
   "source": [
    "type(y)"
   ]
  },
  {
   "cell_type": "code",
   "execution_count": 391,
   "id": "32f55ce2",
   "metadata": {},
   "outputs": [],
   "source": [
    "# y = y.values.reshape(-1, 1)"
   ]
  },
  {
   "cell_type": "code",
   "execution_count": 392,
   "id": "b2dd7664",
   "metadata": {},
   "outputs": [
    {
     "data": {
      "text/plain": [
       "(178,)"
      ]
     },
     "execution_count": 392,
     "metadata": {},
     "output_type": "execute_result"
    }
   ],
   "source": [
    "y.shape"
   ]
  },
  {
   "cell_type": "code",
   "execution_count": 393,
   "id": "78b2cc8c",
   "metadata": {},
   "outputs": [
    {
     "data": {
      "text/plain": [
       "0      1\n",
       "1      1\n",
       "2      1\n",
       "3      1\n",
       "4      1\n",
       "      ..\n",
       "173    3\n",
       "174    3\n",
       "175    3\n",
       "176    3\n",
       "177    3\n",
       "Name: Customer_Segment, Length: 178, dtype: int64"
      ]
     },
     "execution_count": 393,
     "metadata": {},
     "output_type": "execute_result"
    }
   ],
   "source": [
    "y"
   ]
  },
  {
   "cell_type": "code",
   "execution_count": 394,
   "id": "448b7b14",
   "metadata": {},
   "outputs": [],
   "source": [
    "from sklearn.preprocessing import StandardScaler\n",
    "scaler = StandardScaler()\n",
    "x = scaler.fit_transform(x)"
   ]
  },
  {
   "cell_type": "code",
   "execution_count": 395,
   "id": "6a00e1dd",
   "metadata": {},
   "outputs": [],
   "source": [
    "from sklearn.model_selection import train_test_split\n",
    "x_train,x_test,y_train,y_test = train_test_split(x,y,test_size=0.15,random_state=101)"
   ]
  },
  {
   "cell_type": "code",
   "execution_count": 396,
   "id": "201f76b0",
   "metadata": {},
   "outputs": [],
   "source": [
    "from sklearn.decomposition import PCA\n",
    "pca = PCA(n_components=3)\n",
    "x_train = pca.fit_transform(x_train)\n",
    "x_test = pca.transform(x_test)"
   ]
  },
  {
   "cell_type": "code",
   "execution_count": 397,
   "id": "f6d67a8b",
   "metadata": {},
   "outputs": [
    {
     "data": {
      "text/plain": [
       "(151, 3)"
      ]
     },
     "execution_count": 397,
     "metadata": {},
     "output_type": "execute_result"
    }
   ],
   "source": [
    "x_train.shape"
   ]
  },
  {
   "cell_type": "code",
   "execution_count": 398,
   "id": "9624305a",
   "metadata": {},
   "outputs": [],
   "source": [
    "# model = Sequential([\n",
    "# #     layers.Input(shape=(3,)),\n",
    "#     layers.Dense(1,activation='relu'),\n",
    "# #     layers.Dense(2,activation='relu'),\n",
    "#     layers.Dense(3,activation='softmax')\n",
    "# ])"
   ]
  },
  {
   "cell_type": "code",
   "execution_count": 399,
   "id": "d064947e",
   "metadata": {},
   "outputs": [],
   "source": [
    "# model.compile(loss= losses.SparseCategoricalCrossentropy(),\n",
    "#               optimizer = optimizers.Adam(),\n",
    "#               metrics=['accuracy'])"
   ]
  },
  {
   "cell_type": "code",
   "execution_count": 400,
   "id": "52c0042e",
   "metadata": {},
   "outputs": [],
   "source": [
    "# model.fit(x_train,y_train,epochs=3)"
   ]
  },
  {
   "cell_type": "code",
   "execution_count": 415,
   "id": "0d578332",
   "metadata": {},
   "outputs": [],
   "source": [
    "model_2 = tf.keras.Sequential([\n",
    "    tf.keras.layers.Dense(8,activation='relu'),\n",
    "    tf.keras.layers.Dense(4,activation='relu'),\n",
    "    tf.keras.layers.Dense(4,activation='softmax')\n",
    "])"
   ]
  },
  {
   "cell_type": "code",
   "execution_count": 416,
   "id": "a5c22aa2",
   "metadata": {},
   "outputs": [],
   "source": [
    "model_2.compile(loss= tf.keras.losses.SparseCategoricalCrossentropy(),\n",
    "                optimizer = tf.keras.optimizers.Adam() ,\n",
    "                metrics = ['accuracy'])"
   ]
  },
  {
   "cell_type": "code",
   "execution_count": 417,
   "id": "680c83b0",
   "metadata": {},
   "outputs": [
    {
     "name": "stdout",
     "output_type": "stream",
     "text": [
      "Epoch 1/50\n",
      "5/5 [==============================] - 0s 2ms/step - loss: 1.4511 - accuracy: 0.1854\n",
      "Epoch 2/50\n",
      "5/5 [==============================] - 0s 1ms/step - loss: 1.4375 - accuracy: 0.2517\n",
      "Epoch 3/50\n",
      "5/5 [==============================] - 0s 1ms/step - loss: 1.4244 - accuracy: 0.3311\n",
      "Epoch 4/50\n",
      "5/5 [==============================] - 0s 2ms/step - loss: 1.4123 - accuracy: 0.3510\n",
      "Epoch 5/50\n",
      "5/5 [==============================] - 0s 2ms/step - loss: 1.4016 - accuracy: 0.3444\n",
      "Epoch 6/50\n",
      "5/5 [==============================] - 0s 2ms/step - loss: 1.3910 - accuracy: 0.3510\n",
      "Epoch 7/50\n",
      "5/5 [==============================] - 0s 2ms/step - loss: 1.3814 - accuracy: 0.3444\n",
      "Epoch 8/50\n",
      "5/5 [==============================] - 0s 2ms/step - loss: 1.3710 - accuracy: 0.3510\n",
      "Epoch 9/50\n",
      "5/5 [==============================] - 0s 2ms/step - loss: 1.3611 - accuracy: 0.3775\n",
      "Epoch 10/50\n",
      "5/5 [==============================] - 0s 2ms/step - loss: 1.3515 - accuracy: 0.3709\n",
      "Epoch 11/50\n",
      "5/5 [==============================] - 0s 2ms/step - loss: 1.3416 - accuracy: 0.3775\n",
      "Epoch 12/50\n",
      "5/5 [==============================] - 0s 2ms/step - loss: 1.3320 - accuracy: 0.3775\n",
      "Epoch 13/50\n",
      "5/5 [==============================] - 0s 3ms/step - loss: 1.3227 - accuracy: 0.3974\n",
      "Epoch 14/50\n",
      "5/5 [==============================] - 0s 3ms/step - loss: 1.3135 - accuracy: 0.4172\n",
      "Epoch 15/50\n",
      "5/5 [==============================] - 0s 2ms/step - loss: 1.3048 - accuracy: 0.4172\n",
      "Epoch 16/50\n",
      "5/5 [==============================] - 0s 2ms/step - loss: 1.2962 - accuracy: 0.4172\n",
      "Epoch 17/50\n",
      "5/5 [==============================] - 0s 2ms/step - loss: 1.2877 - accuracy: 0.4106\n",
      "Epoch 18/50\n",
      "5/5 [==============================] - 0s 2ms/step - loss: 1.2786 - accuracy: 0.4040\n",
      "Epoch 19/50\n",
      "5/5 [==============================] - 0s 2ms/step - loss: 1.2702 - accuracy: 0.4040\n",
      "Epoch 20/50\n",
      "5/5 [==============================] - 0s 2ms/step - loss: 1.2613 - accuracy: 0.4106\n",
      "Epoch 21/50\n",
      "5/5 [==============================] - 0s 1ms/step - loss: 1.2527 - accuracy: 0.5099\n",
      "Epoch 22/50\n",
      "5/5 [==============================] - 0s 2ms/step - loss: 1.2438 - accuracy: 0.4967\n",
      "Epoch 23/50\n",
      "5/5 [==============================] - 0s 2ms/step - loss: 1.2351 - accuracy: 0.5166\n",
      "Epoch 24/50\n",
      "5/5 [==============================] - 0s 2ms/step - loss: 1.2258 - accuracy: 0.5364\n",
      "Epoch 25/50\n",
      "5/5 [==============================] - 0s 2ms/step - loss: 1.2166 - accuracy: 0.5497\n",
      "Epoch 26/50\n",
      "5/5 [==============================] - 0s 2ms/step - loss: 1.2075 - accuracy: 0.5563\n",
      "Epoch 27/50\n",
      "5/5 [==============================] - 0s 2ms/step - loss: 1.1980 - accuracy: 0.5762\n",
      "Epoch 28/50\n",
      "5/5 [==============================] - 0s 2ms/step - loss: 1.1889 - accuracy: 0.5828\n",
      "Epoch 29/50\n",
      "5/5 [==============================] - 0s 2ms/step - loss: 1.1787 - accuracy: 0.6225\n",
      "Epoch 30/50\n",
      "5/5 [==============================] - 0s 2ms/step - loss: 1.1686 - accuracy: 0.6291\n",
      "Epoch 31/50\n",
      "5/5 [==============================] - 0s 2ms/step - loss: 1.1588 - accuracy: 0.6291\n",
      "Epoch 32/50\n",
      "5/5 [==============================] - 0s 2ms/step - loss: 1.1492 - accuracy: 0.6358\n",
      "Epoch 33/50\n",
      "5/5 [==============================] - 0s 2ms/step - loss: 1.1392 - accuracy: 0.6358\n",
      "Epoch 34/50\n",
      "5/5 [==============================] - 0s 2ms/step - loss: 1.1305 - accuracy: 0.6424\n",
      "Epoch 35/50\n",
      "5/5 [==============================] - 0s 2ms/step - loss: 1.1216 - accuracy: 0.6424\n",
      "Epoch 36/50\n",
      "5/5 [==============================] - 0s 2ms/step - loss: 1.1128 - accuracy: 0.6556\n",
      "Epoch 37/50\n",
      "5/5 [==============================] - 0s 2ms/step - loss: 1.1044 - accuracy: 0.6490\n",
      "Epoch 38/50\n",
      "5/5 [==============================] - 0s 2ms/step - loss: 1.0960 - accuracy: 0.6623\n",
      "Epoch 39/50\n",
      "5/5 [==============================] - 0s 2ms/step - loss: 1.0882 - accuracy: 0.6623\n",
      "Epoch 40/50\n",
      "5/5 [==============================] - 0s 1ms/step - loss: 1.0806 - accuracy: 0.6623\n",
      "Epoch 41/50\n",
      "5/5 [==============================] - 0s 2ms/step - loss: 1.0728 - accuracy: 0.6623\n",
      "Epoch 42/50\n",
      "5/5 [==============================] - 0s 2ms/step - loss: 1.0656 - accuracy: 0.6623\n",
      "Epoch 43/50\n",
      "5/5 [==============================] - 0s 2ms/step - loss: 1.0583 - accuracy: 0.6623\n",
      "Epoch 44/50\n",
      "5/5 [==============================] - 0s 2ms/step - loss: 1.0513 - accuracy: 0.6623\n",
      "Epoch 45/50\n",
      "5/5 [==============================] - 0s 2ms/step - loss: 1.0446 - accuracy: 0.6689\n",
      "Epoch 46/50\n",
      "5/5 [==============================] - 0s 2ms/step - loss: 1.0381 - accuracy: 0.6689\n",
      "Epoch 47/50\n",
      "5/5 [==============================] - 0s 2ms/step - loss: 1.0317 - accuracy: 0.6755\n",
      "Epoch 48/50\n",
      "5/5 [==============================] - 0s 2ms/step - loss: 1.0254 - accuracy: 0.6689\n",
      "Epoch 49/50\n",
      "5/5 [==============================] - 0s 2ms/step - loss: 1.0194 - accuracy: 0.6623\n",
      "Epoch 50/50\n",
      "5/5 [==============================] - 0s 2ms/step - loss: 1.0136 - accuracy: 0.6689\n"
     ]
    },
    {
     "data": {
      "text/plain": [
       "<keras.callbacks.History at 0x1d163f059d0>"
      ]
     },
     "execution_count": 417,
     "metadata": {},
     "output_type": "execute_result"
    }
   ],
   "source": [
    "norm_history = model_2.fit(x_train,y_train,epochs=50)\n",
    "norm_history"
   ]
  },
  {
   "cell_type": "code",
   "execution_count": 418,
   "id": "2d1186a4",
   "metadata": {},
   "outputs": [
    {
     "data": {
      "text/plain": [
       "(27, 3)"
      ]
     },
     "execution_count": 418,
     "metadata": {},
     "output_type": "execute_result"
    }
   ],
   "source": [
    "x_test.shape"
   ]
  },
  {
   "cell_type": "code",
   "execution_count": 419,
   "id": "a4c8c1c5",
   "metadata": {},
   "outputs": [
    {
     "name": "stdout",
     "output_type": "stream",
     "text": [
      "1/1 [==============================] - 0s 37ms/step\n"
     ]
    },
    {
     "data": {
      "text/plain": [
       "array([[0.18737064, 0.2706132 , 0.29091263, 0.25110352],\n",
       "       [0.18993798, 0.2842506 , 0.28138787, 0.24442361],\n",
       "       [0.09531251, 0.05557333, 0.4895402 , 0.359574  ],\n",
       "       [0.1924034 , 0.29881307, 0.2714405 , 0.23734304],\n",
       "       [0.12150884, 0.09157554, 0.44487903, 0.34203658],\n",
       "       [0.07213558, 0.03221294, 0.52670807, 0.3689434 ],\n",
       "       [0.11797364, 0.08602292, 0.45116568, 0.34483773],\n",
       "       [0.1924034 , 0.29881307, 0.2714405 , 0.23734304],\n",
       "       [0.17240393, 0.20928842, 0.3366066 , 0.28170103],\n",
       "       [0.18819627, 0.27485314, 0.28792894, 0.24902163],\n",
       "       [0.1924034 , 0.29881307, 0.2714405 , 0.23734304],\n",
       "       [0.17851523, 0.23149963, 0.31946772, 0.2705174 ],\n",
       "       [0.18491286, 0.2586914 , 0.2994144 , 0.25698143],\n",
       "       [0.18560897, 0.26196927, 0.29706   , 0.25536177],\n",
       "       [0.1924034 , 0.29881307, 0.2714405 , 0.23734304],\n",
       "       [0.1924034 , 0.29881307, 0.2714405 , 0.23734304],\n",
       "       [0.08838835, 0.04784145, 0.5007782 , 0.36299196],\n",
       "       [0.05058941, 0.01644919, 0.5613412 , 0.37162024],\n",
       "       [0.06730368, 0.02820515, 0.53438073, 0.3701105 ],\n",
       "       [0.06414026, 0.02573238, 0.53941673, 0.3707106 ],\n",
       "       [0.07218996, 0.03225967, 0.5266217 , 0.3689286 ],\n",
       "       [0.08195587, 0.04124742, 0.5110925 , 0.3657042 ],\n",
       "       [0.06066326, 0.02314982, 0.5449753 , 0.37121165],\n",
       "       [0.14479569, 0.13498908, 0.400457  , 0.3197582 ],\n",
       "       [0.19873144, 0.29804146, 0.2687997 , 0.2344274 ],\n",
       "       [0.1924034 , 0.29881307, 0.2714405 , 0.23734304],\n",
       "       [0.09706226, 0.0576357 , 0.4866722 , 0.35862985]], dtype=float32)"
      ]
     },
     "execution_count": 419,
     "metadata": {},
     "output_type": "execute_result"
    }
   ],
   "source": [
    "y_pred = model_2.predict(x_test)\n",
    "y_pred"
   ]
  },
  {
   "cell_type": "code",
   "execution_count": null,
   "id": "15ccd5a8",
   "metadata": {},
   "outputs": [],
   "source": [
    "y_pre"
   ]
  }
 ],
 "metadata": {
  "kernelspec": {
   "display_name": "Python 3 (ipykernel)",
   "language": "python",
   "name": "python3"
  },
  "language_info": {
   "codemirror_mode": {
    "name": "ipython",
    "version": 3
   },
   "file_extension": ".py",
   "mimetype": "text/x-python",
   "name": "python",
   "nbconvert_exporter": "python",
   "pygments_lexer": "ipython3",
   "version": "3.9.12"
  }
 },
 "nbformat": 4,
 "nbformat_minor": 5
}
