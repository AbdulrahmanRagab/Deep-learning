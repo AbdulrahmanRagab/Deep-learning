{
 "cells": [
  {
   "cell_type": "code",
   "execution_count": 137,
   "id": "396b5d0f",
   "metadata": {},
   "outputs": [],
   "source": [
    "import tensorflow as tf"
   ]
  },
  {
   "cell_type": "code",
   "execution_count": 1,
   "id": "0b7b425d",
   "metadata": {},
   "outputs": [],
   "source": [
    "import pandas as pd\n",
    "import numpy as np\n",
    "import matplotlib.pyplot as plt"
   ]
  },
  {
   "cell_type": "code",
   "execution_count": 2,
   "id": "83431deb",
   "metadata": {
    "scrolled": true
   },
   "outputs": [
    {
     "data": {
      "text/html": [
       "<div>\n",
       "<style scoped>\n",
       "    .dataframe tbody tr th:only-of-type {\n",
       "        vertical-align: middle;\n",
       "    }\n",
       "\n",
       "    .dataframe tbody tr th {\n",
       "        vertical-align: top;\n",
       "    }\n",
       "\n",
       "    .dataframe thead th {\n",
       "        text-align: right;\n",
       "    }\n",
       "</style>\n",
       "<table border=\"1\" class=\"dataframe\">\n",
       "  <thead>\n",
       "    <tr style=\"text-align: right;\">\n",
       "      <th></th>\n",
       "      <th>RowNumber</th>\n",
       "      <th>CustomerId</th>\n",
       "      <th>Surname</th>\n",
       "      <th>CreditScore</th>\n",
       "      <th>Geography</th>\n",
       "      <th>Gender</th>\n",
       "      <th>Age</th>\n",
       "      <th>Tenure</th>\n",
       "      <th>Balance</th>\n",
       "      <th>NumOfProducts</th>\n",
       "      <th>HasCrCard</th>\n",
       "      <th>IsActiveMember</th>\n",
       "      <th>EstimatedSalary</th>\n",
       "      <th>Exited</th>\n",
       "    </tr>\n",
       "  </thead>\n",
       "  <tbody>\n",
       "    <tr>\n",
       "      <th>0</th>\n",
       "      <td>1</td>\n",
       "      <td>15634602</td>\n",
       "      <td>Hargrave</td>\n",
       "      <td>619</td>\n",
       "      <td>France</td>\n",
       "      <td>Female</td>\n",
       "      <td>42</td>\n",
       "      <td>2</td>\n",
       "      <td>0.00</td>\n",
       "      <td>1</td>\n",
       "      <td>1</td>\n",
       "      <td>1</td>\n",
       "      <td>101348.88</td>\n",
       "      <td>1</td>\n",
       "    </tr>\n",
       "    <tr>\n",
       "      <th>1</th>\n",
       "      <td>2</td>\n",
       "      <td>15647311</td>\n",
       "      <td>Hill</td>\n",
       "      <td>608</td>\n",
       "      <td>Spain</td>\n",
       "      <td>Female</td>\n",
       "      <td>41</td>\n",
       "      <td>1</td>\n",
       "      <td>83807.86</td>\n",
       "      <td>1</td>\n",
       "      <td>0</td>\n",
       "      <td>1</td>\n",
       "      <td>112542.58</td>\n",
       "      <td>0</td>\n",
       "    </tr>\n",
       "    <tr>\n",
       "      <th>2</th>\n",
       "      <td>3</td>\n",
       "      <td>15619304</td>\n",
       "      <td>Onio</td>\n",
       "      <td>502</td>\n",
       "      <td>France</td>\n",
       "      <td>Female</td>\n",
       "      <td>42</td>\n",
       "      <td>8</td>\n",
       "      <td>159660.80</td>\n",
       "      <td>3</td>\n",
       "      <td>1</td>\n",
       "      <td>0</td>\n",
       "      <td>113931.57</td>\n",
       "      <td>1</td>\n",
       "    </tr>\n",
       "    <tr>\n",
       "      <th>3</th>\n",
       "      <td>4</td>\n",
       "      <td>15701354</td>\n",
       "      <td>Boni</td>\n",
       "      <td>699</td>\n",
       "      <td>France</td>\n",
       "      <td>Female</td>\n",
       "      <td>39</td>\n",
       "      <td>1</td>\n",
       "      <td>0.00</td>\n",
       "      <td>2</td>\n",
       "      <td>0</td>\n",
       "      <td>0</td>\n",
       "      <td>93826.63</td>\n",
       "      <td>0</td>\n",
       "    </tr>\n",
       "    <tr>\n",
       "      <th>4</th>\n",
       "      <td>5</td>\n",
       "      <td>15737888</td>\n",
       "      <td>Mitchell</td>\n",
       "      <td>850</td>\n",
       "      <td>Spain</td>\n",
       "      <td>Female</td>\n",
       "      <td>43</td>\n",
       "      <td>2</td>\n",
       "      <td>125510.82</td>\n",
       "      <td>1</td>\n",
       "      <td>1</td>\n",
       "      <td>1</td>\n",
       "      <td>79084.10</td>\n",
       "      <td>0</td>\n",
       "    </tr>\n",
       "  </tbody>\n",
       "</table>\n",
       "</div>"
      ],
      "text/plain": [
       "   RowNumber  CustomerId   Surname  CreditScore Geography  Gender  Age  \\\n",
       "0          1    15634602  Hargrave          619    France  Female   42   \n",
       "1          2    15647311      Hill          608     Spain  Female   41   \n",
       "2          3    15619304      Onio          502    France  Female   42   \n",
       "3          4    15701354      Boni          699    France  Female   39   \n",
       "4          5    15737888  Mitchell          850     Spain  Female   43   \n",
       "\n",
       "   Tenure    Balance  NumOfProducts  HasCrCard  IsActiveMember  \\\n",
       "0       2       0.00              1          1               1   \n",
       "1       1   83807.86              1          0               1   \n",
       "2       8  159660.80              3          1               0   \n",
       "3       1       0.00              2          0               0   \n",
       "4       2  125510.82              1          1               1   \n",
       "\n",
       "   EstimatedSalary  Exited  \n",
       "0        101348.88       1  \n",
       "1        112542.58       0  \n",
       "2        113931.57       1  \n",
       "3         93826.63       0  \n",
       "4         79084.10       0  "
      ]
     },
     "execution_count": 2,
     "metadata": {},
     "output_type": "execute_result"
    }
   ],
   "source": [
    "df = pd.read_csv('J:/Data science/data/Churn_Modelling.csv')\n",
    "df.head()"
   ]
  },
  {
   "cell_type": "code",
   "execution_count": null,
   "id": "3e7940b6",
   "metadata": {},
   "outputs": [],
   "source": []
  },
  {
   "cell_type": "code",
   "execution_count": 140,
   "id": "89701896",
   "metadata": {},
   "outputs": [
    {
     "data": {
      "text/plain": [
       "(10000, 14)"
      ]
     },
     "execution_count": 140,
     "metadata": {},
     "output_type": "execute_result"
    }
   ],
   "source": [
    "df.shape"
   ]
  },
  {
   "cell_type": "code",
   "execution_count": 141,
   "id": "516979b3",
   "metadata": {},
   "outputs": [],
   "source": [
    "x = df.iloc[: , 3:13]\n",
    "y = df['Exited']"
   ]
  },
  {
   "cell_type": "code",
   "execution_count": 142,
   "id": "a5d9011f",
   "metadata": {},
   "outputs": [
    {
     "data": {
      "text/html": [
       "<div>\n",
       "<style scoped>\n",
       "    .dataframe tbody tr th:only-of-type {\n",
       "        vertical-align: middle;\n",
       "    }\n",
       "\n",
       "    .dataframe tbody tr th {\n",
       "        vertical-align: top;\n",
       "    }\n",
       "\n",
       "    .dataframe thead th {\n",
       "        text-align: right;\n",
       "    }\n",
       "</style>\n",
       "<table border=\"1\" class=\"dataframe\">\n",
       "  <thead>\n",
       "    <tr style=\"text-align: right;\">\n",
       "      <th></th>\n",
       "      <th>CreditScore</th>\n",
       "      <th>Geography</th>\n",
       "      <th>Gender</th>\n",
       "      <th>Age</th>\n",
       "      <th>Tenure</th>\n",
       "      <th>Balance</th>\n",
       "      <th>NumOfProducts</th>\n",
       "      <th>HasCrCard</th>\n",
       "      <th>IsActiveMember</th>\n",
       "      <th>EstimatedSalary</th>\n",
       "    </tr>\n",
       "  </thead>\n",
       "  <tbody>\n",
       "    <tr>\n",
       "      <th>0</th>\n",
       "      <td>619</td>\n",
       "      <td>France</td>\n",
       "      <td>Female</td>\n",
       "      <td>42</td>\n",
       "      <td>2</td>\n",
       "      <td>0.00</td>\n",
       "      <td>1</td>\n",
       "      <td>1</td>\n",
       "      <td>1</td>\n",
       "      <td>101348.88</td>\n",
       "    </tr>\n",
       "    <tr>\n",
       "      <th>1</th>\n",
       "      <td>608</td>\n",
       "      <td>Spain</td>\n",
       "      <td>Female</td>\n",
       "      <td>41</td>\n",
       "      <td>1</td>\n",
       "      <td>83807.86</td>\n",
       "      <td>1</td>\n",
       "      <td>0</td>\n",
       "      <td>1</td>\n",
       "      <td>112542.58</td>\n",
       "    </tr>\n",
       "    <tr>\n",
       "      <th>2</th>\n",
       "      <td>502</td>\n",
       "      <td>France</td>\n",
       "      <td>Female</td>\n",
       "      <td>42</td>\n",
       "      <td>8</td>\n",
       "      <td>159660.80</td>\n",
       "      <td>3</td>\n",
       "      <td>1</td>\n",
       "      <td>0</td>\n",
       "      <td>113931.57</td>\n",
       "    </tr>\n",
       "    <tr>\n",
       "      <th>3</th>\n",
       "      <td>699</td>\n",
       "      <td>France</td>\n",
       "      <td>Female</td>\n",
       "      <td>39</td>\n",
       "      <td>1</td>\n",
       "      <td>0.00</td>\n",
       "      <td>2</td>\n",
       "      <td>0</td>\n",
       "      <td>0</td>\n",
       "      <td>93826.63</td>\n",
       "    </tr>\n",
       "    <tr>\n",
       "      <th>4</th>\n",
       "      <td>850</td>\n",
       "      <td>Spain</td>\n",
       "      <td>Female</td>\n",
       "      <td>43</td>\n",
       "      <td>2</td>\n",
       "      <td>125510.82</td>\n",
       "      <td>1</td>\n",
       "      <td>1</td>\n",
       "      <td>1</td>\n",
       "      <td>79084.10</td>\n",
       "    </tr>\n",
       "  </tbody>\n",
       "</table>\n",
       "</div>"
      ],
      "text/plain": [
       "   CreditScore Geography  Gender  Age  Tenure    Balance  NumOfProducts  \\\n",
       "0          619    France  Female   42       2       0.00              1   \n",
       "1          608     Spain  Female   41       1   83807.86              1   \n",
       "2          502    France  Female   42       8  159660.80              3   \n",
       "3          699    France  Female   39       1       0.00              2   \n",
       "4          850     Spain  Female   43       2  125510.82              1   \n",
       "\n",
       "   HasCrCard  IsActiveMember  EstimatedSalary  \n",
       "0          1               1        101348.88  \n",
       "1          0               1        112542.58  \n",
       "2          1               0        113931.57  \n",
       "3          0               0         93826.63  \n",
       "4          1               1         79084.10  "
      ]
     },
     "execution_count": 142,
     "metadata": {},
     "output_type": "execute_result"
    }
   ],
   "source": [
    "x.head()"
   ]
  },
  {
   "cell_type": "code",
   "execution_count": 143,
   "id": "9a5dde0c",
   "metadata": {},
   "outputs": [
    {
     "data": {
      "text/plain": [
       "0    1\n",
       "1    0\n",
       "2    1\n",
       "3    0\n",
       "4    0\n",
       "Name: Exited, dtype: int64"
      ]
     },
     "execution_count": 143,
     "metadata": {},
     "output_type": "execute_result"
    }
   ],
   "source": [
    "y.head()"
   ]
  },
  {
   "cell_type": "code",
   "execution_count": 144,
   "id": "034c9de7",
   "metadata": {},
   "outputs": [],
   "source": [
    "x = pd.get_dummies(x,drop_first=True)"
   ]
  },
  {
   "cell_type": "code",
   "execution_count": 145,
   "id": "48b893c8",
   "metadata": {},
   "outputs": [
    {
     "data": {
      "text/html": [
       "<div>\n",
       "<style scoped>\n",
       "    .dataframe tbody tr th:only-of-type {\n",
       "        vertical-align: middle;\n",
       "    }\n",
       "\n",
       "    .dataframe tbody tr th {\n",
       "        vertical-align: top;\n",
       "    }\n",
       "\n",
       "    .dataframe thead th {\n",
       "        text-align: right;\n",
       "    }\n",
       "</style>\n",
       "<table border=\"1\" class=\"dataframe\">\n",
       "  <thead>\n",
       "    <tr style=\"text-align: right;\">\n",
       "      <th></th>\n",
       "      <th>CreditScore</th>\n",
       "      <th>Age</th>\n",
       "      <th>Tenure</th>\n",
       "      <th>Balance</th>\n",
       "      <th>NumOfProducts</th>\n",
       "      <th>HasCrCard</th>\n",
       "      <th>IsActiveMember</th>\n",
       "      <th>EstimatedSalary</th>\n",
       "      <th>Geography_Germany</th>\n",
       "      <th>Geography_Spain</th>\n",
       "      <th>Gender_Male</th>\n",
       "    </tr>\n",
       "  </thead>\n",
       "  <tbody>\n",
       "    <tr>\n",
       "      <th>0</th>\n",
       "      <td>619</td>\n",
       "      <td>42</td>\n",
       "      <td>2</td>\n",
       "      <td>0.00</td>\n",
       "      <td>1</td>\n",
       "      <td>1</td>\n",
       "      <td>1</td>\n",
       "      <td>101348.88</td>\n",
       "      <td>0</td>\n",
       "      <td>0</td>\n",
       "      <td>0</td>\n",
       "    </tr>\n",
       "    <tr>\n",
       "      <th>1</th>\n",
       "      <td>608</td>\n",
       "      <td>41</td>\n",
       "      <td>1</td>\n",
       "      <td>83807.86</td>\n",
       "      <td>1</td>\n",
       "      <td>0</td>\n",
       "      <td>1</td>\n",
       "      <td>112542.58</td>\n",
       "      <td>0</td>\n",
       "      <td>1</td>\n",
       "      <td>0</td>\n",
       "    </tr>\n",
       "    <tr>\n",
       "      <th>2</th>\n",
       "      <td>502</td>\n",
       "      <td>42</td>\n",
       "      <td>8</td>\n",
       "      <td>159660.80</td>\n",
       "      <td>3</td>\n",
       "      <td>1</td>\n",
       "      <td>0</td>\n",
       "      <td>113931.57</td>\n",
       "      <td>0</td>\n",
       "      <td>0</td>\n",
       "      <td>0</td>\n",
       "    </tr>\n",
       "    <tr>\n",
       "      <th>3</th>\n",
       "      <td>699</td>\n",
       "      <td>39</td>\n",
       "      <td>1</td>\n",
       "      <td>0.00</td>\n",
       "      <td>2</td>\n",
       "      <td>0</td>\n",
       "      <td>0</td>\n",
       "      <td>93826.63</td>\n",
       "      <td>0</td>\n",
       "      <td>0</td>\n",
       "      <td>0</td>\n",
       "    </tr>\n",
       "    <tr>\n",
       "      <th>4</th>\n",
       "      <td>850</td>\n",
       "      <td>43</td>\n",
       "      <td>2</td>\n",
       "      <td>125510.82</td>\n",
       "      <td>1</td>\n",
       "      <td>1</td>\n",
       "      <td>1</td>\n",
       "      <td>79084.10</td>\n",
       "      <td>0</td>\n",
       "      <td>1</td>\n",
       "      <td>0</td>\n",
       "    </tr>\n",
       "  </tbody>\n",
       "</table>\n",
       "</div>"
      ],
      "text/plain": [
       "   CreditScore  Age  Tenure    Balance  NumOfProducts  HasCrCard  \\\n",
       "0          619   42       2       0.00              1          1   \n",
       "1          608   41       1   83807.86              1          0   \n",
       "2          502   42       8  159660.80              3          1   \n",
       "3          699   39       1       0.00              2          0   \n",
       "4          850   43       2  125510.82              1          1   \n",
       "\n",
       "   IsActiveMember  EstimatedSalary  Geography_Germany  Geography_Spain  \\\n",
       "0               1        101348.88                  0                0   \n",
       "1               1        112542.58                  0                1   \n",
       "2               0        113931.57                  0                0   \n",
       "3               0         93826.63                  0                0   \n",
       "4               1         79084.10                  0                1   \n",
       "\n",
       "   Gender_Male  \n",
       "0            0  \n",
       "1            0  \n",
       "2            0  \n",
       "3            0  \n",
       "4            0  "
      ]
     },
     "execution_count": 145,
     "metadata": {},
     "output_type": "execute_result"
    }
   ],
   "source": [
    "x.head()"
   ]
  },
  {
   "cell_type": "code",
   "execution_count": 146,
   "id": "c9527c93",
   "metadata": {},
   "outputs": [],
   "source": [
    "from sklearn.model_selection import train_test_split"
   ]
  },
  {
   "cell_type": "code",
   "execution_count": 147,
   "id": "acaa9d2f",
   "metadata": {},
   "outputs": [],
   "source": [
    "x_train, x_test, y_train, y_test = train_test_split(x, y, test_size=0.3, random_state=101)"
   ]
  },
  {
   "cell_type": "code",
   "execution_count": 148,
   "id": "f6dcae2f",
   "metadata": {},
   "outputs": [],
   "source": [
    "from sklearn.preprocessing import StandardScaler"
   ]
  },
  {
   "cell_type": "code",
   "execution_count": 149,
   "id": "a4b1c434",
   "metadata": {},
   "outputs": [],
   "source": [
    "scaler = StandardScaler()\n",
    "scaled_x_train = scaler.fit_transform(x_train)\n",
    "scaled_x_test = scaler.transform(x_test)"
   ]
  },
  {
   "cell_type": "code",
   "execution_count": 150,
   "id": "fa2bad32",
   "metadata": {},
   "outputs": [
    {
     "data": {
      "text/plain": [
       "array([[-1.45057405, -0.93156572,  1.37687702, ..., -0.57339125,\n",
       "         1.75478035, -1.09759938],\n",
       "       [ 0.76328696,  2.59755682, -0.34884172, ..., -0.57339125,\n",
       "        -0.56987189,  0.91107923],\n",
       "       [-0.43674985,  2.12064837, -1.38427296, ..., -0.57339125,\n",
       "         1.75478035,  0.91107923],\n",
       "       ...,\n",
       "       [ 0.67018065,  0.21301457,  1.03173327, ...,  1.74400987,\n",
       "        -0.56987189,  0.91107923],\n",
       "       [-0.75744934, -0.64542065, -0.34884172, ..., -0.57339125,\n",
       "        -0.56987189,  0.91107923],\n",
       "       [ 0.01843653, -0.83618403, -1.03912921, ..., -0.57339125,\n",
       "         1.75478035, -1.09759938]])"
      ]
     },
     "execution_count": 150,
     "metadata": {},
     "output_type": "execute_result"
    }
   ],
   "source": [
    "scaled_x_train"
   ]
  },
  {
   "cell_type": "code",
   "execution_count": 151,
   "id": "c1180738",
   "metadata": {},
   "outputs": [],
   "source": [
    "model = tf.keras.Sequential()\n",
    "model.add(tf.keras.layers.Dense(8, activation='relu' , name='hidden_1', input_shape=(11,)))\n",
    "model.add(tf.keras.layers.Dense(6,activation='relu', name='hidden_2'))\n",
    "model.add(tf.keras.layers.Dense(1,activation='sigmoid' , name='output'))"
   ]
  },
  {
   "cell_type": "code",
   "execution_count": 152,
   "id": "f029b28b",
   "metadata": {},
   "outputs": [],
   "source": [
    "model.compile(optimizer='adam' ,\n",
    "              loss='binary_ crossentropy' ,\n",
    "              metrics=['accuracy'])"
   ]
  },
  {
   "cell_type": "code",
   "execution_count": null,
   "id": "c60b2ffa",
   "metadata": {},
   "outputs": [],
   "source": [
    "y_tr"
   ]
  },
  {
   "cell_type": "code",
   "execution_count": 153,
   "id": "05aa29ed",
   "metadata": {
    "scrolled": true
   },
   "outputs": [
    {
     "name": "stdout",
     "output_type": "stream",
     "text": [
      "Epoch 1/100\n",
      "219/219 [==============================] - 1s 854us/step - loss: 0.5752 - accuracy: 0.7414\n",
      "Epoch 2/100\n",
      "219/219 [==============================] - 0s 845us/step - loss: 0.4813 - accuracy: 0.7979\n",
      "Epoch 3/100\n",
      "219/219 [==============================] - 0s 867us/step - loss: 0.4582 - accuracy: 0.7979\n",
      "Epoch 4/100\n",
      "219/219 [==============================] - 0s 848us/step - loss: 0.4457 - accuracy: 0.7976\n",
      "Epoch 5/100\n",
      "219/219 [==============================] - 0s 831us/step - loss: 0.4373 - accuracy: 0.8023\n",
      "Epoch 6/100\n",
      "219/219 [==============================] - 0s 822us/step - loss: 0.4300 - accuracy: 0.8111\n",
      "Epoch 7/100\n",
      "219/219 [==============================] - 0s 834us/step - loss: 0.4234 - accuracy: 0.8156\n",
      "Epoch 8/100\n",
      "219/219 [==============================] - 0s 785us/step - loss: 0.4162 - accuracy: 0.8200\n",
      "Epoch 9/100\n",
      "219/219 [==============================] - 0s 880us/step - loss: 0.4097 - accuracy: 0.8249\n",
      "Epoch 10/100\n",
      "219/219 [==============================] - 0s 834us/step - loss: 0.4009 - accuracy: 0.8324\n",
      "Epoch 11/100\n",
      "219/219 [==============================] - 0s 817us/step - loss: 0.3909 - accuracy: 0.8389\n",
      "Epoch 12/100\n",
      "219/219 [==============================] - 0s 835us/step - loss: 0.3815 - accuracy: 0.8444\n",
      "Epoch 13/100\n",
      "219/219 [==============================] - 0s 814us/step - loss: 0.3738 - accuracy: 0.8484\n",
      "Epoch 14/100\n",
      "219/219 [==============================] - 0s 815us/step - loss: 0.3675 - accuracy: 0.8510\n",
      "Epoch 15/100\n",
      "219/219 [==============================] - 0s 745us/step - loss: 0.3636 - accuracy: 0.8516\n",
      "Epoch 16/100\n",
      "219/219 [==============================] - 0s 873us/step - loss: 0.3604 - accuracy: 0.8516\n",
      "Epoch 17/100\n",
      "219/219 [==============================] - 0s 787us/step - loss: 0.3585 - accuracy: 0.8514\n",
      "Epoch 18/100\n",
      "219/219 [==============================] - 0s 768us/step - loss: 0.3570 - accuracy: 0.8533\n",
      "Epoch 19/100\n",
      "219/219 [==============================] - 0s 763us/step - loss: 0.3556 - accuracy: 0.8530\n",
      "Epoch 20/100\n",
      "219/219 [==============================] - 0s 773us/step - loss: 0.3546 - accuracy: 0.8551\n",
      "Epoch 21/100\n",
      "219/219 [==============================] - 0s 833us/step - loss: 0.3537 - accuracy: 0.8550\n",
      "Epoch 22/100\n",
      "219/219 [==============================] - 0s 752us/step - loss: 0.3528 - accuracy: 0.8576\n",
      "Epoch 23/100\n",
      "219/219 [==============================] - 0s 844us/step - loss: 0.3521 - accuracy: 0.8564\n",
      "Epoch 24/100\n",
      "219/219 [==============================] - 0s 834us/step - loss: 0.3516 - accuracy: 0.8563\n",
      "Epoch 25/100\n",
      "219/219 [==============================] - 0s 821us/step - loss: 0.3507 - accuracy: 0.8589\n",
      "Epoch 26/100\n",
      "219/219 [==============================] - 0s 773us/step - loss: 0.3506 - accuracy: 0.8584\n",
      "Epoch 27/100\n",
      "219/219 [==============================] - 0s 837us/step - loss: 0.3497 - accuracy: 0.8570\n",
      "Epoch 28/100\n",
      "219/219 [==============================] - 0s 772us/step - loss: 0.3499 - accuracy: 0.8586\n",
      "Epoch 29/100\n",
      "219/219 [==============================] - 0s 864us/step - loss: 0.3490 - accuracy: 0.8594\n",
      "Epoch 30/100\n",
      "219/219 [==============================] - 0s 734us/step - loss: 0.3489 - accuracy: 0.8584\n",
      "Epoch 31/100\n",
      "219/219 [==============================] - 0s 848us/step - loss: 0.3485 - accuracy: 0.8576\n",
      "Epoch 32/100\n",
      "219/219 [==============================] - 0s 755us/step - loss: 0.3480 - accuracy: 0.8587\n",
      "Epoch 33/100\n",
      "219/219 [==============================] - 0s 782us/step - loss: 0.3477 - accuracy: 0.8593\n",
      "Epoch 34/100\n",
      "219/219 [==============================] - 0s 741us/step - loss: 0.3469 - accuracy: 0.8596\n",
      "Epoch 35/100\n",
      "219/219 [==============================] - 0s 835us/step - loss: 0.3468 - accuracy: 0.8589\n",
      "Epoch 36/100\n",
      "219/219 [==============================] - 0s 851us/step - loss: 0.3467 - accuracy: 0.8584\n",
      "Epoch 37/100\n",
      "219/219 [==============================] - 0s 741us/step - loss: 0.3460 - accuracy: 0.8599\n",
      "Epoch 38/100\n",
      "219/219 [==============================] - 0s 760us/step - loss: 0.3460 - accuracy: 0.8597\n",
      "Epoch 39/100\n",
      "219/219 [==============================] - 0s 765us/step - loss: 0.3457 - accuracy: 0.8597\n",
      "Epoch 40/100\n",
      "219/219 [==============================] - 0s 759us/step - loss: 0.3455 - accuracy: 0.8589\n",
      "Epoch 41/100\n",
      "219/219 [==============================] - 0s 835us/step - loss: 0.3450 - accuracy: 0.8590\n",
      "Epoch 42/100\n",
      "219/219 [==============================] - 0s 762us/step - loss: 0.3451 - accuracy: 0.8600\n",
      "Epoch 43/100\n",
      "219/219 [==============================] - 0s 853us/step - loss: 0.3443 - accuracy: 0.8600\n",
      "Epoch 44/100\n",
      "219/219 [==============================] - 0s 759us/step - loss: 0.3444 - accuracy: 0.8594\n",
      "Epoch 45/100\n",
      "219/219 [==============================] - 0s 765us/step - loss: 0.3441 - accuracy: 0.8597\n",
      "Epoch 46/100\n",
      "219/219 [==============================] - 0s 833us/step - loss: 0.3440 - accuracy: 0.8601\n",
      "Epoch 47/100\n",
      "219/219 [==============================] - 0s 748us/step - loss: 0.3437 - accuracy: 0.8604\n",
      "Epoch 48/100\n",
      "219/219 [==============================] - 0s 835us/step - loss: 0.3433 - accuracy: 0.8597\n",
      "Epoch 49/100\n",
      "219/219 [==============================] - 0s 745us/step - loss: 0.3430 - accuracy: 0.8607\n",
      "Epoch 50/100\n",
      "219/219 [==============================] - 0s 809us/step - loss: 0.3428 - accuracy: 0.8619\n",
      "Epoch 51/100\n",
      "219/219 [==============================] - 0s 801us/step - loss: 0.3426 - accuracy: 0.8617\n",
      "Epoch 52/100\n",
      "219/219 [==============================] - 0s 743us/step - loss: 0.3428 - accuracy: 0.8606\n",
      "Epoch 53/100\n",
      "219/219 [==============================] - 0s 765us/step - loss: 0.3421 - accuracy: 0.8601\n",
      "Epoch 54/100\n",
      "219/219 [==============================] - 0s 831us/step - loss: 0.3419 - accuracy: 0.8611\n",
      "Epoch 55/100\n",
      "219/219 [==============================] - 0s 766us/step - loss: 0.3416 - accuracy: 0.8614\n",
      "Epoch 56/100\n",
      "219/219 [==============================] - 0s 816us/step - loss: 0.3415 - accuracy: 0.8611\n",
      "Epoch 57/100\n",
      "219/219 [==============================] - 0s 835us/step - loss: 0.3410 - accuracy: 0.8607\n",
      "Epoch 58/100\n",
      "219/219 [==============================] - 0s 792us/step - loss: 0.3410 - accuracy: 0.8617\n",
      "Epoch 59/100\n",
      "219/219 [==============================] - 0s 741us/step - loss: 0.3409 - accuracy: 0.8617\n",
      "Epoch 60/100\n",
      "219/219 [==============================] - 0s 756us/step - loss: 0.3407 - accuracy: 0.8616\n",
      "Epoch 61/100\n",
      "219/219 [==============================] - 0s 816us/step - loss: 0.3400 - accuracy: 0.8619\n",
      "Epoch 62/100\n",
      "219/219 [==============================] - 0s 777us/step - loss: 0.3393 - accuracy: 0.8620\n",
      "Epoch 63/100\n",
      "219/219 [==============================] - 0s 838us/step - loss: 0.3391 - accuracy: 0.8609\n",
      "Epoch 64/100\n",
      "219/219 [==============================] - 0s 746us/step - loss: 0.3387 - accuracy: 0.8620\n",
      "Epoch 65/100\n",
      "219/219 [==============================] - 0s 834us/step - loss: 0.3387 - accuracy: 0.8614\n",
      "Epoch 66/100\n",
      "219/219 [==============================] - 0s 823us/step - loss: 0.3384 - accuracy: 0.8623\n",
      "Epoch 67/100\n",
      "219/219 [==============================] - 0s 773us/step - loss: 0.3378 - accuracy: 0.8637\n",
      "Epoch 68/100\n",
      "219/219 [==============================] - 0s 764us/step - loss: 0.3378 - accuracy: 0.8646\n",
      "Epoch 69/100\n",
      "219/219 [==============================] - 0s 867us/step - loss: 0.3373 - accuracy: 0.8619\n",
      "Epoch 70/100\n",
      "219/219 [==============================] - 0s 807us/step - loss: 0.3372 - accuracy: 0.8634\n",
      "Epoch 71/100\n",
      "219/219 [==============================] - 0s 827us/step - loss: 0.3366 - accuracy: 0.8619\n",
      "Epoch 72/100\n",
      "219/219 [==============================] - 0s 816us/step - loss: 0.3368 - accuracy: 0.8630\n",
      "Epoch 73/100\n",
      "219/219 [==============================] - 0s 820us/step - loss: 0.3368 - accuracy: 0.8633\n",
      "Epoch 74/100\n",
      "219/219 [==============================] - 0s 811us/step - loss: 0.3362 - accuracy: 0.8627\n",
      "Epoch 75/100\n",
      "219/219 [==============================] - 0s 796us/step - loss: 0.3358 - accuracy: 0.8616\n",
      "Epoch 76/100\n",
      "219/219 [==============================] - 0s 807us/step - loss: 0.3356 - accuracy: 0.8629\n",
      "Epoch 77/100\n",
      "219/219 [==============================] - 0s 1ms/step - loss: 0.3357 - accuracy: 0.8633\n",
      "Epoch 78/100\n",
      "219/219 [==============================] - 0s 1ms/step - loss: 0.3351 - accuracy: 0.8637\n",
      "Epoch 79/100\n",
      "219/219 [==============================] - 0s 1ms/step - loss: 0.3354 - accuracy: 0.8639\n",
      "Epoch 80/100\n",
      "219/219 [==============================] - 0s 851us/step - loss: 0.3350 - accuracy: 0.8634\n",
      "Epoch 81/100\n",
      "219/219 [==============================] - 0s 1ms/step - loss: 0.3352 - accuracy: 0.8641\n",
      "Epoch 82/100\n",
      "219/219 [==============================] - 0s 1ms/step - loss: 0.3345 - accuracy: 0.8646\n",
      "Epoch 83/100\n",
      "219/219 [==============================] - 0s 895us/step - loss: 0.3346 - accuracy: 0.8643\n",
      "Epoch 84/100\n",
      "219/219 [==============================] - 0s 1ms/step - loss: 0.3345 - accuracy: 0.8649\n",
      "Epoch 85/100\n",
      "219/219 [==============================] - 0s 1ms/step - loss: 0.3346 - accuracy: 0.8619\n",
      "Epoch 86/100\n",
      "219/219 [==============================] - 0s 913us/step - loss: 0.3341 - accuracy: 0.8634\n",
      "Epoch 87/100\n",
      "219/219 [==============================] - 0s 1ms/step - loss: 0.3340 - accuracy: 0.8636\n",
      "Epoch 88/100\n",
      "219/219 [==============================] - 0s 1ms/step - loss: 0.3338 - accuracy: 0.8646\n",
      "Epoch 89/100\n",
      "219/219 [==============================] - 0s 1ms/step - loss: 0.3336 - accuracy: 0.8633\n",
      "Epoch 90/100\n",
      "219/219 [==============================] - 0s 1ms/step - loss: 0.3335 - accuracy: 0.8626\n",
      "Epoch 91/100\n",
      "219/219 [==============================] - 0s 1ms/step - loss: 0.3336 - accuracy: 0.8643\n",
      "Epoch 92/100\n",
      "219/219 [==============================] - 0s 1ms/step - loss: 0.3334 - accuracy: 0.8647\n",
      "Epoch 93/100\n",
      "219/219 [==============================] - 0s 1ms/step - loss: 0.3332 - accuracy: 0.8634\n",
      "Epoch 94/100\n",
      "219/219 [==============================] - 0s 1ms/step - loss: 0.3332 - accuracy: 0.8653\n",
      "Epoch 95/100\n",
      "219/219 [==============================] - 0s 1ms/step - loss: 0.3330 - accuracy: 0.8643\n",
      "Epoch 96/100\n",
      "219/219 [==============================] - 0s 1ms/step - loss: 0.3324 - accuracy: 0.8650\n",
      "Epoch 97/100\n",
      "219/219 [==============================] - 0s 802us/step - loss: 0.3331 - accuracy: 0.8637\n",
      "Epoch 98/100\n",
      "219/219 [==============================] - 0s 795us/step - loss: 0.3328 - accuracy: 0.8640\n",
      "Epoch 99/100\n",
      "219/219 [==============================] - 0s 796us/step - loss: 0.3326 - accuracy: 0.8636\n",
      "Epoch 100/100\n",
      "219/219 [==============================] - 0s 1ms/step - loss: 0.3326 - accuracy: 0.8640\n"
     ]
    },
    {
     "data": {
      "text/plain": [
       "<keras.callbacks.History at 0x2831e9f07f0>"
      ]
     },
     "execution_count": 153,
     "metadata": {},
     "output_type": "execute_result"
    }
   ],
   "source": [
    "model.fit(scaled_x_train,y_train , epochs=100)"
   ]
  },
  {
   "cell_type": "code",
   "execution_count": 154,
   "id": "4a4ed008",
   "metadata": {},
   "outputs": [
    {
     "name": "stdout",
     "output_type": "stream",
     "text": [
      "94/94 [==============================] - 0s 805us/step\n"
     ]
    }
   ],
   "source": [
    "y_pred = model.predict(scaled_x_test)"
   ]
  },
  {
   "cell_type": "code",
   "execution_count": 155,
   "id": "da19d925",
   "metadata": {},
   "outputs": [
    {
     "data": {
      "text/plain": [
       "array([[0.027829  ],\n",
       "       [0.03547804],\n",
       "       [0.35875723],\n",
       "       ...,\n",
       "       [0.01311004],\n",
       "       [0.5373604 ],\n",
       "       [0.6037508 ]], dtype=float32)"
      ]
     },
     "execution_count": 155,
     "metadata": {},
     "output_type": "execute_result"
    }
   ],
   "source": [
    "y_pred"
   ]
  },
  {
   "cell_type": "code",
   "execution_count": 156,
   "id": "30b7d3fd",
   "metadata": {},
   "outputs": [
    {
     "data": {
      "text/plain": [
       "array([[False],\n",
       "       [False],\n",
       "       [False],\n",
       "       ...,\n",
       "       [False],\n",
       "       [ True],\n",
       "       [ True]])"
      ]
     },
     "execution_count": 156,
     "metadata": {},
     "output_type": "execute_result"
    }
   ],
   "source": [
    "y_pred = (y_pred > 0.5)\n",
    "y_pred"
   ]
  },
  {
   "cell_type": "code",
   "execution_count": 157,
   "id": "429ec056",
   "metadata": {},
   "outputs": [
    {
     "data": {
      "text/plain": [
       "(7000, 11)"
      ]
     },
     "execution_count": 157,
     "metadata": {},
     "output_type": "execute_result"
    }
   ],
   "source": [
    "scaled_x_train.shape"
   ]
  },
  {
   "cell_type": "code",
   "execution_count": 158,
   "id": "07fa3148",
   "metadata": {},
   "outputs": [],
   "source": [
    "model_2 = tf.keras.Sequential()\n",
    "model_2.add(tf.keras.Input(shape=(11,)))\n",
    "model_2.add(tf.keras.layers.Dense(8 , activation= 'relu', name ='hidden_1'))\n",
    "model_2.add(tf.keras.layers.Dense(1 , activation='sigmoid' , name='output'))"
   ]
  },
  {
   "cell_type": "code",
   "execution_count": 159,
   "id": "fab32951",
   "metadata": {},
   "outputs": [
    {
     "data": {
      "text/plain": [
       "6"
      ]
     },
     "execution_count": 159,
     "metadata": {},
     "output_type": "execute_result"
    }
   ],
   "source": [
    "len(model.weights)"
   ]
  },
  {
   "cell_type": "code",
   "execution_count": 160,
   "id": "8c433f5f",
   "metadata": {},
   "outputs": [
    {
     "data": {
      "text/plain": [
       "4"
      ]
     },
     "execution_count": 160,
     "metadata": {},
     "output_type": "execute_result"
    }
   ],
   "source": [
    "len(model_2.weights)"
   ]
  },
  {
   "cell_type": "code",
   "execution_count": 161,
   "id": "4a8977d5",
   "metadata": {},
   "outputs": [
    {
     "name": "stdout",
     "output_type": "stream",
     "text": [
      "Model: \"sequential_19\"\n",
      "_________________________________________________________________\n",
      " Layer (type)                Output Shape              Param #   \n",
      "=================================================================\n",
      " hidden_1 (Dense)            (None, 8)                 96        \n",
      "                                                                 \n",
      " hidden_2 (Dense)            (None, 6)                 54        \n",
      "                                                                 \n",
      " output (Dense)              (None, 1)                 7         \n",
      "                                                                 \n",
      "=================================================================\n",
      "Total params: 157\n",
      "Trainable params: 157\n",
      "Non-trainable params: 0\n",
      "_________________________________________________________________\n"
     ]
    }
   ],
   "source": [
    "model.summary()"
   ]
  },
  {
   "cell_type": "code",
   "execution_count": 162,
   "id": "2e879051",
   "metadata": {},
   "outputs": [
    {
     "name": "stdout",
     "output_type": "stream",
     "text": [
      "Model: \"sequential_20\"\n",
      "_________________________________________________________________\n",
      " Layer (type)                Output Shape              Param #   \n",
      "=================================================================\n",
      " hidden_1 (Dense)            (None, 8)                 96        \n",
      "                                                                 \n",
      " output (Dense)              (None, 1)                 9         \n",
      "                                                                 \n",
      "=================================================================\n",
      "Total params: 105\n",
      "Trainable params: 105\n",
      "Non-trainable params: 0\n",
      "_________________________________________________________________\n"
     ]
    }
   ],
   "source": [
    "model_2.summary()"
   ]
  },
  {
   "cell_type": "code",
   "execution_count": 163,
   "id": "df7ed281",
   "metadata": {},
   "outputs": [],
   "source": [
    "model_2.compile(optimizer='adam',\n",
    "                loss='binary_crossentropy',\n",
    "                metrics=['accuracy'])"
   ]
  },
  {
   "cell_type": "code",
   "execution_count": 164,
   "id": "a3e54eba",
   "metadata": {},
   "outputs": [
    {
     "name": "stdout",
     "output_type": "stream",
     "text": [
      "Epoch 1/100\n",
      "219/219 [==============================] - 1s 1ms/step - loss: 0.6551 - accuracy: 0.6490\n",
      "Epoch 2/100\n",
      "219/219 [==============================] - 0s 1ms/step - loss: 0.5234 - accuracy: 0.7891\n",
      "Epoch 3/100\n",
      "219/219 [==============================] - 0s 1ms/step - loss: 0.4656 - accuracy: 0.8009\n",
      "Epoch 4/100\n",
      "219/219 [==============================] - 0s 1ms/step - loss: 0.4395 - accuracy: 0.8099\n",
      "Epoch 5/100\n",
      "219/219 [==============================] - 0s 1ms/step - loss: 0.4269 - accuracy: 0.8174\n",
      "Epoch 6/100\n",
      "219/219 [==============================] - 0s 1ms/step - loss: 0.4196 - accuracy: 0.8206\n",
      "Epoch 7/100\n",
      "219/219 [==============================] - 0s 1ms/step - loss: 0.4132 - accuracy: 0.8239\n",
      "Epoch 8/100\n",
      "219/219 [==============================] - 0s 1ms/step - loss: 0.4068 - accuracy: 0.8269\n",
      "Epoch 9/100\n",
      "219/219 [==============================] - 0s 736us/step - loss: 0.4006 - accuracy: 0.8297\n",
      "Epoch 10/100\n",
      "219/219 [==============================] - 0s 834us/step - loss: 0.3942 - accuracy: 0.8324\n",
      "Epoch 11/100\n",
      "219/219 [==============================] - 0s 816us/step - loss: 0.3880 - accuracy: 0.8373\n",
      "Epoch 12/100\n",
      "219/219 [==============================] - 0s 1ms/step - loss: 0.3826 - accuracy: 0.8404\n",
      "Epoch 13/100\n",
      "219/219 [==============================] - 0s 1ms/step - loss: 0.3776 - accuracy: 0.8439\n",
      "Epoch 14/100\n",
      "219/219 [==============================] - 0s 1ms/step - loss: 0.3731 - accuracy: 0.8463\n",
      "Epoch 15/100\n",
      "219/219 [==============================] - 0s 1ms/step - loss: 0.3696 - accuracy: 0.8486\n",
      "Epoch 16/100\n",
      "219/219 [==============================] - 0s 876us/step - loss: 0.3661 - accuracy: 0.8521\n",
      "Epoch 17/100\n",
      "219/219 [==============================] - 0s 1ms/step - loss: 0.3633 - accuracy: 0.8513\n",
      "Epoch 18/100\n",
      "219/219 [==============================] - 0s 1ms/step - loss: 0.3607 - accuracy: 0.8546\n",
      "Epoch 19/100\n",
      "219/219 [==============================] - 0s 990us/step - loss: 0.3588 - accuracy: 0.8549\n",
      "Epoch 20/100\n",
      "219/219 [==============================] - 0s 1ms/step - loss: 0.3568 - accuracy: 0.8564\n",
      "Epoch 21/100\n",
      "219/219 [==============================] - 0s 849us/step - loss: 0.3554 - accuracy: 0.8563\n",
      "Epoch 22/100\n",
      "219/219 [==============================] - 0s 1ms/step - loss: 0.3540 - accuracy: 0.8567\n",
      "Epoch 23/100\n",
      "219/219 [==============================] - 0s 1ms/step - loss: 0.3527 - accuracy: 0.8569\n",
      "Epoch 24/100\n",
      "219/219 [==============================] - 0s 1ms/step - loss: 0.3518 - accuracy: 0.8569\n",
      "Epoch 25/100\n",
      "219/219 [==============================] - 0s 1ms/step - loss: 0.3510 - accuracy: 0.8567\n",
      "Epoch 26/100\n",
      "219/219 [==============================] - 0s 1ms/step - loss: 0.3503 - accuracy: 0.8579\n",
      "Epoch 27/100\n",
      "219/219 [==============================] - 0s 1ms/step - loss: 0.3497 - accuracy: 0.8574\n",
      "Epoch 28/100\n",
      "219/219 [==============================] - 0s 1ms/step - loss: 0.3489 - accuracy: 0.8566\n",
      "Epoch 29/100\n",
      "219/219 [==============================] - 0s 1ms/step - loss: 0.3483 - accuracy: 0.8576\n",
      "Epoch 30/100\n",
      "219/219 [==============================] - 0s 1ms/step - loss: 0.3483 - accuracy: 0.8570\n",
      "Epoch 31/100\n",
      "219/219 [==============================] - 0s 1ms/step - loss: 0.3481 - accuracy: 0.8579\n",
      "Epoch 32/100\n",
      "219/219 [==============================] - 0s 848us/step - loss: 0.3477 - accuracy: 0.8579\n",
      "Epoch 33/100\n",
      "219/219 [==============================] - 0s 838us/step - loss: 0.3471 - accuracy: 0.8567\n",
      "Epoch 34/100\n",
      "219/219 [==============================] - 0s 972us/step - loss: 0.3472 - accuracy: 0.8576\n",
      "Epoch 35/100\n",
      "219/219 [==============================] - 0s 1ms/step - loss: 0.3469 - accuracy: 0.8580\n",
      "Epoch 36/100\n",
      "219/219 [==============================] - 0s 932us/step - loss: 0.3469 - accuracy: 0.8577\n",
      "Epoch 37/100\n",
      "219/219 [==============================] - 0s 837us/step - loss: 0.3463 - accuracy: 0.8576\n",
      "Epoch 38/100\n",
      "219/219 [==============================] - 0s 832us/step - loss: 0.3463 - accuracy: 0.8587\n",
      "Epoch 39/100\n",
      "219/219 [==============================] - 0s 1ms/step - loss: 0.3461 - accuracy: 0.8583\n",
      "Epoch 40/100\n",
      "219/219 [==============================] - 0s 826us/step - loss: 0.3458 - accuracy: 0.8577\n",
      "Epoch 41/100\n",
      "219/219 [==============================] - 0s 834us/step - loss: 0.3460 - accuracy: 0.8569\n",
      "Epoch 42/100\n",
      "219/219 [==============================] - 0s 832us/step - loss: 0.3457 - accuracy: 0.8583\n",
      "Epoch 43/100\n",
      "219/219 [==============================] - 0s 838us/step - loss: 0.3456 - accuracy: 0.8583\n",
      "Epoch 44/100\n",
      "219/219 [==============================] - 0s 858us/step - loss: 0.3454 - accuracy: 0.8599\n",
      "Epoch 45/100\n",
      "219/219 [==============================] - 0s 873us/step - loss: 0.3454 - accuracy: 0.8571\n",
      "Epoch 46/100\n",
      "219/219 [==============================] - 0s 839us/step - loss: 0.3452 - accuracy: 0.8593\n",
      "Epoch 47/100\n",
      "219/219 [==============================] - 0s 894us/step - loss: 0.3450 - accuracy: 0.8573\n",
      "Epoch 48/100\n",
      "219/219 [==============================] - 0s 837us/step - loss: 0.3451 - accuracy: 0.8584\n",
      "Epoch 49/100\n",
      "219/219 [==============================] - 0s 847us/step - loss: 0.3448 - accuracy: 0.8586\n",
      "Epoch 50/100\n",
      "219/219 [==============================] - 0s 842us/step - loss: 0.3445 - accuracy: 0.8586\n",
      "Epoch 51/100\n",
      "219/219 [==============================] - 0s 881us/step - loss: 0.3445 - accuracy: 0.8573\n",
      "Epoch 52/100\n",
      "219/219 [==============================] - 0s 908us/step - loss: 0.3449 - accuracy: 0.8577\n",
      "Epoch 53/100\n",
      "219/219 [==============================] - 0s 1ms/step - loss: 0.3445 - accuracy: 0.8600\n",
      "Epoch 54/100\n",
      "219/219 [==============================] - 0s 1ms/step - loss: 0.3446 - accuracy: 0.8589\n",
      "Epoch 55/100\n",
      "219/219 [==============================] - 0s 1ms/step - loss: 0.3445 - accuracy: 0.8579\n",
      "Epoch 56/100\n",
      "219/219 [==============================] - 0s 1ms/step - loss: 0.3443 - accuracy: 0.8573\n",
      "Epoch 57/100\n",
      "219/219 [==============================] - 0s 1ms/step - loss: 0.3442 - accuracy: 0.8577\n",
      "Epoch 58/100\n",
      "219/219 [==============================] - 0s 1ms/step - loss: 0.3441 - accuracy: 0.8579\n",
      "Epoch 59/100\n",
      "219/219 [==============================] - 0s 795us/step - loss: 0.3443 - accuracy: 0.8583\n",
      "Epoch 60/100\n",
      "219/219 [==============================] - 0s 746us/step - loss: 0.3442 - accuracy: 0.8586\n",
      "Epoch 61/100\n",
      "219/219 [==============================] - 0s 835us/step - loss: 0.3440 - accuracy: 0.8590\n",
      "Epoch 62/100\n",
      "219/219 [==============================] - 0s 1ms/step - loss: 0.3438 - accuracy: 0.8570\n",
      "Epoch 63/100\n",
      "219/219 [==============================] - 0s 853us/step - loss: 0.3438 - accuracy: 0.8581\n",
      "Epoch 64/100\n",
      "219/219 [==============================] - 0s 878us/step - loss: 0.3436 - accuracy: 0.8610\n",
      "Epoch 65/100\n",
      "219/219 [==============================] - 0s 711us/step - loss: 0.3435 - accuracy: 0.8577\n",
      "Epoch 66/100\n",
      "219/219 [==============================] - 0s 1ms/step - loss: 0.3436 - accuracy: 0.8593\n",
      "Epoch 67/100\n",
      "219/219 [==============================] - 0s 732us/step - loss: 0.3433 - accuracy: 0.8584\n",
      "Epoch 68/100\n",
      "219/219 [==============================] - 0s 760us/step - loss: 0.3436 - accuracy: 0.8584\n",
      "Epoch 69/100\n",
      "219/219 [==============================] - 0s 766us/step - loss: 0.3436 - accuracy: 0.8589\n",
      "Epoch 70/100\n",
      "219/219 [==============================] - 0s 771us/step - loss: 0.3433 - accuracy: 0.8594\n",
      "Epoch 71/100\n",
      "219/219 [==============================] - 0s 831us/step - loss: 0.3435 - accuracy: 0.8576\n",
      "Epoch 72/100\n",
      "219/219 [==============================] - 0s 759us/step - loss: 0.3432 - accuracy: 0.8590\n",
      "Epoch 73/100\n",
      "219/219 [==============================] - 0s 769us/step - loss: 0.3431 - accuracy: 0.8590\n",
      "Epoch 74/100\n",
      "219/219 [==============================] - 0s 754us/step - loss: 0.3430 - accuracy: 0.8586\n",
      "Epoch 75/100\n",
      "219/219 [==============================] - 0s 800us/step - loss: 0.3433 - accuracy: 0.8590\n",
      "Epoch 76/100\n",
      "219/219 [==============================] - 0s 723us/step - loss: 0.3431 - accuracy: 0.8607\n",
      "Epoch 77/100\n",
      "219/219 [==============================] - 0s 760us/step - loss: 0.3429 - accuracy: 0.8597\n",
      "Epoch 78/100\n",
      "219/219 [==============================] - 0s 766us/step - loss: 0.3427 - accuracy: 0.8599\n",
      "Epoch 79/100\n",
      "219/219 [==============================] - 0s 767us/step - loss: 0.3430 - accuracy: 0.8587\n",
      "Epoch 80/100\n",
      "219/219 [==============================] - 0s 765us/step - loss: 0.3428 - accuracy: 0.8581\n",
      "Epoch 81/100\n",
      "219/219 [==============================] - 0s 764us/step - loss: 0.3426 - accuracy: 0.8587\n",
      "Epoch 82/100\n",
      "219/219 [==============================] - 0s 836us/step - loss: 0.3427 - accuracy: 0.8579\n",
      "Epoch 83/100\n",
      "219/219 [==============================] - 0s 758us/step - loss: 0.3428 - accuracy: 0.8584\n",
      "Epoch 84/100\n",
      "219/219 [==============================] - 0s 762us/step - loss: 0.3427 - accuracy: 0.8584\n",
      "Epoch 85/100\n",
      "219/219 [==============================] - 0s 764us/step - loss: 0.3426 - accuracy: 0.8581\n",
      "Epoch 86/100\n",
      "219/219 [==============================] - 0s 762us/step - loss: 0.3426 - accuracy: 0.8590\n",
      "Epoch 87/100\n",
      "219/219 [==============================] - 0s 761us/step - loss: 0.3424 - accuracy: 0.8581\n",
      "Epoch 88/100\n",
      "219/219 [==============================] - 0s 759us/step - loss: 0.3425 - accuracy: 0.8590\n",
      "Epoch 89/100\n",
      "219/219 [==============================] - 0s 925us/step - loss: 0.3423 - accuracy: 0.8579\n",
      "Epoch 90/100\n",
      "219/219 [==============================] - 0s 1ms/step - loss: 0.3425 - accuracy: 0.8587\n",
      "Epoch 91/100\n",
      "219/219 [==============================] - 0s 892us/step - loss: 0.3424 - accuracy: 0.8591\n",
      "Epoch 92/100\n",
      "219/219 [==============================] - 0s 884us/step - loss: 0.3422 - accuracy: 0.8589\n",
      "Epoch 93/100\n",
      "219/219 [==============================] - 0s 757us/step - loss: 0.3422 - accuracy: 0.8583\n",
      "Epoch 94/100\n",
      "219/219 [==============================] - 0s 759us/step - loss: 0.3423 - accuracy: 0.8580\n",
      "Epoch 95/100\n",
      "219/219 [==============================] - 0s 765us/step - loss: 0.3422 - accuracy: 0.8589\n",
      "Epoch 96/100\n",
      "219/219 [==============================] - 0s 788us/step - loss: 0.3421 - accuracy: 0.8596\n",
      "Epoch 97/100\n",
      "219/219 [==============================] - 0s 769us/step - loss: 0.3421 - accuracy: 0.8580\n",
      "Epoch 98/100\n",
      "219/219 [==============================] - 0s 762us/step - loss: 0.3420 - accuracy: 0.8600\n",
      "Epoch 99/100\n",
      "219/219 [==============================] - 0s 813us/step - loss: 0.3424 - accuracy: 0.8584\n",
      "Epoch 100/100\n",
      "219/219 [==============================] - 0s 916us/step - loss: 0.3421 - accuracy: 0.8594\n"
     ]
    },
    {
     "data": {
      "text/plain": [
       "<keras.callbacks.History at 0x2830fb9e8e0>"
      ]
     },
     "execution_count": 164,
     "metadata": {},
     "output_type": "execute_result"
    }
   ],
   "source": [
    "model_2.fit(scaled_x_train,y_train,epochs=100)"
   ]
  },
  {
   "cell_type": "code",
   "execution_count": 165,
   "id": "9c379fe1",
   "metadata": {},
   "outputs": [
    {
     "name": "stdout",
     "output_type": "stream",
     "text": [
      "94/94 [==============================] - 0s 638us/step\n"
     ]
    }
   ],
   "source": [
    "y_pred_2 = model_2.predict(scaled_x_test)"
   ]
  },
  {
   "cell_type": "code",
   "execution_count": 166,
   "id": "ae940f7a",
   "metadata": {},
   "outputs": [
    {
     "data": {
      "text/plain": [
       "array([[False],\n",
       "       [False],\n",
       "       [False],\n",
       "       ...,\n",
       "       [False],\n",
       "       [ True],\n",
       "       [ True]])"
      ]
     },
     "execution_count": 166,
     "metadata": {},
     "output_type": "execute_result"
    }
   ],
   "source": [
    "y_pred_2 = (y_ped_2  > 0.5)\n",
    "y_pred_2"
   ]
  },
  {
   "cell_type": "code",
   "execution_count": 167,
   "id": "3544c576",
   "metadata": {},
   "outputs": [
    {
     "name": "stdout",
     "output_type": "stream",
     "text": [
      "94/94 [==============================] - 0s 809us/step - loss: 0.3301 - accuracy: 0.8633\n"
     ]
    },
    {
     "data": {
      "text/plain": [
       "[0.33013269305229187, 0.8633333444595337]"
      ]
     },
     "execution_count": 167,
     "metadata": {},
     "output_type": "execute_result"
    }
   ],
   "source": [
    "model_2.evaluate(scaled_x_test,y_test)"
   ]
  },
  {
   "cell_type": "code",
   "execution_count": 175,
   "id": "87285a09",
   "metadata": {},
   "outputs": [],
   "source": [
    "from sklearn.metrics import confusion_matrix,plot_confusion_matrix"
   ]
  },
  {
   "cell_type": "code",
   "execution_count": 169,
   "id": "738387e4",
   "metadata": {},
   "outputs": [
    {
     "data": {
      "text/plain": [
       "array([[2271,  107],\n",
       "       [ 311,  311]], dtype=int64)"
      ]
     },
     "execution_count": 169,
     "metadata": {},
     "output_type": "execute_result"
    }
   ],
   "source": [
    "con = confusion_matrix(y_test,y_pred_2)\n",
    "con"
   ]
  },
  {
   "cell_type": "code",
   "execution_count": null,
   "id": "493e0aab",
   "metadata": {},
   "outputs": [],
   "source": []
  }
 ],
 "metadata": {
  "kernelspec": {
   "display_name": "Python 3 (ipykernel)",
   "language": "python",
   "name": "python3"
  },
  "language_info": {
   "codemirror_mode": {
    "name": "ipython",
    "version": 3
   },
   "file_extension": ".py",
   "mimetype": "text/x-python",
   "name": "python",
   "nbconvert_exporter": "python",
   "pygments_lexer": "ipython3",
   "version": "3.9.12"
  }
 },
 "nbformat": 4,
 "nbformat_minor": 5
}
